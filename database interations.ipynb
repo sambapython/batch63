{
 "cells": [
  {
   "cell_type": "code",
   "execution_count": 1,
   "metadata": {},
   "outputs": [],
   "source": [
    "import sqlite3"
   ]
  },
  {
   "cell_type": "code",
   "execution_count": 2,
   "metadata": {},
   "outputs": [
    {
     "data": {
      "text/plain": [
       "<sqlite3.Connection at 0x7fc805291e30>"
      ]
     },
     "execution_count": 2,
     "metadata": {},
     "output_type": "execute_result"
    }
   ],
   "source": [
    "sqlite3.connect(\"db1.sqlite3\")"
   ]
  },
  {
   "cell_type": "code",
   "execution_count": 3,
   "metadata": {},
   "outputs": [
    {
     "data": {
      "text/plain": [
       "<sqlite3.Cursor at 0x7fc8052079d0>"
      ]
     },
     "execution_count": 3,
     "metadata": {},
     "output_type": "execute_result"
    }
   ],
   "source": [
    "q=\"create table customer(id int, name varchar(250))\"\n",
    "con = sqlite3.connect(\"db1.sqlite3\")\n",
    "cur=con.cursor()\n",
    "cur.execute(q)"
   ]
  },
  {
   "cell_type": "code",
   "execution_count": 4,
   "metadata": {},
   "outputs": [
    {
     "data": {
      "text/plain": [
       "<sqlite3.Cursor at 0x7fc8052079d0>"
      ]
     },
     "execution_count": 4,
     "metadata": {},
     "output_type": "execute_result"
    }
   ],
   "source": [
    "q=\"insert into customer(id, name) values(1,'jay')\"\n",
    "cur.execute(q)\n"
   ]
  },
  {
   "cell_type": "code",
   "execution_count": 5,
   "metadata": {},
   "outputs": [],
   "source": [
    "con.commit()"
   ]
  },
  {
   "cell_type": "code",
   "execution_count": 6,
   "metadata": {},
   "outputs": [],
   "source": [
    "names=[\"jaganath\",\"mounika\",\"vishal\",\"samba\"]\n",
    "import random\n",
    "for i in range(2,102):\n",
    "    q=\"insert into customer(id,name) values(%s,'%s')\"%(i,random.choice(names))\n",
    "    cur.execute(q)\n",
    "    con.commit()"
   ]
  },
  {
   "cell_type": "code",
   "execution_count": 7,
   "metadata": {},
   "outputs": [],
   "source": [
    "q=\"update customer set name='jayaram' where id=1\"\n",
    "cur.execute(q)\n",
    "con.commit()"
   ]
  },
  {
   "cell_type": "code",
   "execution_count": 9,
   "metadata": {},
   "outputs": [],
   "source": [
    "q=\"delete from customer where id=1\"\n",
    "cur.execute(q)\n",
    "con.commit()"
   ]
  },
  {
   "cell_type": "code",
   "execution_count": 10,
   "metadata": {},
   "outputs": [
    {
     "data": {
      "text/plain": [
       "<sqlite3.Cursor at 0x7fc8052079d0>"
      ]
     },
     "execution_count": 10,
     "metadata": {},
     "output_type": "execute_result"
    }
   ],
   "source": [
    "q=\"select * from customer\"\n",
    "cur.execute(q)"
   ]
  },
  {
   "cell_type": "code",
   "execution_count": 11,
   "metadata": {},
   "outputs": [],
   "source": [
    "data = cur.fetchall()"
   ]
  },
  {
   "cell_type": "code",
   "execution_count": 12,
   "metadata": {},
   "outputs": [
    {
     "data": {
      "text/plain": [
       "[(2, 'vishal'),\n",
       " (3, 'jaganath'),\n",
       " (4, 'samba'),\n",
       " (5, 'samba'),\n",
       " (6, 'vishal'),\n",
       " (7, 'vishal'),\n",
       " (8, 'samba'),\n",
       " (9, 'vishal'),\n",
       " (10, 'jaganath'),\n",
       " (11, 'vishal'),\n",
       " (12, 'vishal'),\n",
       " (13, 'mounika'),\n",
       " (14, 'vishal'),\n",
       " (15, 'samba'),\n",
       " (16, 'jaganath'),\n",
       " (17, 'samba'),\n",
       " (18, 'jaganath'),\n",
       " (19, 'vishal'),\n",
       " (20, 'vishal'),\n",
       " (21, 'samba'),\n",
       " (22, 'samba'),\n",
       " (23, 'samba'),\n",
       " (24, 'samba'),\n",
       " (25, 'mounika'),\n",
       " (26, 'vishal'),\n",
       " (27, 'samba'),\n",
       " (28, 'mounika'),\n",
       " (29, 'mounika'),\n",
       " (30, 'vishal'),\n",
       " (31, 'mounika'),\n",
       " (32, 'vishal'),\n",
       " (33, 'mounika'),\n",
       " (34, 'vishal'),\n",
       " (35, 'mounika'),\n",
       " (36, 'mounika'),\n",
       " (37, 'mounika'),\n",
       " (38, 'vishal'),\n",
       " (39, 'jaganath'),\n",
       " (40, 'vishal'),\n",
       " (41, 'jaganath'),\n",
       " (42, 'samba'),\n",
       " (43, 'mounika'),\n",
       " (44, 'vishal'),\n",
       " (45, 'mounika'),\n",
       " (46, 'jaganath'),\n",
       " (47, 'mounika'),\n",
       " (48, 'jaganath'),\n",
       " (49, 'jaganath'),\n",
       " (50, 'jaganath'),\n",
       " (51, 'mounika'),\n",
       " (52, 'jaganath'),\n",
       " (53, 'jaganath'),\n",
       " (54, 'mounika'),\n",
       " (55, 'vishal'),\n",
       " (56, 'samba'),\n",
       " (57, 'mounika'),\n",
       " (58, 'samba'),\n",
       " (59, 'samba'),\n",
       " (60, 'mounika'),\n",
       " (61, 'mounika'),\n",
       " (62, 'vishal'),\n",
       " (63, 'mounika'),\n",
       " (64, 'jaganath'),\n",
       " (65, 'samba'),\n",
       " (66, 'vishal'),\n",
       " (67, 'mounika'),\n",
       " (68, 'samba'),\n",
       " (69, 'jaganath'),\n",
       " (70, 'jaganath'),\n",
       " (71, 'jaganath'),\n",
       " (72, 'mounika'),\n",
       " (73, 'mounika'),\n",
       " (74, 'samba'),\n",
       " (75, 'vishal'),\n",
       " (76, 'vishal'),\n",
       " (77, 'mounika'),\n",
       " (78, 'samba'),\n",
       " (79, 'jaganath'),\n",
       " (80, 'vishal'),\n",
       " (81, 'vishal'),\n",
       " (82, 'samba'),\n",
       " (83, 'jaganath'),\n",
       " (84, 'mounika'),\n",
       " (85, 'samba'),\n",
       " (86, 'samba'),\n",
       " (87, 'jaganath'),\n",
       " (88, 'vishal'),\n",
       " (89, 'jaganath'),\n",
       " (90, 'samba'),\n",
       " (91, 'vishal'),\n",
       " (92, 'samba'),\n",
       " (93, 'samba'),\n",
       " (94, 'samba'),\n",
       " (95, 'vishal'),\n",
       " (96, 'samba'),\n",
       " (97, 'samba'),\n",
       " (98, 'mounika'),\n",
       " (99, 'mounika'),\n",
       " (100, 'samba'),\n",
       " (101, 'vishal')]"
      ]
     },
     "execution_count": 12,
     "metadata": {},
     "output_type": "execute_result"
    }
   ],
   "source": [
    "data"
   ]
  },
  {
   "cell_type": "code",
   "execution_count": 13,
   "metadata": {},
   "outputs": [
    {
     "name": "stdout",
     "output_type": "stream",
     "text": [
      "[(20, 'jaganath'), (25, 'mounika'), (27, 'vishal'), (28, 'samba')]\n"
     ]
    }
   ],
   "source": [
    "q=\"select count(*) as c, name from customer group by(name) order by c\"\n",
    "cur.execute(q)\n",
    "print(cur.fetchall())"
   ]
  },
  {
   "cell_type": "code",
   "execution_count": 14,
   "metadata": {},
   "outputs": [],
   "source": [
    "import psycopg2"
   ]
  },
  {
   "cell_type": "code",
   "execution_count": 15,
   "metadata": {},
   "outputs": [],
   "source": [
    "con = psycopg2.connect(user=\"postgres\",password=\"root\",host=\"localhost\",port=5432,database=\"batch63\")"
   ]
  },
  {
   "cell_type": "code",
   "execution_count": 16,
   "metadata": {},
   "outputs": [],
   "source": [
    "cur = con.cursor()"
   ]
  },
  {
   "cell_type": "code",
   "execution_count": 17,
   "metadata": {},
   "outputs": [],
   "source": [
    "q=\"create table customer(id int, name varchar(250))\"\n",
    "cur.execute(q)\n",
    "names=[\"jaganath\",\"mounika\",\"vishal\",\"samba\"]\n",
    "import random\n",
    "for i in range(100):\n",
    "    q=\"insert into customer(id,name) values(%s,'%s')\"%(i,random.choice(names))\n",
    "    cur.execute(q)\n",
    "    con.commit()"
   ]
  },
  {
   "cell_type": "code",
   "execution_count": null,
   "metadata": {},
   "outputs": [],
   "source": []
  }
 ],
 "metadata": {
  "kernelspec": {
   "display_name": "Python 3",
   "language": "python",
   "name": "python3"
  },
  "language_info": {
   "codemirror_mode": {
    "name": "ipython",
    "version": 3
   },
   "file_extension": ".py",
   "mimetype": "text/x-python",
   "name": "python",
   "nbconvert_exporter": "python",
   "pygments_lexer": "ipython3",
   "version": "3.7.0"
  }
 },
 "nbformat": 4,
 "nbformat_minor": 2
}
