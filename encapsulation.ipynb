{
 "cells": [
  {
   "cell_type": "code",
   "execution_count": 1,
   "metadata": {},
   "outputs": [
    {
     "name": "stdout",
     "output_type": "stream",
     "text": [
      "44000.0\n"
     ]
    }
   ],
   "source": [
    "class Emp:\n",
    "    def __init__(self,name,e_id,sal,incp):\n",
    "        self.name=name\n",
    "        self.id=e_id\n",
    "        self.sal=sal\n",
    "        self.incp=incp\n",
    "    def sal_cal(self):\n",
    "        return self.sal+self.sal*self.incp/100\n",
    "jay=Emp(\"Jayaram\",123,40000,10)\n",
    "print(jay.sal_cal())"
   ]
  },
  {
   "cell_type": "code",
   "execution_count": 2,
   "metadata": {},
   "outputs": [
    {
     "name": "stdout",
     "output_type": "stream",
     "text": [
      "80000.0\n"
     ]
    }
   ],
   "source": [
    "class Emp:\n",
    "    def __init__(self,name,e_id,sal,incp):\n",
    "        self.name=name\n",
    "        self.id=e_id\n",
    "        self.sal=sal\n",
    "        self.incp=incp\n",
    "    def sal_cal(self):\n",
    "        return self.sal+self.sal*self.incp/100\n",
    "jay=Emp(\"Jayaram\",123,40000,10)\n",
    "jay.incp=100\n",
    "print(jay.sal_cal())"
   ]
  },
  {
   "cell_type": "code",
   "execution_count": 4,
   "metadata": {},
   "outputs": [
    {
     "name": "stdout",
     "output_type": "stream",
     "text": [
      "44000.0\n"
     ]
    }
   ],
   "source": [
    "class Emp:\n",
    "    def __init__(self,name,e_id,sal,incp):\n",
    "        self.name=name\n",
    "        self.id=e_id\n",
    "        self.sal=sal\n",
    "        self.__incp=incp #secured attribute\n",
    "    def sal_cal(self):\n",
    "        return self.sal+self.sal*self.__incp/100\n",
    "jay=Emp(\"Jayaram\",123,40000,10)\n",
    "jay.__incp=100\n",
    "print(jay.sal_cal())"
   ]
  },
  {
   "cell_type": "code",
   "execution_count": 6,
   "metadata": {},
   "outputs": [
    {
     "name": "stdout",
     "output_type": "stream",
     "text": [
      "80000.0\n"
     ]
    }
   ],
   "source": [
    "class Emp:\n",
    "    def __init__(self,name,e_id,sal,incp):\n",
    "        self.name=name\n",
    "        self.id=e_id\n",
    "        self.sal=sal\n",
    "        self.__incp=incp #secured attribute\n",
    "    def update_per(self,new_per):\n",
    "        self.__incp=new_per\n",
    "    def sal_cal(self):\n",
    "        return self.sal+self.sal*self.__incp/100\n",
    "jay=Emp(\"Jayaram\",123,40000,10)\n",
    "#jay.__incp=100\n",
    "jay.update_per(100)\n",
    "print(jay.sal_cal())"
   ]
  },
  {
   "cell_type": "code",
   "execution_count": 7,
   "metadata": {},
   "outputs": [
    {
     "ename": "AttributeError",
     "evalue": "'Emp' object has no attribute '__update_per'",
     "output_type": "error",
     "traceback": [
      "\u001b[0;31m---------------------------------------------------------------------------\u001b[0m",
      "\u001b[0;31mAttributeError\u001b[0m                            Traceback (most recent call last)",
      "\u001b[0;32m<ipython-input-7-54223c928b61>\u001b[0m in \u001b[0;36m<module>\u001b[0;34m()\u001b[0m\n\u001b[1;32m     11\u001b[0m \u001b[0mjay\u001b[0m\u001b[0;34m=\u001b[0m\u001b[0mEmp\u001b[0m\u001b[0;34m(\u001b[0m\u001b[0;34m\"Jayaram\"\u001b[0m\u001b[0;34m,\u001b[0m\u001b[0;36m123\u001b[0m\u001b[0;34m,\u001b[0m\u001b[0;36m40000\u001b[0m\u001b[0;34m,\u001b[0m\u001b[0;36m10\u001b[0m\u001b[0;34m)\u001b[0m\u001b[0;34m\u001b[0m\u001b[0m\n\u001b[1;32m     12\u001b[0m \u001b[0;31m#jay.__incp=100\u001b[0m\u001b[0;34m\u001b[0m\u001b[0;34m\u001b[0m\u001b[0m\n\u001b[0;32m---> 13\u001b[0;31m \u001b[0mjay\u001b[0m\u001b[0;34m.\u001b[0m\u001b[0m__update_per\u001b[0m\u001b[0;34m(\u001b[0m\u001b[0;36m100\u001b[0m\u001b[0;34m)\u001b[0m\u001b[0;34m\u001b[0m\u001b[0m\n\u001b[0m\u001b[1;32m     14\u001b[0m \u001b[0mprint\u001b[0m\u001b[0;34m(\u001b[0m\u001b[0mjay\u001b[0m\u001b[0;34m.\u001b[0m\u001b[0msal_cal\u001b[0m\u001b[0;34m(\u001b[0m\u001b[0;34m)\u001b[0m\u001b[0;34m)\u001b[0m\u001b[0;34m\u001b[0m\u001b[0m\n",
      "\u001b[0;31mAttributeError\u001b[0m: 'Emp' object has no attribute '__update_per'"
     ]
    }
   ],
   "source": [
    "class Emp:\n",
    "    def __init__(self,name,e_id,sal,incp):\n",
    "        self.name=name\n",
    "        self.id=e_id\n",
    "        self.sal=sal\n",
    "        self.__incp=incp #secured attribute\n",
    "    def __update_per(self,new_per): # secured method\n",
    "        self.__incp=new_per\n",
    "    def sal_cal(self):\n",
    "        return self.sal+self.sal*self.__incp/100\n",
    "jay=Emp(\"Jayaram\",123,40000,10)\n",
    "#jay.__incp=100\n",
    "jay.__update_per(100)\n",
    "print(jay.sal_cal())"
   ]
  },
  {
   "cell_type": "code",
   "execution_count": 8,
   "metadata": {},
   "outputs": [
    {
     "name": "stdout",
     "output_type": "stream",
     "text": [
      "check whetehr the emp has a rights to modify it\n",
      "80000.0\n"
     ]
    }
   ],
   "source": [
    "class Emp:\n",
    "    def __init__(self,name,e_id,sal,incp):\n",
    "        self.name=name\n",
    "        self.id=e_id\n",
    "        self.sal=sal\n",
    "        self.__incp=incp #secured attribute\n",
    "    def update_incp(self, new_per):\n",
    "        print(\"check whetehr the emp has a rights to modify it\")\n",
    "        self.__update_per(new_per)\n",
    "    def __update_per(self,new_per): # secured method\n",
    "        self.__incp=new_per\n",
    "    def sal_cal(self):\n",
    "        return self.sal+self.sal*self.__incp/100\n",
    "jay=Emp(\"Jayaram\",123,40000,10)\n",
    "#jay.__incp=100\n",
    "jay.update_incp(100)\n",
    "print(jay.sal_cal())"
   ]
  },
  {
   "cell_type": "code",
   "execution_count": 11,
   "metadata": {},
   "outputs": [
    {
     "name": "stdout",
     "output_type": "stream",
     "text": [
      "44000.0\n"
     ]
    }
   ],
   "source": [
    "class Emp:\n",
    "    def __init__(self,name,e_id,sal,incp,role=\"EMP\"):\n",
    "        self.name=name\n",
    "        self.id=e_id\n",
    "        self.sal=sal\n",
    "        self.__incp=incp #secured attribute\n",
    "        self.role=role\n",
    "    def update_incp(self, new_per):\n",
    "        #print(\"check whetehr the emp has a rights to modify it\")\n",
    "        if self.role==\"manager\":\n",
    "            self.__update_per(new_per)\n",
    "    def __update_per(self,new_per): # secured method\n",
    "        self.__incp=new_per\n",
    "    def sal_cal(self):\n",
    "        return self.sal+self.sal*self.__incp/100\n",
    "jay=Emp(\"Jayaram\",123,40000,10)\n",
    "#jay.__incp=100\n",
    "jay.update_incp(100)\n",
    "print(jay.sal_cal())"
   ]
  },
  {
   "cell_type": "code",
   "execution_count": 12,
   "metadata": {},
   "outputs": [
    {
     "name": "stdout",
     "output_type": "stream",
     "text": [
      "80000.0\n"
     ]
    }
   ],
   "source": [
    "class Emp:\n",
    "    def __init__(self,name,e_id,sal,incp,role=\"EMP\"):\n",
    "        self.name=name\n",
    "        self.id=e_id\n",
    "        self.sal=sal\n",
    "        self.__incp=incp #secured attribute\n",
    "        self.role=role\n",
    "    def update_incp(self, new_per):\n",
    "        #print(\"check whetehr the emp has a rights to modify it\")\n",
    "        if self.role==\"manager\":\n",
    "            self.__update_per(new_per)\n",
    "    def __update_per(self,new_per): # secured method\n",
    "        self.__incp=new_per\n",
    "    def sal_cal(self):\n",
    "        return self.sal+self.sal*self.__incp/100\n",
    "jay=Emp(\"Jayaram\",123,40000,10,\"manager\")\n",
    "#jay.__incp=100\n",
    "jay.update_incp(100)\n",
    "print(jay.sal_cal())"
   ]
  },
  {
   "cell_type": "code",
   "execution_count": 13,
   "metadata": {},
   "outputs": [
    {
     "name": "stdout",
     "output_type": "stream",
     "text": [
      "10\n",
      "44000.0\n"
     ]
    }
   ],
   "source": [
    "class Emp:\n",
    "    def __init__(self,name,e_id,sal,incp,role=\"EMP\"):\n",
    "        self.name=name\n",
    "        self.id=e_id\n",
    "        self.sal=sal\n",
    "        self.__incp=incp #secured attribute\n",
    "        self.role=role\n",
    "    def update_incp(self, new_per):\n",
    "        #print(\"check whetehr the emp has a rights to modify it\")\n",
    "        if self.role==\"manager\":\n",
    "            self.__update_per(new_per)\n",
    "    def __update_per(self,new_per): # secured method\n",
    "        self.__incp=new_per\n",
    "    def sal_cal(self):\n",
    "        print(self.__incp)\n",
    "        return self.sal+self.sal*self.__incp/100\n",
    "jay=Emp(\"Jayaram\",123,40000,10,\"manager\")\n",
    "jay.__incp=100\n",
    "#jay.update_incp(100)\n",
    "print(jay.sal_cal())"
   ]
  },
  {
   "cell_type": "code",
   "execution_count": 15,
   "metadata": {},
   "outputs": [
    {
     "name": "stdout",
     "output_type": "stream",
     "text": [
      "100\n",
      "80000.0\n"
     ]
    }
   ],
   "source": [
    "class Emp:\n",
    "    def __init__(self,name,e_id,sal,incp,role=\"EMP\"):\n",
    "        self.name=name\n",
    "        self.id=e_id\n",
    "        self.sal=sal\n",
    "        self.__incp__=incp #secured attribute\n",
    "        self.role=role\n",
    "    def update_incp(self, new_per):\n",
    "        #print(\"check whetehr the emp has a rights to modify it\")\n",
    "        if self.role==\"manager\":\n",
    "            self.__update_per(new_per)\n",
    "    def __update_per(self,new_per): # secured method\n",
    "        self.__incp__=new_per\n",
    "    def sal_cal(self):\n",
    "        print(self.__incp__)\n",
    "        return self.sal+self.sal*self.__incp__/100\n",
    "jay=Emp(\"Jayaram\",123,40000,10,\"manager\")\n",
    "jay.__incp__=100\n",
    "#jay.update_incp(100)\n",
    "print(jay.sal_cal())"
   ]
  },
  {
   "cell_type": "code",
   "execution_count": null,
   "metadata": {},
   "outputs": [],
   "source": []
  }
 ],
 "metadata": {
  "kernelspec": {
   "display_name": "Python 3",
   "language": "python",
   "name": "python3"
  },
  "language_info": {
   "codemirror_mode": {
    "name": "ipython",
    "version": 3
   },
   "file_extension": ".py",
   "mimetype": "text/x-python",
   "name": "python",
   "nbconvert_exporter": "python",
   "pygments_lexer": "ipython3",
   "version": "3.7.0"
  }
 },
 "nbformat": 4,
 "nbformat_minor": 2
}
