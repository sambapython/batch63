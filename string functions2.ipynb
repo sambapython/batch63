{
 "cells": [
  {
   "cell_type": "code",
   "execution_count": 1,
   "metadata": {},
   "outputs": [
    {
     "name": "stdout",
     "output_type": "stream",
     "text": [
      "['a', 'p', 'p', 'l', 'e', ';', 'o', 'r', 'a', 'n', 'g', 'e', ';', 'g', 'r', 'a', 'p', 'e', ';', 'm', 'a', 'n', 'g', 'o', ';', 'a', 'p', 'p', 'l', 'e', ';', 'o', 'r', 'a', 'n', 'g', 'e', ';', 'g', 'r', 'a', 'p', 'e', ';', 'm', 'a', 'n', 'g', 'o']\n"
     ]
    }
   ],
   "source": [
    "s=\"apple;orange;grape;mango;apple;orange;grape;mango\"\n",
    "print (list(s))\n"
   ]
  },
  {
   "cell_type": "code",
   "execution_count": 2,
   "metadata": {},
   "outputs": [
    {
     "name": "stdout",
     "output_type": "stream",
     "text": [
      "['a', 'p', 'p', 'l', 'e', ';', 'o', 'r', 'a', 'n', 'g', 'e', ';', 'g', 'r', 'a', 'p', 'e', ';', 'm', 'a', 'n', 'g', 'o', ';', 'a', 'p', 'p', 'l', 'e', ';', 'o', 'r', 'a', 'n', 'g', 'e', ';', 'g', 'r', 'a', 'p', 'e', ';', 'm', 'a', 'n', 'g', 'o']\n",
      "['apple', 'orange', 'grape', 'mango', 'apple', 'orange', 'grape', 'mango']\n",
      "['apple', 'orange', 'grape', 'mango', 'apple', 'orange', 'grape', 'mango']\n",
      "('apple', ';', 'orange;grape;mango;apple;orange;grape;mango')\n",
      "('apple;orange;grape;mango;apple;orange;grape', ';', 'mango')\n"
     ]
    }
   ],
   "source": [
    "s=\"apple;orange;grape;mango;apple;orange;grape;mango\"\n",
    "print (list(s))\n",
    "print(s.split(\";\"))\n",
    "print(s.rsplit(\";\"))\n",
    "print(s.partition(\";\"))\n",
    "print(s.rpartition(\";\"))"
   ]
  },
  {
   "cell_type": "code",
   "execution_count": 3,
   "metadata": {},
   "outputs": [
    {
     "name": "stdout",
     "output_type": "stream",
     "text": [
      "['apple;orange;grape;mango;apple;orange;grape;mango']\n",
      "['apple;orange;grape;mango;apple;orange;grape;mango']\n"
     ]
    }
   ],
   "source": [
    "s=\"apple;orange;grape;mango;apple;orange;grape;mango\"\n",
    "print(s.split(\" \"))\n",
    "print(s.rsplit(\" \"))"
   ]
  },
  {
   "cell_type": "code",
   "execution_count": 4,
   "metadata": {},
   "outputs": [
    {
     "name": "stdout",
     "output_type": "stream",
     "text": [
      "['apple', 'orange', 'grape', 'mango', 'apple', 'orange', 'grape', 'mango']\n",
      "['apple', 'orange', 'grape', 'mango', 'apple', 'orange', 'grape', 'mango']\n"
     ]
    }
   ],
   "source": [
    "s=\"apple;orange;grape;mango;apple;orange;grape;mango\"\n",
    "print(s.split(\";\"))\n",
    "print(s.rsplit(\";\"))"
   ]
  },
  {
   "cell_type": "code",
   "execution_count": 5,
   "metadata": {},
   "outputs": [
    {
     "name": "stdout",
     "output_type": "stream",
     "text": [
      "['apple', 'orange', 'grape;mango;apple;orange;grape;mango']\n",
      "['apple;orange;grape;mango;apple;orange', 'grape', 'mango']\n"
     ]
    }
   ],
   "source": [
    "s=\"apple;orange;grape;mango;apple;orange;grape;mango\"\n",
    "print(s.split(\";\",2))\n",
    "print(s.rsplit(\";\",2))"
   ]
  },
  {
   "cell_type": "code",
   "execution_count": 7,
   "metadata": {},
   "outputs": [
    {
     "name": "stdout",
     "output_type": "stream",
     "text": [
      "['apple', 'orange', 'grape', 'mango', 'apple', 'orange', 'grape', 'mango'] <class 'str'>\n"
     ]
    }
   ],
   "source": [
    "s=['apple', 'orange', 'grape', 'mango', 'apple', 'orange', 'grape', 'mango']\n",
    "s1=str(s)\n",
    "print(s1,type(s1))"
   ]
  },
  {
   "cell_type": "code",
   "execution_count": 8,
   "metadata": {},
   "outputs": [
    {
     "name": "stdout",
     "output_type": "stream",
     "text": [
      "appleorangegrapemangoappleorangegrapemango <class 'str'>\n"
     ]
    }
   ],
   "source": [
    "s=['apple', 'orange', 'grape', 'mango', 'apple', 'orange', 'grape', 'mango']\n",
    "s1=\"\".join(s)\n",
    "print(s1,type(s1))"
   ]
  },
  {
   "cell_type": "code",
   "execution_count": 9,
   "metadata": {},
   "outputs": [
    {
     "name": "stdout",
     "output_type": "stream",
     "text": [
      "apple orange grape mango apple orange grape mango <class 'str'>\n"
     ]
    }
   ],
   "source": [
    "s=['apple', 'orange', 'grape', 'mango', 'apple', 'orange', 'grape', 'mango']\n",
    "s1=\" \".join(s)\n",
    "print(s1,type(s1))"
   ]
  },
  {
   "cell_type": "code",
   "execution_count": 10,
   "metadata": {},
   "outputs": [
    {
     "ename": "TypeError",
     "evalue": "sequence item 8: expected str instance, int found",
     "output_type": "error",
     "traceback": [
      "\u001b[0;31m---------------------------------------------------------------------------\u001b[0m",
      "\u001b[0;31mTypeError\u001b[0m                                 Traceback (most recent call last)",
      "\u001b[0;32m<ipython-input-10-a1ff5c9fd5d7>\u001b[0m in \u001b[0;36m<module>\u001b[0;34m\u001b[0m\n\u001b[1;32m      1\u001b[0m \u001b[0ms\u001b[0m\u001b[0;34m=\u001b[0m\u001b[0;34m[\u001b[0m\u001b[0;34m'apple'\u001b[0m\u001b[0;34m,\u001b[0m \u001b[0;34m'orange'\u001b[0m\u001b[0;34m,\u001b[0m \u001b[0;34m'grape'\u001b[0m\u001b[0;34m,\u001b[0m \u001b[0;34m'mango'\u001b[0m\u001b[0;34m,\u001b[0m \u001b[0;34m'apple'\u001b[0m\u001b[0;34m,\u001b[0m \u001b[0;34m'orange'\u001b[0m\u001b[0;34m,\u001b[0m \u001b[0;34m'grape'\u001b[0m\u001b[0;34m,\u001b[0m \u001b[0;34m'mango'\u001b[0m\u001b[0;34m,\u001b[0m\u001b[0;36m1\u001b[0m\u001b[0;34m,\u001b[0m\u001b[0;36m2\u001b[0m\u001b[0;34m,\u001b[0m\u001b[0;36m3\u001b[0m\u001b[0;34m,\u001b[0m\u001b[0;36m4\u001b[0m\u001b[0;34m]\u001b[0m\u001b[0;34m\u001b[0m\u001b[0;34m\u001b[0m\u001b[0m\n\u001b[0;32m----> 2\u001b[0;31m \u001b[0ms1\u001b[0m\u001b[0;34m=\u001b[0m\u001b[0;34m\" \"\u001b[0m\u001b[0;34m.\u001b[0m\u001b[0mjoin\u001b[0m\u001b[0;34m(\u001b[0m\u001b[0ms\u001b[0m\u001b[0;34m)\u001b[0m\u001b[0;34m\u001b[0m\u001b[0;34m\u001b[0m\u001b[0m\n\u001b[0m\u001b[1;32m      3\u001b[0m \u001b[0mprint\u001b[0m\u001b[0;34m(\u001b[0m\u001b[0ms1\u001b[0m\u001b[0;34m,\u001b[0m\u001b[0mtype\u001b[0m\u001b[0;34m(\u001b[0m\u001b[0ms1\u001b[0m\u001b[0;34m)\u001b[0m\u001b[0;34m)\u001b[0m\u001b[0;34m\u001b[0m\u001b[0;34m\u001b[0m\u001b[0m\n",
      "\u001b[0;31mTypeError\u001b[0m: sequence item 8: expected str instance, int found"
     ]
    }
   ],
   "source": [
    "s=['apple', 'orange', 'grape', 'mango', 'apple', 'orange', 'grape', 'mango',1,2,3,4]\n",
    "s1=\" \".join(s)\n",
    "print(s1,type(s1))"
   ]
  },
  {
   "cell_type": "code",
   "execution_count": 11,
   "metadata": {},
   "outputs": [
    {
     "data": {
      "text/plain": [
       "'APPLE;orange;grape;mango;APPLE;orange;grape;mango'"
      ]
     },
     "execution_count": 11,
     "metadata": {},
     "output_type": "execute_result"
    }
   ],
   "source": [
    "s=\"apple;orange;grape;mango;apple;orange;grape;mango\"\n",
    "s.replace(\"apple\",\"APPLE\")"
   ]
  },
  {
   "cell_type": "code",
   "execution_count": 12,
   "metadata": {},
   "outputs": [
    {
     "data": {
      "text/plain": [
       "'apple;orange;grape;mango;apple;orange;grape;mango'"
      ]
     },
     "execution_count": 12,
     "metadata": {},
     "output_type": "execute_result"
    }
   ],
   "source": [
    "s=\"apple;orange;grape;mango;apple;orange;grape;mango\"\n",
    "s.replace(\"ale\",\"ALE\")"
   ]
  },
  {
   "cell_type": "code",
   "execution_count": 13,
   "metadata": {},
   "outputs": [
    {
     "data": {
      "text/plain": [
       "'apple;orange;grape;mango;apple;orange;grape;mango'"
      ]
     },
     "execution_count": 13,
     "metadata": {},
     "output_type": "execute_result"
    }
   ],
   "source": [
    "s=\"apple;orange;grape;mango;apple;orange;grape;mango\"\n",
    "s.replace(\"ale\",\"ALE\")"
   ]
  },
  {
   "cell_type": "code",
   "execution_count": 14,
   "metadata": {},
   "outputs": [
    {
     "data": {
      "text/plain": [
       "97"
      ]
     },
     "execution_count": 14,
     "metadata": {},
     "output_type": "execute_result"
    }
   ],
   "source": [
    "ord(\"a\")"
   ]
  },
  {
   "cell_type": "code",
   "execution_count": 15,
   "metadata": {},
   "outputs": [
    {
     "data": {
      "text/plain": [
       "65"
      ]
     },
     "execution_count": 15,
     "metadata": {},
     "output_type": "execute_result"
    }
   ],
   "source": [
    "ord(\"A\")"
   ]
  },
  {
   "cell_type": "code",
   "execution_count": 18,
   "metadata": {},
   "outputs": [
    {
     "data": {
      "text/plain": [
       "'Apple;orAnge;grApe;mAngo;Apple;orAnge;grApe;mAngo'"
      ]
     },
     "execution_count": 18,
     "metadata": {},
     "output_type": "execute_result"
    }
   ],
   "source": [
    "s=\"apple;orange;grape;mango;apple;orange;grape;mango\"\n",
    "s.translate({97:65})"
   ]
  },
  {
   "cell_type": "code",
   "execution_count": 19,
   "metadata": {},
   "outputs": [
    {
     "data": {
      "text/plain": [
       "101"
      ]
     },
     "execution_count": 19,
     "metadata": {},
     "output_type": "execute_result"
    }
   ],
   "source": [
    "ord(\"e\")"
   ]
  },
  {
   "cell_type": "code",
   "execution_count": 20,
   "metadata": {},
   "outputs": [
    {
     "data": {
      "text/plain": [
       "69"
      ]
     },
     "execution_count": 20,
     "metadata": {},
     "output_type": "execute_result"
    }
   ],
   "source": [
    "ord(\"E\")"
   ]
  },
  {
   "cell_type": "code",
   "execution_count": 21,
   "metadata": {},
   "outputs": [
    {
     "data": {
      "text/plain": [
       "'ApplE;orAngE;grApE;mAngo;ApplE;orAngE;grApE;mAngo'"
      ]
     },
     "execution_count": 21,
     "metadata": {},
     "output_type": "execute_result"
    }
   ],
   "source": [
    "s=\"apple;orange;grape;mango;apple;orange;grape;mango\"\n",
    "s.translate({97:65,101:69})"
   ]
  },
  {
   "cell_type": "code",
   "execution_count": 22,
   "metadata": {},
   "outputs": [
    {
     "data": {
      "text/plain": [
       "{97: 65, 108: 76, 101: 69}"
      ]
     },
     "execution_count": 22,
     "metadata": {},
     "output_type": "execute_result"
    }
   ],
   "source": [
    "\"\".maketrans(\"ale\",\"ALE\")"
   ]
  },
  {
   "cell_type": "code",
   "execution_count": 23,
   "metadata": {},
   "outputs": [
    {
     "data": {
      "text/plain": [
       "'AppLE;orAngE;grApE;mAngo;AppLE;orAngE;grApE;mAngo'"
      ]
     },
     "execution_count": 23,
     "metadata": {},
     "output_type": "execute_result"
    }
   ],
   "source": [
    "s=\"apple;orange;grape;mango;apple;orange;grape;mango\"\n",
    "s.translate(\"\".maketrans(\"ale\",\"ALE\"))"
   ]
  },
  {
   "cell_type": "code",
   "execution_count": 24,
   "metadata": {},
   "outputs": [
    {
     "name": "stdout",
     "output_type": "stream",
     "text": [
      "    user     name    \n",
      "user     name\n"
     ]
    }
   ],
   "source": [
    "s=\"    user     name    \"\n",
    "print(s)\n",
    "print(s.strip())"
   ]
  },
  {
   "cell_type": "code",
   "execution_count": 25,
   "metadata": {},
   "outputs": [
    {
     "name": "stdout",
     "output_type": "stream",
     "text": [
      "%^&user^&%name&^%\n",
      "^&user^&%name&^\n"
     ]
    }
   ],
   "source": [
    "s=\"%^&user^&%name&^%\"\n",
    "print(s)\n",
    "print(s.strip(\"%\"))"
   ]
  },
  {
   "cell_type": "code",
   "execution_count": 26,
   "metadata": {},
   "outputs": [
    {
     "name": "stdout",
     "output_type": "stream",
     "text": [
      "%^&user^&%name&^%\n",
      "%^&user^&%name&^%\n"
     ]
    }
   ],
   "source": [
    "s=\"%^&user^&%name&^%\"\n",
    "print(s)\n",
    "print(s.strip(\"^\"))"
   ]
  },
  {
   "cell_type": "code",
   "execution_count": 27,
   "metadata": {},
   "outputs": [
    {
     "name": "stdout",
     "output_type": "stream",
     "text": [
      "%^&user^&%name&^%\n",
      "&user^&%name&\n"
     ]
    }
   ],
   "source": [
    "s=\"%^&user^&%name&^%\"\n",
    "print(s)\n",
    "print(s.strip(\"%^\"))"
   ]
  },
  {
   "cell_type": "code",
   "execution_count": 28,
   "metadata": {},
   "outputs": [
    {
     "name": "stdout",
     "output_type": "stream",
     "text": [
      "%^&user^&%name&^%\n",
      "user^&%name\n"
     ]
    }
   ],
   "source": [
    "s=\"%^&user^&%name&^%\"\n",
    "print(s)\n",
    "print(s.strip(\"^&%\"))"
   ]
  },
  {
   "cell_type": "code",
   "execution_count": 29,
   "metadata": {},
   "outputs": [
    {
     "name": "stdout",
     "output_type": "stream",
     "text": [
      " %^&user^&%name&^% \n",
      " %^&user^&%name&^% \n"
     ]
    }
   ],
   "source": [
    "s=\" %^&user^&%name&^% \"\n",
    "print(s)\n",
    "print(s.strip(\"^&%\"))"
   ]
  },
  {
   "cell_type": "code",
   "execution_count": 30,
   "metadata": {},
   "outputs": [
    {
     "name": "stdout",
     "output_type": "stream",
     "text": [
      " %^&user^&%name&^% \n",
      "user^&%name\n"
     ]
    }
   ],
   "source": [
    "s=\" %^&user^&%name&^% \"\n",
    "print(s)\n",
    "print(s.strip(\"^&% \"))"
   ]
  },
  {
   "cell_type": "code",
   "execution_count": 31,
   "metadata": {},
   "outputs": [
    {
     "name": "stdout",
     "output_type": "stream",
     "text": [
      " %^&user^&%name&^% \n",
      "user^&%name\n",
      "user^&%name&^% \n",
      " %^&user^&%name\n"
     ]
    }
   ],
   "source": [
    "s=\" %^&user^&%name&^% \"\n",
    "print(s)\n",
    "print(s.strip(\"^&% \"))\n",
    "print(s.lstrip(\"^&% \"))\n",
    "print(s.rstrip(\"^&% \"))"
   ]
  },
  {
   "cell_type": "code",
   "execution_count": 32,
   "metadata": {},
   "outputs": [
    {
     "name": "stdout",
     "output_type": "stream",
     "text": [
      "6\n",
      "6\n"
     ]
    }
   ],
   "source": [
    "s=\"apple;orange;grape;mango;apple;orange;grape;mango\"\n",
    "print(s.index(\"orange\"))\n",
    "print(s.find(\"orange\"))"
   ]
  },
  {
   "cell_type": "code",
   "execution_count": 33,
   "metadata": {},
   "outputs": [
    {
     "name": "stdout",
     "output_type": "stream",
     "text": [
      "6\n",
      "6\n",
      "31\n",
      "31\n"
     ]
    }
   ],
   "source": [
    "s=\"apple;orange;grape;mango;apple;orange;grape;mango\"\n",
    "print(s.index(\"orange\"))\n",
    "print(s.find(\"orange\"))\n",
    "print(s.rindex(\"orange\"))\n",
    "print(s.rfind(\"orange\"))"
   ]
  },
  {
   "cell_type": "code",
   "execution_count": 34,
   "metadata": {},
   "outputs": [
    {
     "name": "stdout",
     "output_type": "stream",
     "text": [
      "-1\n"
     ]
    },
    {
     "ename": "ValueError",
     "evalue": "substring not found",
     "output_type": "error",
     "traceback": [
      "\u001b[0;31m---------------------------------------------------------------------------\u001b[0m",
      "\u001b[0;31mValueError\u001b[0m                                Traceback (most recent call last)",
      "\u001b[0;32m<ipython-input-34-ad37d3f18d3c>\u001b[0m in \u001b[0;36m<module>\u001b[0;34m\u001b[0m\n\u001b[1;32m      1\u001b[0m \u001b[0ms\u001b[0m\u001b[0;34m=\u001b[0m\u001b[0;34m\"apple;orange;grape;mango;apple;orange;grape;mango\"\u001b[0m\u001b[0;34m\u001b[0m\u001b[0;34m\u001b[0m\u001b[0m\n\u001b[1;32m      2\u001b[0m \u001b[0mprint\u001b[0m\u001b[0;34m(\u001b[0m\u001b[0ms\u001b[0m\u001b[0;34m.\u001b[0m\u001b[0mfind\u001b[0m\u001b[0;34m(\u001b[0m\u001b[0;34m\"guva\"\u001b[0m\u001b[0;34m)\u001b[0m\u001b[0;34m)\u001b[0m\u001b[0;34m\u001b[0m\u001b[0;34m\u001b[0m\u001b[0m\n\u001b[0;32m----> 3\u001b[0;31m \u001b[0mprint\u001b[0m\u001b[0;34m(\u001b[0m\u001b[0ms\u001b[0m\u001b[0;34m.\u001b[0m\u001b[0mindex\u001b[0m\u001b[0;34m(\u001b[0m\u001b[0;34m\"guva\"\u001b[0m\u001b[0;34m)\u001b[0m\u001b[0;34m)\u001b[0m\u001b[0;34m\u001b[0m\u001b[0;34m\u001b[0m\u001b[0m\n\u001b[0m",
      "\u001b[0;31mValueError\u001b[0m: substring not found"
     ]
    }
   ],
   "source": [
    "s=\"apple;orange;grape;mango;apple;orange;grape;mango\"\n",
    "print(s.find(\"guva\"))\n",
    "print(s.index(\"guva\"))"
   ]
  },
  {
   "cell_type": "code",
   "execution_count": null,
   "metadata": {},
   "outputs": [],
   "source": []
  }
 ],
 "metadata": {
  "kernelspec": {
   "display_name": "Python 3",
   "language": "python",
   "name": "python3"
  },
  "language_info": {
   "codemirror_mode": {
    "name": "ipython",
    "version": 3
   },
   "file_extension": ".py",
   "mimetype": "text/x-python",
   "name": "python",
   "nbconvert_exporter": "python",
   "pygments_lexer": "ipython3",
   "version": "3.7.3"
  }
 },
 "nbformat": 4,
 "nbformat_minor": 2
}
