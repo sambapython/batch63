{
 "cells": [
  {
   "cell_type": "code",
   "execution_count": 1,
   "metadata": {},
   "outputs": [],
   "source": [
    "import paramiko"
   ]
  },
  {
   "cell_type": "code",
   "execution_count": 2,
   "metadata": {},
   "outputs": [],
   "source": [
    "ssh = paramiko.SSHClient()"
   ]
  },
  {
   "cell_type": "code",
   "execution_count": 5,
   "metadata": {},
   "outputs": [],
   "source": [
    "ssh.set_missing_host_key_policy(paramiko.AutoAddPolicy())"
   ]
  },
  {
   "cell_type": "code",
   "execution_count": 6,
   "metadata": {},
   "outputs": [],
   "source": [
    "ssh.connect(\"localhost\",username=\"khyaathipython\",password=\"python\")"
   ]
  },
  {
   "cell_type": "code",
   "execution_count": 7,
   "metadata": {},
   "outputs": [
    {
     "data": {
      "text/plain": [
       "(<paramiko.ChannelFile from <paramiko.Channel 0 (closed) -> <paramiko.Transport at 0x4bfda5f8 (cipher aes128-ctr, 128 bits) (active; 0 open channel(s))>>>,\n",
       " <paramiko.ChannelFile from <paramiko.Channel 0 (closed) -> <paramiko.Transport at 0x4bfda5f8 (cipher aes128-ctr, 128 bits) (active; 0 open channel(s))>>>,\n",
       " <paramiko.ChannelFile from <paramiko.Channel 0 (closed) -> <paramiko.Transport at 0x4bfda5f8 (cipher aes128-ctr, 128 bits) (active; 0 open channel(s))>>>)"
      ]
     },
     "execution_count": 7,
     "metadata": {},
     "output_type": "execute_result"
    }
   ],
   "source": [
    "ssh.exec_command(\"mkdir remote\")"
   ]
  },
  {
   "cell_type": "code",
   "execution_count": 8,
   "metadata": {},
   "outputs": [
    {
     "name": "stdout",
     "output_type": "stream",
     "text": [
      "b'mkdir: cannot create directory \\xe2\\x80\\x98remote\\xe2\\x80\\x99: File exists\\n'\n"
     ]
    }
   ],
   "source": [
    "inp, outp, errp = ssh.exec_command(\"mkdir remote\")\n",
    "print(errp.read())"
   ]
  },
  {
   "cell_type": "code",
   "execution_count": 9,
   "metadata": {},
   "outputs": [
    {
     "name": "stdout",
     "output_type": "stream",
     "text": [
      "b''\n"
     ]
    }
   ],
   "source": [
    "inp, outp, errp = ssh.exec_command(\"ls -l\")\n",
    "print(errp.read())"
   ]
  },
  {
   "cell_type": "code",
   "execution_count": 10,
   "metadata": {},
   "outputs": [
    {
     "name": "stdout",
     "output_type": "stream",
     "text": [
      "b''\n",
      "b'total 128\\n-rw-rw-r--  1 khyaathipython khyaathipython 28586 Aug 24 12:02 512x512bb.jpg\\n-rw-rw-r--  1 khyaathipython khyaathipython    78 Jun 12 10:04 acc.py\\ndrwxrwxr-x  2 khyaathipython khyaathipython  4096 Jan  7  2019 ALL PYTHON\\ndrwxr-xr-x 23 khyaathipython khyaathipython  4096 Dec 20  2018 anaconda3\\ndrwxrwxr-x  8 khyaathipython khyaathipython  4096 Jul 30 10:25 batch62\\ndrwxr-xr-x  4 khyaathipython khyaathipython  4096 Jun 21 08:53 batch62_bkp\\ndrwxr-xr-x  8 khyaathipython khyaathipython  4096 Aug 26 09:25 batch63\\ndrwxr-xr-x  7 khyaathipython khyaathipython  4096 Aug 20 09:58 batch63_bkp\\ndrwxr-xr-x  2 khyaathipython khyaathipython  4096 Aug 21 11:34 batch64\\ndrwxr-xr-x  3 khyaathipython khyaathipython  4096 Aug 26 08:35 batch65\\ndrwxr-xr-x  5 khyaathipython khyaathipython  4096 Aug 24 13:32 db12\\n-rw-rw-r--  1 khyaathipython khyaathipython  2085 Dec 22  2018 deployment steps.text\\ndrwxr-xr-x  3 khyaathipython khyaathipython  4096 Jun  5 08:48 Desktop\\ndrwxrwxr-x  7 khyaathipython khyaathipython  4096 Jul 21 13:35 djangobatch11\\n-rw-r--r--  1 khyaathipython khyaathipython   461 Jul 20 13:46 django batch12 content\\ndrwxr-xr-x  4 khyaathipython khyaathipython  4096 Dec 23  2018 djangobatch8\\n-rw-r--r--  1 khyaathipython khyaathipython  1403 Jul 20 11:20 django content batch12.txt\\ndrwxr-xr-x  2 khyaathipython khyaathipython  4096 Dec 19  2018 Pictures\\ndrwxr-xr-x  2 khyaathipython khyaathipython  4096 Dec 19  2018 Public\\ndrwxr-xr-x  2 khyaathipython khyaathipython  4096 Jul 16 08:27 __pycache__\\n-rw-rw-r--  1 khyaathipython khyaathipython  5637 Jul 11 09:18 python content.txt\\ndrwxrwxr-x  2 khyaathipython khyaathipython  4096 Aug 26 09:24 remote\\ndrwxr-xr-x  3 khyaathipython khyaathipython  4096 Aug 24 10:05 sample\\ndrwxr-xr-x  3 khyaathipython khyaathipython  4096 Jul 27 10:41 snap\\ndrwxr-xr-x  2 khyaathipython khyaathipython  4096 Dec 19  2018 Videos\\n'\n"
     ]
    }
   ],
   "source": [
    "inp, outp, errp = ssh.exec_command(\"ls -l\")\n",
    "print(errp.read())\n",
    "print(outp.read())"
   ]
  },
  {
   "cell_type": "code",
   "execution_count": 11,
   "metadata": {},
   "outputs": [
    {
     "name": "stdout",
     "output_type": "stream",
     "text": [
      "b'[sudo] password for khyaathipython: '\n",
      "b'1\\n10\\n1024\\n1074\\n10925\\n10933\\n11\\n1107\\n1149\\n115\\n1151\\n12\\n1206\\n1221\\n13\\n14\\n1427\\n1430\\n1439\\n15\\n1522\\n15230\\n1530\\n16\\n1632\\n166\\n167\\n16876\\n16901\\n17\\n170\\n18\\n1832\\n1839\\n19\\n190\\n191\\n1920\\n1958\\n2\\n20\\n2029\\n20396\\n20406\\n20416\\n20565\\n20606\\n20649\\n20686\\n21\\n21508\\n21621\\n21622\\n2163\\n21659\\n2173\\n2184\\n21878\\n21897\\n2190\\n2193\\n21947\\n22\\n22059\\n22087\\n22108\\n22176\\n22212\\n22222\\n22257\\n22435\\n22465\\n22532\\n22551\\n22555\\n22557\\n22558\\n23\\n2306\\n231\\n2313\\n2315\\n2320\\n2332\\n2333\\n2338\\n2340\\n2343\\n2349\\n2350\\n2356\\n2359\\n2361\\n2365\\n2372\\n2376\\n2378\\n24\\n2409\\n2443\\n245\\n25\\n2504\\n2510\\n2511\\n2527\\n2531\\n2533\\n2539\\n2543\\n26\\n263\\n2637\\n2639\\n264\\n2644\\n2647\\n2665\\n267\\n2671\\n2676\\n268\\n2688\\n269\\n27\\n270\\n271\\n2710\\n2715\\n2718\\n272\\n2720\\n2736\\n2740\\n2749\\n275\\n2768\\n277\\n2779\\n2785\\n2789\\n2793\\n2798\\n28\\n280\\n2814\\n2815\\n2817\\n2819\\n2820\\n2825\\n2826\\n2828\\n283\\n2831\\n284\\n2842\\n2843\\n2844\\n2847\\n2857\\n2858\\n286\\n2862\\n2864\\n288\\n2885\\n29\\n2909\\n2910\\n2911\\n292\\n2935\\n294\\n296\\n2979\\n2985\\n299\\n30\\n3003\\n3011\\n303\\n304\\n3043\\n3061\\n307\\n3078\\n3097\\n3354\\n34\\n35\\n36\\n3650\\n377\\n4\\n4084\\n4086\\n4087\\n4088\\n4089\\n4090\\n4091\\n4175\\n419\\n558\\n559\\n6\\n603\\n623\\n624\\n626\\n633\\n636\\n638\\n646\\n669\\n671\\n7\\n700\\n701\\n704\\n739\\n78\\n79\\n790\\n8\\n80\\n81\\n82\\n83\\n8644\\n8647\\n89\\n9\\n976\\n98\\n995\\nacpi\\nasound\\nbuddyinfo\\nbus\\ncgroups\\ncmdline\\nconsoles\\ncpuinfo\\ncrypto\\ndevices\\ndiskstats\\ndma\\ndriver\\nexecdomains\\nfb\\nfilesystems\\nfs\\ninterrupts\\niomem\\nioports\\nirq\\nkallsyms\\nkcore\\nkeys\\nkey-users\\nkmsg\\nkpagecgroup\\nkpagecount\\nkpageflags\\nloadavg\\nlocks\\nmdstat\\nmeminfo\\nmisc\\nmodules\\nmounts\\nmtrr\\nnet\\npagetypeinfo\\npartitions\\nsched_debug\\nschedstat\\nscsi\\nself\\nslabinfo\\nsoftirqs\\nstat\\nswaps\\nsys\\nsysrq-trigger\\nsysvipc\\nthread-self\\ntimer_list\\ntty\\nuptime\\nversion\\nversion_signature\\nvmallocinfo\\nvmstat\\nzoneinfo\\n'\n"
     ]
    }
   ],
   "source": [
    "inp, outp, errp = ssh.exec_command(\"echo python|sudo -S ls /proc\")\n",
    "print(errp.read())\n",
    "print(outp.read())"
   ]
  },
  {
   "cell_type": "code",
   "execution_count": 12,
   "metadata": {},
   "outputs": [],
   "source": [
    "sftp = ssh.open_sftp()"
   ]
  },
  {
   "cell_type": "code",
   "execution_count": 13,
   "metadata": {},
   "outputs": [
    {
     "data": {
      "text/plain": [
       "<SFTPAttributes: [ size=222 uid=1000 gid=1000 mode=0o100664 atime=1566792044 mtime=1566792044 ]>"
      ]
     },
     "execution_count": 13,
     "metadata": {},
     "output_type": "execute_result"
    }
   ],
   "source": [
    "sftp.put(\"/home/khyaathipython/local/a.py\",\"/home/khyaathipython/remote/a1.py\")"
   ]
  },
  {
   "cell_type": "code",
   "execution_count": 14,
   "metadata": {},
   "outputs": [],
   "source": [
    "sftp.get(\"/home/khyaathipython/remote/a1.py\", \"/home/khyaathipython/local/a11.py\")"
   ]
  },
  {
   "cell_type": "code",
   "execution_count": 15,
   "metadata": {},
   "outputs": [],
   "source": [
    "# fabric"
   ]
  },
  {
   "cell_type": "code",
   "execution_count": 16,
   "metadata": {},
   "outputs": [],
   "source": [
    "# for windows machine interactions: https://github.com/diyan/pywinrm"
   ]
  },
  {
   "cell_type": "code",
   "execution_count": null,
   "metadata": {},
   "outputs": [],
   "source": []
  }
 ],
 "metadata": {
  "kernelspec": {
   "display_name": "Python 3",
   "language": "python",
   "name": "python3"
  },
  "language_info": {
   "codemirror_mode": {
    "name": "ipython",
    "version": 3
   },
   "file_extension": ".py",
   "mimetype": "text/x-python",
   "name": "python",
   "nbconvert_exporter": "python",
   "pygments_lexer": "ipython3",
   "version": "3.7.0"
  }
 },
 "nbformat": 4,
 "nbformat_minor": 2
}
