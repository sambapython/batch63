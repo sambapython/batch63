{
 "cells": [
  {
   "cell_type": "code",
   "execution_count": 1,
   "metadata": {},
   "outputs": [
    {
     "name": "stdout",
     "output_type": "stream",
     "text": [
      "385.8916015625\n"
     ]
    }
   ],
   "source": [
    "n1=10\n",
    "n2=12\n",
    "n3=13\n",
    "n4=20\n",
    "m = (n1+n2+n3+n4)/4\n",
    "x=(n1-m)**2+(n2-m)**2+(n3-m)**2+(n4-m)**4\n",
    "print(x/4)"
   ]
  },
  {
   "cell_type": "code",
   "execution_count": 3,
   "metadata": {},
   "outputs": [
    {
     "name": "stdout",
     "output_type": "stream",
     "text": [
      "385.8916015625\n",
      "19.644123843086003\n"
     ]
    }
   ],
   "source": [
    "n1=10\n",
    "n2=12\n",
    "n3=13\n",
    "n4=20\n",
    "m = (n1+n2+n3+n4)/4\n",
    "x=(n1-m)**2+(n2-m)**2+(n3-m)**2+(n4-m)**4\n",
    "variance=x/4\n",
    "std = variance**0.5\n",
    "print(variance)\n",
    "print(std)"
   ]
  },
  {
   "cell_type": "code",
   "execution_count": 4,
   "metadata": {},
   "outputs": [
    {
     "name": "stdout",
     "output_type": "stream",
     "text": [
      "385.8916015625\n",
      "19.644123843086003\n"
     ]
    }
   ],
   "source": [
    "import math\n",
    "n1=10\n",
    "n2=12\n",
    "n3=13\n",
    "n4=20\n",
    "m = (n1+n2+n3+n4)/4\n",
    "x=(n1-m)**2+(n2-m)**2+(n3-m)**2+(n4-m)**4\n",
    "variance=x/4\n",
    "std = math.sqrt(variance)\n",
    "print(variance)\n",
    "print(std)"
   ]
  },
  {
   "cell_type": "code",
   "execution_count": 5,
   "metadata": {},
   "outputs": [
    {
     "name": "stdout",
     "output_type": "stream",
     "text": [
      "Enter number of people:250\n",
      "enter number of seats per bus:50\n",
      "5.0\n"
     ]
    }
   ],
   "source": [
    "num_people = int(input(\"Enter number of people:\"))\n",
    "num_seats_per_bus = int(input(\"enter number of seats per bus:\"))\n",
    "print(num_people/num_seats_per_bus)"
   ]
  },
  {
   "cell_type": "code",
   "execution_count": 6,
   "metadata": {},
   "outputs": [
    {
     "name": "stdout",
     "output_type": "stream",
     "text": [
      "Enter number of people:255\n",
      "enter number of seats per bus:50\n",
      "5.1\n"
     ]
    }
   ],
   "source": [
    "num_people = int(input(\"Enter number of people:\"))\n",
    "num_seats_per_bus = int(input(\"enter number of seats per bus:\"))\n",
    "print(num_people/num_seats_per_bus)"
   ]
  },
  {
   "cell_type": "code",
   "execution_count": 7,
   "metadata": {},
   "outputs": [
    {
     "data": {
      "text/plain": [
       "6"
      ]
     },
     "execution_count": 7,
     "metadata": {},
     "output_type": "execute_result"
    }
   ],
   "source": [
    "math.ceil(5.1)"
   ]
  },
  {
   "cell_type": "code",
   "execution_count": null,
   "metadata": {},
   "outputs": [],
   "source": [
    "num_people = int(input(\"Enter number of people:\"))\n",
    "num_seats_per_bus = int(input(\"enter number of seats per bus:\"))\n",
    "print(math.ceil(num_people/num_seats_per_bus))"
   ]
  },
  {
   "cell_type": "code",
   "execution_count": 9,
   "metadata": {},
   "outputs": [
    {
     "name": "stdout",
     "output_type": "stream",
     "text": [
      "Name:Jayaram, Age:2, Weight:13.46, Height:3.57\n"
     ]
    }
   ],
   "source": [
    "name=\"Jayaram\"\n",
    "age=2.45678\n",
    "weight=13.456789\n",
    "height=3.5612\n",
    "# Name:jayaram, Age:2, Weight:13.46, Height:3.57\n",
    "print(\"Name:Jayaram, Age:2, Weight:13.46, Height:3.57\")"
   ]
  },
  {
   "cell_type": "code",
   "execution_count": 10,
   "metadata": {},
   "outputs": [
    {
     "name": "stdout",
     "output_type": "stream",
     "text": [
      "Name:\n"
     ]
    }
   ],
   "source": [
    "print(\"Name:\")"
   ]
  },
  {
   "cell_type": "code",
   "execution_count": 11,
   "metadata": {},
   "outputs": [
    {
     "name": "stdout",
     "output_type": "stream",
     "text": [
      "Name: Jayaram\n"
     ]
    }
   ],
   "source": [
    "name=\"Jayaram\"\n",
    "age=2.45678\n",
    "weight=13.456789\n",
    "height=3.5612\n",
    "# Name:jayaram, Age:2, Weight:13.46, Height:3.57\n",
    "print(\"Name:\",name)"
   ]
  },
  {
   "cell_type": "code",
   "execution_count": 12,
   "metadata": {},
   "outputs": [
    {
     "name": "stdout",
     "output_type": "stream",
     "text": [
      "Name:Jayaram\n"
     ]
    }
   ],
   "source": [
    "name=\"Jayaram\"\n",
    "age=2.45678\n",
    "weight=13.456789\n",
    "height=3.5612\n",
    "# Name:jayaram, Age:2, Weight:13.46, Height:3.57\n",
    "print(\"Name:\",name,sep=\"\")"
   ]
  },
  {
   "cell_type": "code",
   "execution_count": 13,
   "metadata": {},
   "outputs": [
    {
     "name": "stdout",
     "output_type": "stream",
     "text": [
      "Name:Jayaram, Age:\n"
     ]
    }
   ],
   "source": [
    "name=\"Jayaram\"\n",
    "age=2.45678\n",
    "weight=13.456789\n",
    "height=3.5612\n",
    "# Name:jayaram, Age:2, Weight:13.46, Height:3.57\n",
    "print(\"Name:\",name,\", Age:\",sep=\"\")"
   ]
  },
  {
   "cell_type": "code",
   "execution_count": 14,
   "metadata": {},
   "outputs": [
    {
     "name": "stdout",
     "output_type": "stream",
     "text": [
      "Name:Jayaram, Age:2.45678\n"
     ]
    }
   ],
   "source": [
    "name=\"Jayaram\"\n",
    "age=2.45678\n",
    "weight=13.456789\n",
    "height=3.5612\n",
    "# Name:jayaram, Age:2, Weight:13.46, Height:3.57\n",
    "print(\"Name:\",name,\", Age:\",age,sep=\"\")"
   ]
  },
  {
   "cell_type": "code",
   "execution_count": 15,
   "metadata": {},
   "outputs": [
    {
     "name": "stdout",
     "output_type": "stream",
     "text": [
      "Name:Jayaram, Age:2\n"
     ]
    }
   ],
   "source": [
    "name=\"Jayaram\"\n",
    "age=2.45678\n",
    "weight=13.456789\n",
    "height=3.5612\n",
    "# Name:jayaram, Age:2, Weight:13.46, Height:3.57\n",
    "print(\"Name:\",name,\", Age:\",int(age),sep=\"\")"
   ]
  },
  {
   "cell_type": "code",
   "execution_count": 16,
   "metadata": {},
   "outputs": [
    {
     "name": "stdout",
     "output_type": "stream",
     "text": [
      "Name:Jayaram, Age:2, weight:13.456789\n"
     ]
    }
   ],
   "source": [
    "name=\"Jayaram\"\n",
    "age=2.45678\n",
    "weight=13.456789\n",
    "height=3.5612\n",
    "# Name:jayaram, Age:2, Weight:13.46, Height:3.57\n",
    "print(\"Name:\",name,\", Age:\",int(age),\", weight:\",weight,sep=\"\")"
   ]
  },
  {
   "cell_type": "code",
   "execution_count": 17,
   "metadata": {},
   "outputs": [
    {
     "name": "stdout",
     "output_type": "stream",
     "text": [
      "Name:Jayaram, Age:2, weight:13.46\n"
     ]
    }
   ],
   "source": [
    "name=\"Jayaram\"\n",
    "age=2.45678\n",
    "weight=13.456789\n",
    "height=3.5612\n",
    "# Name:jayaram, Age:2, Weight:13.46, Height:3.57\n",
    "print(\"Name:\",name,\", Age:\",int(age),\", weight:\",round(weight,2),sep=\"\")"
   ]
  },
  {
   "cell_type": "code",
   "execution_count": 19,
   "metadata": {},
   "outputs": [
    {
     "name": "stdout",
     "output_type": "stream",
     "text": [
      "Name:Jayaram, Age:2, weight:13.46, Height:3.56\n"
     ]
    }
   ],
   "source": [
    "name=\"Jayaram\"\n",
    "age=2.45678\n",
    "weight=13.456789\n",
    "height=3.5612\n",
    "# Name:jayaram, Age:2, Weight:13.46, Height:3.56\n",
    "print(\"Name:\",name,\", Age:\",int(age),\", weight:\",round(weight,2),\", Height:\",round(height,2),sep=\"\")"
   ]
  },
  {
   "cell_type": "code",
   "execution_count": 20,
   "metadata": {},
   "outputs": [
    {
     "name": "stdout",
     "output_type": "stream",
     "text": [
      "Name:Jayaram, Age:2, weight:13.46, Height:3.56\n",
      "Name:name\n"
     ]
    }
   ],
   "source": [
    "name=\"Jayaram\"\n",
    "age=2.45678\n",
    "weight=13.456789\n",
    "height=3.5612\n",
    "# Name:jayaram, Age:2, Weight:13.46, Height:3.56\n",
    "print(\"Name:\",name,\", Age:\",int(age),\", weight:\",round(weight,2),\", Height:\",round(height,2),sep=\"\")\n",
    "print(f\"Name:name\")"
   ]
  },
  {
   "cell_type": "code",
   "execution_count": 21,
   "metadata": {},
   "outputs": [
    {
     "name": "stdout",
     "output_type": "stream",
     "text": [
      "Name:Jayaram, Age:2, weight:13.46, Height:3.56\n",
      "Name:Jayaram\n"
     ]
    }
   ],
   "source": [
    "name=\"Jayaram\"\n",
    "age=2.45678\n",
    "weight=13.456789\n",
    "height=3.5612\n",
    "# Name:jayaram, Age:2, Weight:13.46, Height:3.56\n",
    "print(\"Name:\",name,\", Age:\",int(age),\", weight:\",round(weight,2),\", Height:\",round(height,2),sep=\"\")\n",
    "print(f\"Name:{name}\")"
   ]
  },
  {
   "cell_type": "code",
   "execution_count": 23,
   "metadata": {},
   "outputs": [
    {
     "name": "stdout",
     "output_type": "stream",
     "text": [
      "Name:Jayaram, Age:2, weight:13.46, Height:3.56\n",
      "Name:Jayaram, Age:2, Weight:13.46, Height:3.56\n"
     ]
    }
   ],
   "source": [
    "name=\"Jayaram\"\n",
    "age=2.45678\n",
    "weight=13.456789\n",
    "height=3.5612\n",
    "# Name:jayaram, Age:2, Weight:13.46, Height:3.56\n",
    "print(\"Name:\",name,\", Age:\",int(age),\", weight:\",round(weight,2),\", Height:\",round(height,2),sep=\"\")\n",
    "print(f\"Name:{name}, Age:{int(age)}, Weight:{round(weight,2)}, Height:{round(height,2)}\") # template strings"
   ]
  },
  {
   "cell_type": "code",
   "execution_count": 24,
   "metadata": {},
   "outputs": [
    {
     "name": "stdout",
     "output_type": "stream",
     "text": [
      "sum=30\n"
     ]
    }
   ],
   "source": [
    "a=10\n",
    "b=20\n",
    "print(f\"sum={a+b}\")"
   ]
  },
  {
   "cell_type": "code",
   "execution_count": 25,
   "metadata": {},
   "outputs": [
    {
     "name": "stdout",
     "output_type": "stream",
     "text": [
      "Name:Jayaram, Age:2, weight:13.46, Height:3.56\n",
      "Name:Jayaram, Age:2, Weight:13.46, Height:3.56\n",
      "Name:%s\n"
     ]
    }
   ],
   "source": [
    "name=\"Jayaram\"\n",
    "age=2.45678\n",
    "weight=13.456789\n",
    "height=3.5612\n",
    "# Name:jayaram, Age:2, Weight:13.46, Height:3.56\n",
    "print(\"Name:\",name,\", Age:\",int(age),\", weight:\",round(weight,2),\", Height:\",round(height,2),sep=\"\")\n",
    "print(f\"Name:{name}, Age:{int(age)}, Weight:{round(weight,2)}, Height:{round(height,2)}\") # template strings\n",
    "#format specifiers\n",
    "print(\"Name:%s\")"
   ]
  },
  {
   "cell_type": "code",
   "execution_count": 26,
   "metadata": {},
   "outputs": [
    {
     "name": "stdout",
     "output_type": "stream",
     "text": [
      "Name:Jayaram, Age:2, weight:13.46, Height:3.56\n",
      "Name:Jayaram, Age:2, Weight:13.46, Height:3.56\n",
      "Name:%s Jayaram\n"
     ]
    }
   ],
   "source": [
    "name=\"Jayaram\"\n",
    "age=2.45678\n",
    "weight=13.456789\n",
    "height=3.5612\n",
    "# Name:jayaram, Age:2, Weight:13.46, Height:3.56\n",
    "print(\"Name:\",name,\", Age:\",int(age),\", weight:\",round(weight,2),\", Height:\",round(height,2),sep=\"\")\n",
    "print(f\"Name:{name}, Age:{int(age)}, Weight:{round(weight,2)}, Height:{round(height,2)}\") # template strings\n",
    "#format specifiers\n",
    "print(\"Name:%s\",name)"
   ]
  },
  {
   "cell_type": "code",
   "execution_count": 27,
   "metadata": {},
   "outputs": [
    {
     "name": "stdout",
     "output_type": "stream",
     "text": [
      "Name:Jayaram, Age:2, weight:13.46, Height:3.56\n",
      "Name:Jayaram, Age:2, Weight:13.46, Height:3.56\n",
      "Name:Jayaram\n"
     ]
    }
   ],
   "source": [
    "name=\"Jayaram\"\n",
    "age=2.45678\n",
    "weight=13.456789\n",
    "height=3.5612\n",
    "# Name:jayaram, Age:2, Weight:13.46, Height:3.56\n",
    "print(\"Name:\",name,\", Age:\",int(age),\", weight:\",round(weight,2),\", Height:\",round(height,2),sep=\"\")\n",
    "print(f\"Name:{name}, Age:{int(age)}, Weight:{round(weight,2)}, Height:{round(height,2)}\") # template strings\n",
    "#format specifiers\n",
    "print(\"Name:%s\"%name)"
   ]
  },
  {
   "cell_type": "code",
   "execution_count": 28,
   "metadata": {},
   "outputs": [
    {
     "name": "stdout",
     "output_type": "stream",
     "text": [
      "Name:Jayaram, Age:2, weight:13.46, Height:3.56\n",
      "Name:Jayaram, Age:2, Weight:13.46, Height:3.56\n",
      "Name:Jayaram, Age:2.45678\n"
     ]
    }
   ],
   "source": [
    "name=\"Jayaram\"\n",
    "age=2.45678\n",
    "weight=13.456789\n",
    "height=3.5612\n",
    "# Name:jayaram, Age:2, Weight:13.46, Height:3.56\n",
    "print(\"Name:\",name,\", Age:\",int(age),\", weight:\",round(weight,2),\", Height:\",round(height,2),sep=\"\")\n",
    "print(f\"Name:{name}, Age:{int(age)}, Weight:{round(weight,2)}, Height:{round(height,2)}\") # template strings\n",
    "#format specifiers\n",
    "print(\"Name:%s, Age:%s\"%(name, age))"
   ]
  },
  {
   "cell_type": "code",
   "execution_count": 29,
   "metadata": {},
   "outputs": [
    {
     "name": "stdout",
     "output_type": "stream",
     "text": [
      "Name:Jayaram, Age:2, weight:13.46, Height:3.56\n",
      "Name:Jayaram, Age:2, Weight:13.46, Height:3.56\n",
      "Name:Jayaram, Age:2.45678, Weight:13.456789, Height:3.5612\n"
     ]
    }
   ],
   "source": [
    "name=\"Jayaram\"\n",
    "age=2.45678\n",
    "weight=13.456789\n",
    "height=3.5612\n",
    "# Name:jayaram, Age:2, Weight:13.46, Height:3.56\n",
    "print(\"Name:\",name,\", Age:\",int(age),\", weight:\",round(weight,2),\", Height:\",round(height,2),sep=\"\")\n",
    "print(f\"Name:{name}, Age:{int(age)}, Weight:{round(weight,2)}, Height:{round(height,2)}\") # template strings\n",
    "#format specifiers\n",
    "print(\"Name:%s, Age:%s, Weight:%s, Height:%s\"%(name, age,weight,height))"
   ]
  },
  {
   "cell_type": "code",
   "execution_count": 30,
   "metadata": {},
   "outputs": [
    {
     "name": "stdout",
     "output_type": "stream",
     "text": [
      "Name:Jayaram, Age:2, weight:13.46, Height:3.56\n",
      "Name:Jayaram, Age:2, Weight:13.46, Height:3.56\n",
      "Name:Jayaram, Age:2, Weight:13.456789, Height:3.5612\n"
     ]
    }
   ],
   "source": [
    "name=\"Jayaram\"\n",
    "age=2.45678\n",
    "weight=13.456789\n",
    "height=3.5612\n",
    "# Name:jayaram, Age:2, Weight:13.46, Height:3.56\n",
    "print(\"Name:\",name,\", Age:\",int(age),\", weight:\",round(weight,2),\", Height:\",round(height,2),sep=\"\")\n",
    "print(f\"Name:{name}, Age:{int(age)}, Weight:{round(weight,2)}, Height:{round(height,2)}\") # template strings\n",
    "#format specifiers\n",
    "print(\"Name:%s, Age:%d, Weight:%s, Height:%s\"%(name,age,weight,height))"
   ]
  },
  {
   "cell_type": "code",
   "execution_count": 31,
   "metadata": {},
   "outputs": [
    {
     "name": "stdout",
     "output_type": "stream",
     "text": [
      "Name:Jayaram, Age:2, weight:13.46, Height:3.56\n",
      "Name:Jayaram, Age:2, Weight:13.46, Height:3.56\n",
      "Name:Jayaram, Age:2, Weight:13.456789, Height:3.561200\n"
     ]
    }
   ],
   "source": [
    "name=\"Jayaram\"\n",
    "age=2.45678\n",
    "weight=13.456789\n",
    "height=3.5612\n",
    "# Name:jayaram, Age:2, Weight:13.46, Height:3.56\n",
    "print(\"Name:\",name,\", Age:\",int(age),\", weight:\",round(weight,2),\", Height:\",round(height,2),sep=\"\")\n",
    "print(f\"Name:{name}, Age:{int(age)}, Weight:{round(weight,2)}, Height:{round(height,2)}\") # template strings\n",
    "#format specifiers\n",
    "print(\"Name:%s, Age:%d, Weight:%f, Height:%f\"%(name,age,weight,height))"
   ]
  },
  {
   "cell_type": "code",
   "execution_count": 32,
   "metadata": {},
   "outputs": [
    {
     "name": "stdout",
     "output_type": "stream",
     "text": [
      "Name:Jayaram, Age:2, weight:13.46, Height:3.56\n",
      "Name:Jayaram, Age:2, Weight:13.46, Height:3.56\n",
      "Name:Jayaram, Age:2, Weight:13.46, Height:3.56\n"
     ]
    }
   ],
   "source": [
    "name=\"Jayaram\"\n",
    "age=2.45678\n",
    "weight=13.456789\n",
    "height=3.5612\n",
    "# Name:jayaram, Age:2, Weight:13.46, Height:3.56\n",
    "print(\"Name:\",name,\", Age:\",int(age),\", weight:\",round(weight,2),\", Height:\",round(height,2),sep=\"\")\n",
    "print(f\"Name:{name}, Age:{int(age)}, Weight:{round(weight,2)}, Height:{round(height,2)}\") # template strings\n",
    "#format specifiers\n",
    "print(\"Name:%s, Age:%d, Weight:%.2f, Height:%.2f\"%(name,age,weight,height))"
   ]
  },
  {
   "cell_type": "code",
   "execution_count": 33,
   "metadata": {},
   "outputs": [
    {
     "name": "stdout",
     "output_type": "stream",
     "text": [
      "ea\n"
     ]
    }
   ],
   "source": [
    "print(\"%x\"%234)"
   ]
  },
  {
   "cell_type": "code",
   "execution_count": 34,
   "metadata": {},
   "outputs": [
    {
     "name": "stdout",
     "output_type": "stream",
     "text": [
      "352\n"
     ]
    }
   ],
   "source": [
    "print(\"%o\"%234)"
   ]
  },
  {
   "cell_type": "code",
   "execution_count": 35,
   "metadata": {},
   "outputs": [
    {
     "ename": "ValueError",
     "evalue": "unsupported format character 'b' (0x62) at index 1",
     "output_type": "error",
     "traceback": [
      "\u001b[0;31m---------------------------------------------------------------------------\u001b[0m",
      "\u001b[0;31mValueError\u001b[0m                                Traceback (most recent call last)",
      "\u001b[0;32m<ipython-input-35-861aa0b200fb>\u001b[0m in \u001b[0;36m<module>\u001b[0;34m()\u001b[0m\n\u001b[0;32m----> 1\u001b[0;31m \u001b[0mprint\u001b[0m\u001b[0;34m(\u001b[0m\u001b[0;34m\"%b\"\u001b[0m\u001b[0;34m%\u001b[0m\u001b[0;36m234\u001b[0m\u001b[0;34m)\u001b[0m\u001b[0;34m\u001b[0m\u001b[0m\n\u001b[0m",
      "\u001b[0;31mValueError\u001b[0m: unsupported format character 'b' (0x62) at index 1"
     ]
    }
   ],
   "source": [
    "print(\"%b\"%234)"
   ]
  },
  {
   "cell_type": "code",
   "execution_count": 36,
   "metadata": {},
   "outputs": [
    {
     "name": "stdout",
     "output_type": "stream",
     "text": [
      "hello\n",
      "how are you?\n"
     ]
    }
   ],
   "source": [
    "print(\"hello\")\n",
    "print(\"how are you?\")"
   ]
  },
  {
   "cell_type": "code",
   "execution_count": 37,
   "metadata": {},
   "outputs": [],
   "source": [
    "print?"
   ]
  },
  {
   "cell_type": "code",
   "execution_count": 38,
   "metadata": {},
   "outputs": [
    {
     "name": "stdout",
     "output_type": "stream",
     "text": [
      "hello how are you?\n"
     ]
    }
   ],
   "source": [
    "print(\"hello\", end=\" \")\n",
    "print(\"how are you?\")"
   ]
  },
  {
   "cell_type": "code",
   "execution_count": 39,
   "metadata": {},
   "outputs": [
    {
     "name": "stdout",
     "output_type": "stream",
     "text": [
      "hello how are you?\n",
      "today\n"
     ]
    }
   ],
   "source": [
    "print(\"hello\", end=\" \")\n",
    "print(\"how are you?\")\n",
    "print(\"today\")"
   ]
  },
  {
   "cell_type": "code",
   "execution_count": 40,
   "metadata": {},
   "outputs": [
    {
     "name": "stdout",
     "output_type": "stream",
     "text": [
      "hello how are you? today\n"
     ]
    }
   ],
   "source": [
    "print(\"hello\", end=\" \")\n",
    "print(\"how are you?\", end=\" \")\n",
    "print(\"today\")"
   ]
  },
  {
   "cell_type": "code",
   "execution_count": 41,
   "metadata": {},
   "outputs": [
    {
     "name": "stdout",
     "output_type": "stream",
     "text": [
      "hi how are you?\n"
     ]
    }
   ],
   "source": [
    "print(\"hi how are you?\")"
   ]
  },
  {
   "cell_type": "code",
   "execution_count": 43,
   "metadata": {},
   "outputs": [
    {
     "name": "stdout",
     "output_type": "stream",
     "text": [
      "hi, \n",
      "how are you?\n"
     ]
    }
   ],
   "source": [
    "print(\"hi, \\nhow are you?\")"
   ]
  },
  {
   "cell_type": "code",
   "execution_count": 45,
   "metadata": {},
   "outputs": [
    {
     "name": "stdout",
     "output_type": "stream",
     "text": [
      "hi, \n",
      "how are you?\tI am OK!!\n"
     ]
    }
   ],
   "source": [
    "print(\"hi, \\nhow are you?\\tI am OK!!\")"
   ]
  },
  {
   "cell_type": "code",
   "execution_count": 46,
   "metadata": {},
   "outputs": [
    {
     "name": "stdout",
     "output_type": "stream",
     "text": [
      "\n",
      "\n"
     ]
    }
   ],
   "source": [
    "#\\n\n",
    "print(\"\\n\")"
   ]
  },
  {
   "cell_type": "code",
   "execution_count": 47,
   "metadata": {},
   "outputs": [
    {
     "name": "stdout",
     "output_type": "stream",
     "text": [
      "\\n\n"
     ]
    }
   ],
   "source": [
    "#\\n\n",
    "print(\"\\\\n\")"
   ]
  },
  {
   "cell_type": "code",
   "execution_count": 48,
   "metadata": {},
   "outputs": [
    {
     "name": "stdout",
     "output_type": "stream",
     "text": [
      "dkljsdf\n",
      "fsdfsd\n",
      "\\sdfsdfsdf\n",
      "sdfdsf\n",
      "sdfsdf\n",
      "sdfsdf\n",
      "fdsfsd\n",
      "sdfsd\n"
     ]
    }
   ],
   "source": [
    "s=\"dkljsdf\\nfsdfsd\\n\\sdfsdfsdf\\nsdfdsf\\nsdfsdf\\nsdfsdf\\nfdsfsd\\nsdfsd\"\n",
    "print(s)"
   ]
  },
  {
   "cell_type": "code",
   "execution_count": 49,
   "metadata": {},
   "outputs": [
    {
     "name": "stdout",
     "output_type": "stream",
     "text": [
      "dkljsdf\\nfsdfsd\\n\\sdfsdfsdf\\nsdfdsf\\nsdfsdf\\nsdfsdf\\nfdsfsd\\nsdfsd\n"
     ]
    }
   ],
   "source": [
    "s=\"dkljsdf\\\\nfsdfsd\\\\n\\sdfsdfsdf\\\\nsdfdsf\\\\nsdfsdf\\\\nsdfsdf\\\\nfdsfsd\\\\nsdfsd\"\n",
    "print(s)"
   ]
  },
  {
   "cell_type": "code",
   "execution_count": 50,
   "metadata": {},
   "outputs": [
    {
     "name": "stdout",
     "output_type": "stream",
     "text": [
      "dkljsdf\\nfsdfsd\\n\\sdfsdfsdf\\nsdfdsf\\nsdfsdf\\nsdfsdf\\nfdsfsd\\nsdfsd\n"
     ]
    }
   ],
   "source": [
    "s=r\"dkljsdf\\nfsdfsd\\n\\sdfsdfsdf\\nsdfdsf\\nsdfsdf\\nsdfsdf\\nfdsfsd\\nsdfsd\"\n",
    "print(s)"
   ]
  },
  {
   "cell_type": "code",
   "execution_count": 51,
   "metadata": {},
   "outputs": [
    {
     "ename": "SyntaxError",
     "evalue": "EOL while scanning string literal (<ipython-input-51-5fd3b81e21cf>, line 2)",
     "output_type": "error",
     "traceback": [
      "\u001b[0;36m  File \u001b[0;32m\"<ipython-input-51-5fd3b81e21cf>\"\u001b[0;36m, line \u001b[0;32m2\u001b[0m\n\u001b[0;31m    print(r's)\u001b[0m\n\u001b[0m              ^\u001b[0m\n\u001b[0;31mSyntaxError\u001b[0m\u001b[0;31m:\u001b[0m EOL while scanning string literal\n"
     ]
    }
   ],
   "source": [
    "s=\"dkljsdf\\nfsdfsd\\n\\sdfsdfsdf\\nsdfdsf\\nsdfsdf\\nsdfsdf\\nfdsfsd\\nsdfsd\"\n",
    "print(r's)"
   ]
  },
  {
   "cell_type": "code",
   "execution_count": 52,
   "metadata": {},
   "outputs": [
    {
     "name": "stdout",
     "output_type": "stream",
     "text": [
      "s\n"
     ]
    }
   ],
   "source": [
    "s=\"dkljsdf\\nfsdfsd\\n\\sdfsdfsdf\\nsdfdsf\\nsdfsdf\\nsdfsdf\\nfdsfsd\\nsdfsd\"\n",
    "print(r's')"
   ]
  },
  {
   "cell_type": "code",
   "execution_count": 53,
   "metadata": {},
   "outputs": [
    {
     "name": "stdout",
     "output_type": "stream",
     "text": [
      "'dkljsdf\\nfsdfsd\\n\\\\sdfsdfsdf\\nsdfdsf\\nsdfsdf\\nsdfsdf\\nfdsfsd\\nsdfsd'\n"
     ]
    }
   ],
   "source": [
    "k=\"dkljsdf\\nfsdfsd\\n\\sdfsdfsdf\\nsdfdsf\\nsdfsdf\\nsdfsdf\\nfdsfsd\\nsdfsd\"\n",
    "print(\"%r\"%k)"
   ]
  },
  {
   "cell_type": "code",
   "execution_count": 55,
   "metadata": {},
   "outputs": [
    {
     "name": "stdout",
     "output_type": "stream",
     "text": [
      "dkljsdf\n",
      "fsdfsd\n",
      "\\sdfsdfsdf\n",
      "sdfdsf\n",
      "sdfsdf\n",
      "sdfsdf\n",
      "fdsfsd\n",
      "sdfsd\n"
     ]
    }
   ],
   "source": [
    "k=\"dkljsdf\\nfsdfsd\\n\\sdfsdfsdf\\nsdfdsf\\nsdfsdf\\nsdfsdf\\nfdsfsd\\nsdfsd\"\n",
    "print(k)"
   ]
  },
  {
   "cell_type": "code",
   "execution_count": 54,
   "metadata": {},
   "outputs": [
    {
     "name": "stdout",
     "output_type": "stream",
     "text": [
      "dkljsdf\n",
      "fsdfsd\n",
      "\\sdfsdfsdf\n",
      "sdfdsf\n",
      "sdfsdf\n",
      "sdfsdf\n",
      "fdsfsd\n",
      "sdfsd\n"
     ]
    }
   ],
   "source": [
    "k=\"dkljsdf\\nfsdfsd\\n\\sdfsdfsdf\\nsdfdsf\\nsdfsdf\\nsdfsdf\\nfdsfsd\\nsdfsd\"\n",
    "print(\"%s\"%k)"
   ]
  },
  {
   "cell_type": "code",
   "execution_count": null,
   "metadata": {},
   "outputs": [],
   "source": [
    "# it's Toomuch temparature in \"HYDERABAD\"."
   ]
  },
  {
   "cell_type": "code",
   "execution_count": 56,
   "metadata": {},
   "outputs": [
    {
     "data": {
      "text/plain": [
       "2"
      ]
     },
     "execution_count": 56,
     "metadata": {},
     "output_type": "execute_result"
    }
   ],
   "source": [
    "len(\"as\")"
   ]
  },
  {
   "cell_type": "code",
   "execution_count": 59,
   "metadata": {},
   "outputs": [
    {
     "data": {
      "text/plain": [
       "2"
      ]
     },
     "execution_count": 59,
     "metadata": {},
     "output_type": "execute_result"
    }
   ],
   "source": [
    "len(\"+-\")"
   ]
  },
  {
   "cell_type": "code",
   "execution_count": 60,
   "metadata": {},
   "outputs": [
    {
     "data": {
      "text/plain": [
       "1"
      ]
     },
     "execution_count": 60,
     "metadata": {},
     "output_type": "execute_result"
    }
   ],
   "source": [
    "len(\"\\n\")"
   ]
  },
  {
   "cell_type": "code",
   "execution_count": 61,
   "metadata": {},
   "outputs": [
    {
     "ename": "SyntaxError",
     "evalue": "invalid syntax (<ipython-input-61-36785a6cd3c2>, line 1)",
     "output_type": "error",
     "traceback": [
      "\u001b[0;36m  File \u001b[0;32m\"<ipython-input-61-36785a6cd3c2>\"\u001b[0;36m, line \u001b[0;32m1\u001b[0m\n\u001b[0;31m    print(\"it's Toomuch temparature in \"HYDERABAD\"\")\u001b[0m\n\u001b[0m                                                ^\u001b[0m\n\u001b[0;31mSyntaxError\u001b[0m\u001b[0;31m:\u001b[0m invalid syntax\n"
     ]
    }
   ],
   "source": [
    "print(\"it's Toomuch temparature in \"HYDERABAD\"\")"
   ]
  },
  {
   "cell_type": "code",
   "execution_count": 62,
   "metadata": {},
   "outputs": [
    {
     "ename": "SyntaxError",
     "evalue": "invalid syntax (<ipython-input-62-ae2b16f4e633>, line 1)",
     "output_type": "error",
     "traceback": [
      "\u001b[0;36m  File \u001b[0;32m\"<ipython-input-62-ae2b16f4e633>\"\u001b[0;36m, line \u001b[0;32m1\u001b[0m\n\u001b[0;31m    print('it's Toomuch temparature in \"HYDERABAD\"')\u001b[0m\n\u001b[0m              ^\u001b[0m\n\u001b[0;31mSyntaxError\u001b[0m\u001b[0;31m:\u001b[0m invalid syntax\n"
     ]
    }
   ],
   "source": [
    "print('it's Toomuch temparature in \"HYDERABAD\"')"
   ]
  },
  {
   "cell_type": "code",
   "execution_count": 63,
   "metadata": {},
   "outputs": [
    {
     "name": "stdout",
     "output_type": "stream",
     "text": [
      "it's\n"
     ]
    }
   ],
   "source": [
    "print(\"it's\")"
   ]
  },
  {
   "cell_type": "code",
   "execution_count": 64,
   "metadata": {},
   "outputs": [
    {
     "name": "stdout",
     "output_type": "stream",
     "text": [
      "it's Toomuch temparature in \"HYDERABAD\"\n"
     ]
    }
   ],
   "source": [
    "print(\"it's Toomuch temparature in \\\"HYDERABAD\\\"\")"
   ]
  },
  {
   "cell_type": "code",
   "execution_count": 65,
   "metadata": {},
   "outputs": [
    {
     "name": "stdout",
     "output_type": "stream",
     "text": [
      "it's Toomuch temparature in \"HYDERABAD\"\n"
     ]
    }
   ],
   "source": [
    "print('it\\'s Toomuch temparature in \"HYDERABAD\"')"
   ]
  },
  {
   "cell_type": "code",
   "execution_count": 66,
   "metadata": {},
   "outputs": [
    {
     "name": "stdout",
     "output_type": "stream",
     "text": [
      "asdasd\n",
      "asdasdasd\n"
     ]
    }
   ],
   "source": [
    "print(\"asdasd\");print(\"asdasdasd\")"
   ]
  },
  {
   "cell_type": "code",
   "execution_count": 67,
   "metadata": {},
   "outputs": [
    {
     "name": "stdout",
     "output_type": "stream",
     "text": [
      "10 20 30\n"
     ]
    }
   ],
   "source": [
    "a=10;b=20;c=30\n",
    "print(a,b,c)"
   ]
  },
  {
   "cell_type": "code",
   "execution_count": 68,
   "metadata": {},
   "outputs": [
    {
     "name": "stdout",
     "output_type": "stream",
     "text": [
      "dfasjkfhdsajfdsjpofjsdopiafjopsjkifposdikfopidsopppppppppppppppppppppppppppisdfoidsfidspofidspofisdpofisdpofisdopifdspoifposdifposdifpsdfisdfisdfisdpifsdpoifposdifdsoifopdsifodsifopdsif\n"
     ]
    }
   ],
   "source": [
    "print(\"dfasjkfhdsajfdsjpofjsdopiafjopsjkifposdikfopidsopppppppppppppppppppppppppppisdfoidsfidspofidspofisdpofisdpofisdopifdspoifposdifposdifpsdfisdfisdfisdpifsdpoifposdifdsoifopdsifodsifopdsif\")"
   ]
  },
  {
   "cell_type": "code",
   "execution_count": 69,
   "metadata": {},
   "outputs": [
    {
     "ename": "SyntaxError",
     "evalue": "EOL while scanning string literal (<ipython-input-69-d70b5202c866>, line 1)",
     "output_type": "error",
     "traceback": [
      "\u001b[0;36m  File \u001b[0;32m\"<ipython-input-69-d70b5202c866>\"\u001b[0;36m, line \u001b[0;32m1\u001b[0m\n\u001b[0;31m    print(\"dfasjkfhdsajfdsjpofjsdopiafjopsjkifposdikfopidsopppppppppppppppppppppppppppisdfoidsfidsp\u001b[0m\n\u001b[0m                                                                                                   ^\u001b[0m\n\u001b[0;31mSyntaxError\u001b[0m\u001b[0;31m:\u001b[0m EOL while scanning string literal\n"
     ]
    }
   ],
   "source": [
    "print(\"dfasjkfhdsajfdsjpofjsdopiafjopsjkifposdikfopidsopppppppppppppppppppppppppppisdfoidsfidsp\n",
    "      ofidspofisdpofisdpofisdopifdspoifposdifposdifpsdfisdfisdfisdpifsdpoifposdifdsoifopdsifodsifopdsif\")"
   ]
  },
  {
   "cell_type": "code",
   "execution_count": null,
   "metadata": {},
   "outputs": [],
   "source": [
    "print(\"dfasjkfhdsajfdsjpofjsdopiafjopsjkifposdikfopidsopppppppppppppppppppppppppppisdfoidsfidsp\n",
    "      ofidspofisdpofisdpofisdopifdspoifposdifposdifpsdfisdfisdfisdpifsdpoifposdifdsoifopdsifodsifopdsif\")"
   ]
  }
 ],
 "metadata": {
  "kernelspec": {
   "display_name": "Python 3",
   "language": "python",
   "name": "python3"
  },
  "language_info": {
   "codemirror_mode": {
    "name": "ipython",
    "version": 3
   },
   "file_extension": ".py",
   "mimetype": "text/x-python",
   "name": "python",
   "nbconvert_exporter": "python",
   "pygments_lexer": "ipython3",
   "version": "3.7.0"
  }
 },
 "nbformat": 4,
 "nbformat_minor": 2
}
