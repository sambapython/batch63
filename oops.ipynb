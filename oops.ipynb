{
 "cells": [
  {
   "cell_type": "code",
   "execution_count": 1,
   "metadata": {},
   "outputs": [
    {
     "name": "stdout",
     "output_type": "stream",
     "text": [
      "welcome\n",
      "this is class\n",
      "thanks..\n"
     ]
    }
   ],
   "source": [
    "print(\"welcome\")\n",
    "def fun():\n",
    "    print(\"this is fun\")\n",
    "class Emp:\n",
    "    print(\"this is class\")\n",
    "print(\"thanks..\")"
   ]
  },
  {
   "cell_type": "code",
   "execution_count": 2,
   "metadata": {},
   "outputs": [
    {
     "name": "stdout",
     "output_type": "stream",
     "text": [
      "welcome\n",
      "this is class\n",
      "1000 2000\n",
      "thanks..\n"
     ]
    }
   ],
   "source": [
    "print(\"welcome\")\n",
    "class Emp:\n",
    "    a=1000\n",
    "    b=2000\n",
    "    print(\"this is class\")\n",
    "    print(a,b)\n",
    "print(\"thanks..\")"
   ]
  },
  {
   "cell_type": "code",
   "execution_count": 3,
   "metadata": {},
   "outputs": [
    {
     "name": "stdout",
     "output_type": "stream",
     "text": [
      "welcome\n",
      "this is class\n"
     ]
    },
    {
     "ename": "NameError",
     "evalue": "name 'a' is not defined",
     "output_type": "error",
     "traceback": [
      "\u001b[0;31m---------------------------------------------------------------------------\u001b[0m",
      "\u001b[0;31mNameError\u001b[0m                                 Traceback (most recent call last)",
      "\u001b[0;32m<ipython-input-3-349578e8c140>\u001b[0m in \u001b[0;36m<module>\u001b[0;34m()\u001b[0m\n\u001b[1;32m      4\u001b[0m     \u001b[0mb\u001b[0m\u001b[0;34m=\u001b[0m\u001b[0;36m2000\u001b[0m\u001b[0;34m\u001b[0m\u001b[0m\n\u001b[1;32m      5\u001b[0m     \u001b[0mprint\u001b[0m\u001b[0;34m(\u001b[0m\u001b[0;34m\"this is class\"\u001b[0m\u001b[0;34m)\u001b[0m\u001b[0;34m\u001b[0m\u001b[0m\n\u001b[0;32m----> 6\u001b[0;31m \u001b[0mprint\u001b[0m\u001b[0;34m(\u001b[0m\u001b[0ma\u001b[0m\u001b[0;34m,\u001b[0m\u001b[0mb\u001b[0m\u001b[0;34m)\u001b[0m\u001b[0;34m\u001b[0m\u001b[0m\n\u001b[0m\u001b[1;32m      7\u001b[0m \u001b[0mprint\u001b[0m\u001b[0;34m(\u001b[0m\u001b[0;34m\"thanks..\"\u001b[0m\u001b[0;34m)\u001b[0m\u001b[0;34m\u001b[0m\u001b[0m\n",
      "\u001b[0;31mNameError\u001b[0m: name 'a' is not defined"
     ]
    }
   ],
   "source": [
    "print(\"welcome\")\n",
    "class Emp:\n",
    "    a=1000\n",
    "    b=2000\n",
    "    print(\"this is class\")\n",
    "print(a,b)\n",
    "print(\"thanks..\")"
   ]
  },
  {
   "cell_type": "code",
   "execution_count": 4,
   "metadata": {},
   "outputs": [
    {
     "name": "stdout",
     "output_type": "stream",
     "text": [
      "welcome\n",
      "1000\n",
      "2000\n",
      "this is fun\n",
      "x=10.y=20\n",
      "thanks..\n"
     ]
    }
   ],
   "source": [
    "print(\"welcome\")\n",
    "class Emp:\n",
    "    a=1000\n",
    "    b=2000\n",
    "    def fun(x,y):\n",
    "        print(\"this is fun\")\n",
    "        print(f\"x={x}.y={y}\")\n",
    "print(Emp.a)\n",
    "print(Emp.b)\n",
    "Emp.fun(10,20)\n",
    "print(\"thanks..\")"
   ]
  },
  {
   "cell_type": "code",
   "execution_count": 7,
   "metadata": {},
   "outputs": [
    {
     "name": "stdout",
     "output_type": "stream",
     "text": [
      "MI note 7 pro 5000\n"
     ]
    }
   ],
   "source": [
    "class Product: # Product is the reference of the class object\n",
    "    \n",
    "    def get(x):\n",
    "        return x.name,x.costprice,x.salesprice, x.properties\n",
    "mi_npte7pro = Product() # Product() is the data object. mi_npte7pro is the refertence of the data object called as an \n",
    "# instance.\n",
    "mi_npte7pro.name=\"MI note 7 pro\"\n",
    "mi_npte7pro.costprice = 5000\n",
    "mi_npte7pro.salesprice = 7000\n",
    "mi_npte7pro.properties = {\"RAM\":\"2 GB\",\"MEMORY\":\"32 GB\",\"PROCESSOR\":\"quardcore..\"}\n",
    "print(mi_npte7pro.name,mi_npte7pro.costprice)"
   ]
  },
  {
   "cell_type": "code",
   "execution_count": 10,
   "metadata": {},
   "outputs": [
    {
     "name": "stdout",
     "output_type": "stream",
     "text": [
      "('MI note 7 pro', 5000, 7000, {'RAM': '2 GB', 'MEMORY': '32 GB', 'PROCESSOR': 'quardcore..'})\n"
     ]
    }
   ],
   "source": [
    "class Product: # Product is the reference of the class object\n",
    "    def get(x):\n",
    "        return x.name,x.costprice,x.salesprice, x.properties\n",
    "mi_npte7pro = Product() # Product() is the data object. mi_npte7pro is the refertence of the data object called as an \n",
    "# instance.\n",
    "mi_npte7pro.name=\"MI note 7 pro\"\n",
    "mi_npte7pro.costprice = 5000\n",
    "mi_npte7pro.salesprice = 7000\n",
    "mi_npte7pro.properties = {\"RAM\":\"2 GB\",\"MEMORY\":\"32 GB\",\"PROCESSOR\":\"quardcore..\"}\n",
    "\n",
    "print(Product.get(mi_npte7pro))\n"
   ]
  },
  {
   "cell_type": "code",
   "execution_count": null,
   "metadata": {},
   "outputs": [],
   "source": [
    "# A class for Warehose which contains name, address, managerdetails as attributes. write a get function to access the data.\n",
    "# create 6 data objects with different names, call the get function by passing each data object.\n"
   ]
  },
  {
   "cell_type": "code",
   "execution_count": 11,
   "metadata": {},
   "outputs": [
    {
     "name": "stdout",
     "output_type": "stream",
     "text": [
      "('MI note 7 pro', 5000, 7000, {'RAM': '2 GB', 'MEMORY': '32 GB', 'PROCESSOR': 'quardcore..'})\n",
      "('Samsung galaxy note 7', 12000, 20000, {'display': '6 inch'})\n"
     ]
    }
   ],
   "source": [
    "class Product: # Product is the reference of the class object\n",
    "    def get(x):\n",
    "        return x.name,x.costprice,x.salesprice, x.properties\n",
    "mi_npte7pro = Product() # Product() is the data object. mi_npte7pro is the refertence of the data object called as an \n",
    "# instance.\n",
    "mi_npte7pro.name=\"MI note 7 pro\"\n",
    "mi_npte7pro.costprice = 5000\n",
    "mi_npte7pro.salesprice = 7000\n",
    "mi_npte7pro.properties = {\"RAM\":\"2 GB\",\"MEMORY\":\"32 GB\",\"PROCESSOR\":\"quardcore..\"}\n",
    "print(Product.get(mi_npte7pro))\n",
    "samsun_galaxy=Product()\n",
    "                                samsun_galaxy.name=\"Samsung galaxy note 7\"\n",
    "samsun_galaxy.costprice=12000\n",
    "samsun_galaxy.salesprice=20000\n",
    "samsun_galaxy.properties = {\"display\":\"6 inch\"}\n",
    "print(Product.get(samsun_galaxy))\n"
   ]
  },
  {
   "cell_type": "code",
   "execution_count": 2,
   "metadata": {},
   "outputs": [
    {
     "name": "stdout",
     "output_type": "stream",
     "text": [
      "('MI note 7 pro', 5000, 7000, {'RAM': '2 GB', 'MEMORY': '32 GB', 'PROCESSOR': 'quardcore..'})\n",
      "('Samsung galaxy note 7', 12000, 20000, {'display': '6 inch'})\n"
     ]
    }
   ],
   "source": [
    "class Product: # Product is the reference of the class object\n",
    "    def get(x):\n",
    "        return x.name,x.costprice,x.salesprice, x.properties\n",
    "mi_npte7pro = Product() # Product() is the data object. mi_npte7pro is the refertence of the data object called as an \n",
    "# instance.\n",
    "mi_npte7pro.name=\"MI note 7 pro\"\n",
    "mi_npte7pro.costprice = 5000\n",
    "mi_npte7pro.salesprice = 7000\n",
    "mi_npte7pro.properties = {\"RAM\":\"2 GB\",\"MEMORY\":\"32 GB\",\"PROCESSOR\":\"quardcore..\"}\n",
    "#print(Product.get(mi_npte7pro))\n",
    "print(mi_npte7pro.get())\n",
    "samsun_galaxy=Product()\n",
    "samsun_galaxy.name=\"Samsung galaxy note 7\"\n",
    "samsun_galaxy.costprice=12000\n",
    "samsun_galaxy.salesprice=20000\n",
    "samsun_galaxy.properties = {\"display\":\"6 inch\"}\n",
    "#print(Product.get(samsun_galaxy))\n",
    "print(samsun_galaxy.get())\n"
   ]
  },
  {
   "cell_type": "code",
   "execution_count": 4,
   "metadata": {},
   "outputs": [
    {
     "name": "stdout",
     "output_type": "stream",
     "text": [
      "('MI note 7 pro', 5000, 7000, {'RAM': '2 GB', 'MEMORY': '32 GB', 'PROCESSOR': 'quardcore..'})\n",
      "('Samsung galaxy note 7', 12000, 20000, {'display': '6 inch'})\n"
     ]
    }
   ],
   "source": [
    "class Product: # Product is the reference of the class object\n",
    "    def set_data(x,name,cp,sp,prop):\n",
    "        x.name=name\n",
    "        x.costprice=cp\n",
    "        x.salesprice=sp\n",
    "        x.properties=prop\n",
    "    def get(x):\n",
    "        return x.name,x.costprice,x.salesprice, x.properties\n",
    "mi_npte7pro = Product() # Product() is the data object. mi_npte7pro is the refertence of the data object called as an \n",
    "# instance.\n",
    "mi_npte7pro.set_data(\"MI note 7 pro\",5000,7000,{\"RAM\":\"2 GB\",\"MEMORY\":\"32 GB\",\"PROCESSOR\":\"quardcore..\"})\n",
    "'''\n",
    "mi_npte7pro.name=\"MI note 7 pro\"\n",
    "mi_npte7pro.costprice = 5000\n",
    "mi_npte7pro.salesprice = 7000\n",
    "mi_npte7pro.properties = {\"RAM\":\"2 GB\",\"MEMORY\":\"32 GB\",\"PROCESSOR\":\"quardcore..\"}\n",
    "'''\n",
    "\n",
    "#print(Product.get(mi_npte7pro))\n",
    "print(mi_npte7pro.get())\n",
    "samsun_galaxy=Product()\n",
    "samsun_galaxy.set_data(\"Samsung galaxy note 7\",12000,20000,{\"display\":\"6 inch\"})\n",
    "'''\n",
    "samsun_galaxy.name=\"Samsung galaxy note 7\"\n",
    "samsun_galaxy.costprice=12000\n",
    "samsun_galaxy.salesprice=20000\n",
    "samsun_galaxy.properties = {\"display\":\"6 inch\"}\n",
    "'''\n",
    "\n",
    "#print(Product.get(samsun_galaxy))\n",
    "print(samsun_galaxy.get())\n"
   ]
  },
  {
   "cell_type": "code",
   "execution_count": 5,
   "metadata": {},
   "outputs": [
    {
     "name": "stdout",
     "output_type": "stream",
     "text": [
      "('MI note 7 pro', 5000, 7000, {'RAM': '2 GB', 'MEMORY': '32 GB', 'PROCESSOR': 'quardcore..'})\n",
      "('Samsung galaxy note 7', 12000, 20000, {'display': '6 inch'})\n"
     ]
    }
   ],
   "source": [
    "class Product:\n",
    "    def set_data(self,name,cp,sp,prop):\n",
    "        self.name=name\n",
    "        self.costprice=cp\n",
    "        self.salesprice=sp\n",
    "        self.properties=prop\n",
    "    def get(self):\n",
    "        return self.name,self.costprice,self.salesprice, self.properties\n",
    "mi_npte7pro = Product()\n",
    "mi_npte7pro.set_data(\"MI note 7 pro\",5000,7000,{\"RAM\":\"2 GB\",\"MEMORY\":\"32 GB\",\"PROCESSOR\":\"quardcore..\"})\n",
    "print(mi_npte7pro.get())\n",
    "samsun_galaxy=Product()\n",
    "samsun_galaxy.set_data(\"Samsung galaxy note 7\",12000,20000,{\"display\":\"6 inch\"})\n",
    "print(samsun_galaxy.get())\n"
   ]
  },
  {
   "cell_type": "code",
   "execution_count": 6,
   "metadata": {},
   "outputs": [
    {
     "name": "stdout",
     "output_type": "stream",
     "text": [
      "('MI note 7 pro', 5000, 7000, {'RAM': '2 GB', 'MEMORY': '32 GB', 'PROCESSOR': 'quardcore..'})\n",
      "('Samsung galaxy note 7', 12000, 20000, {'display': '6 inch'})\n"
     ]
    }
   ],
   "source": [
    "class Product:\n",
    "    def x(self,name,cp,sp,prop):\n",
    "        self.name=name\n",
    "        self.costprice=cp\n",
    "        self.salesprice=sp\n",
    "        self.properties=prop\n",
    "    def y(self):\n",
    "        return self.name,self.costprice,self.salesprice, self.properties\n",
    "mi_npte7pro = Product()\n",
    "mi_npte7pro.x(\"MI note 7 pro\",5000,7000,{\"RAM\":\"2 GB\",\"MEMORY\":\"32 GB\",\"PROCESSOR\":\"quardcore..\"})\n",
    "print(mi_npte7pro.y())\n",
    "samsun_galaxy=Product()\n",
    "samsun_galaxy.x(\"Samsung galaxy note 7\",12000,20000,{\"display\":\"6 inch\"})\n",
    "print(samsun_galaxy.y())\n"
   ]
  },
  {
   "cell_type": "code",
   "execution_count": 7,
   "metadata": {},
   "outputs": [
    {
     "name": "stdout",
     "output_type": "stream",
     "text": [
      "('MI note 7 pro', 5000, 7000, {'RAM': '2 GB', 'MEMORY': '32 GB', 'PROCESSOR': 'quardcore..'})\n",
      "('Samsung galaxy note 7', 12000, 20000, {'display': '6 inch'})\n"
     ]
    },
    {
     "ename": "AttributeError",
     "evalue": "'Product' object has no attribute 'xyz'",
     "output_type": "error",
     "traceback": [
      "\u001b[0;31m---------------------------------------------------------------------------\u001b[0m",
      "\u001b[0;31mAttributeError\u001b[0m                            Traceback (most recent call last)",
      "\u001b[0;32m<ipython-input-7-0ce0280288f1>\u001b[0m in \u001b[0;36m<module>\u001b[0;34m()\u001b[0m\n\u001b[1;32m     14\u001b[0m \u001b[0mprint\u001b[0m\u001b[0;34m(\u001b[0m\u001b[0msamsun_galaxy\u001b[0m\u001b[0;34m.\u001b[0m\u001b[0mget\u001b[0m\u001b[0;34m(\u001b[0m\u001b[0;34m)\u001b[0m\u001b[0;34m)\u001b[0m\u001b[0;34m\u001b[0m\u001b[0m\n\u001b[1;32m     15\u001b[0m \u001b[0mapple\u001b[0m \u001b[0;34m=\u001b[0m \u001b[0mProduct\u001b[0m\u001b[0;34m(\u001b[0m\u001b[0;34m)\u001b[0m\u001b[0;34m\u001b[0m\u001b[0m\n\u001b[0;32m---> 16\u001b[0;31m \u001b[0mprint\u001b[0m\u001b[0;34m(\u001b[0m\u001b[0mapple\u001b[0m\u001b[0;34m.\u001b[0m\u001b[0mxyz\u001b[0m\u001b[0;34m(\u001b[0m\u001b[0;34m)\u001b[0m\u001b[0;34m)\u001b[0m\u001b[0;34m\u001b[0m\u001b[0m\n\u001b[0m",
      "\u001b[0;31mAttributeError\u001b[0m: 'Product' object has no attribute 'xyz'"
     ]
    }
   ],
   "source": [
    "class Product:\n",
    "    def set_data(self,name,cp,sp,prop):\n",
    "        self.name=name\n",
    "        self.costprice=cp\n",
    "        self.salesprice=sp\n",
    "        self.properties=prop\n",
    "    def get(self):\n",
    "        return self.name,self.costprice,self.salesprice, self.properties\n",
    "mi_npte7pro = Product()\n",
    "mi_npte7pro.set_data(\"MI note 7 pro\",5000,7000,{\"RAM\":\"2 GB\",\"MEMORY\":\"32 GB\",\"PROCESSOR\":\"quardcore..\"})\n",
    "print(mi_npte7pro.get())\n",
    "samsun_galaxy=Product()\n",
    "samsun_galaxy.set_data(\"Samsung galaxy note 7\",12000,20000,{\"display\":\"6 inch\"})\n",
    "print(samsun_galaxy.get())\n",
    "apple = Product()\n",
    "print(apple.xyz())"
   ]
  },
  {
   "cell_type": "code",
   "execution_count": 8,
   "metadata": {},
   "outputs": [
    {
     "name": "stdout",
     "output_type": "stream",
     "text": [
      "('MI note 7 pro', 5000, 7000, {'RAM': '2 GB', 'MEMORY': '32 GB', 'PROCESSOR': 'quardcore..'})\n",
      "('Samsung galaxy note 7', 12000, 20000, {'display': '6 inch'})\n"
     ]
    },
    {
     "ename": "AttributeError",
     "evalue": "'Product' object has no attribute 'name'",
     "output_type": "error",
     "traceback": [
      "\u001b[0;31m---------------------------------------------------------------------------\u001b[0m",
      "\u001b[0;31mAttributeError\u001b[0m                            Traceback (most recent call last)",
      "\u001b[0;32m<ipython-input-8-95591a28761e>\u001b[0m in \u001b[0;36m<module>\u001b[0;34m()\u001b[0m\n\u001b[1;32m     14\u001b[0m \u001b[0mprint\u001b[0m\u001b[0;34m(\u001b[0m\u001b[0msamsun_galaxy\u001b[0m\u001b[0;34m.\u001b[0m\u001b[0mget\u001b[0m\u001b[0;34m(\u001b[0m\u001b[0;34m)\u001b[0m\u001b[0;34m)\u001b[0m\u001b[0;34m\u001b[0m\u001b[0m\n\u001b[1;32m     15\u001b[0m \u001b[0mapple\u001b[0m \u001b[0;34m=\u001b[0m \u001b[0mProduct\u001b[0m\u001b[0;34m(\u001b[0m\u001b[0;34m)\u001b[0m\u001b[0;34m\u001b[0m\u001b[0m\n\u001b[0;32m---> 16\u001b[0;31m \u001b[0mprint\u001b[0m\u001b[0;34m(\u001b[0m\u001b[0mapple\u001b[0m\u001b[0;34m.\u001b[0m\u001b[0mget\u001b[0m\u001b[0;34m(\u001b[0m\u001b[0;34m)\u001b[0m\u001b[0;34m)\u001b[0m\u001b[0;34m\u001b[0m\u001b[0m\n\u001b[0m",
      "\u001b[0;32m<ipython-input-8-95591a28761e>\u001b[0m in \u001b[0;36mget\u001b[0;34m(self)\u001b[0m\n\u001b[1;32m      6\u001b[0m         \u001b[0mself\u001b[0m\u001b[0;34m.\u001b[0m\u001b[0mproperties\u001b[0m\u001b[0;34m=\u001b[0m\u001b[0mprop\u001b[0m\u001b[0;34m\u001b[0m\u001b[0m\n\u001b[1;32m      7\u001b[0m     \u001b[0;32mdef\u001b[0m \u001b[0mget\u001b[0m\u001b[0;34m(\u001b[0m\u001b[0mself\u001b[0m\u001b[0;34m)\u001b[0m\u001b[0;34m:\u001b[0m\u001b[0;34m\u001b[0m\u001b[0m\n\u001b[0;32m----> 8\u001b[0;31m         \u001b[0;32mreturn\u001b[0m \u001b[0mself\u001b[0m\u001b[0;34m.\u001b[0m\u001b[0mname\u001b[0m\u001b[0;34m,\u001b[0m\u001b[0mself\u001b[0m\u001b[0;34m.\u001b[0m\u001b[0mcostprice\u001b[0m\u001b[0;34m,\u001b[0m\u001b[0mself\u001b[0m\u001b[0;34m.\u001b[0m\u001b[0msalesprice\u001b[0m\u001b[0;34m,\u001b[0m \u001b[0mself\u001b[0m\u001b[0;34m.\u001b[0m\u001b[0mproperties\u001b[0m\u001b[0;34m\u001b[0m\u001b[0m\n\u001b[0m\u001b[1;32m      9\u001b[0m \u001b[0mmi_npte7pro\u001b[0m \u001b[0;34m=\u001b[0m \u001b[0mProduct\u001b[0m\u001b[0;34m(\u001b[0m\u001b[0;34m)\u001b[0m\u001b[0;34m\u001b[0m\u001b[0m\n\u001b[1;32m     10\u001b[0m \u001b[0mmi_npte7pro\u001b[0m\u001b[0;34m.\u001b[0m\u001b[0mset_data\u001b[0m\u001b[0;34m(\u001b[0m\u001b[0;34m\"MI note 7 pro\"\u001b[0m\u001b[0;34m,\u001b[0m\u001b[0;36m5000\u001b[0m\u001b[0;34m,\u001b[0m\u001b[0;36m7000\u001b[0m\u001b[0;34m,\u001b[0m\u001b[0;34m{\u001b[0m\u001b[0;34m\"RAM\"\u001b[0m\u001b[0;34m:\u001b[0m\u001b[0;34m\"2 GB\"\u001b[0m\u001b[0;34m,\u001b[0m\u001b[0;34m\"MEMORY\"\u001b[0m\u001b[0;34m:\u001b[0m\u001b[0;34m\"32 GB\"\u001b[0m\u001b[0;34m,\u001b[0m\u001b[0;34m\"PROCESSOR\"\u001b[0m\u001b[0;34m:\u001b[0m\u001b[0;34m\"quardcore..\"\u001b[0m\u001b[0;34m}\u001b[0m\u001b[0;34m)\u001b[0m\u001b[0;34m\u001b[0m\u001b[0m\n",
      "\u001b[0;31mAttributeError\u001b[0m: 'Product' object has no attribute 'name'"
     ]
    }
   ],
   "source": [
    "class Product:\n",
    "    def set_data(self,name,cp,sp,prop):\n",
    "        self.name=name\n",
    "        self.costprice=cp\n",
    "        self.salesprice=sp\n",
    "        self.properties=prop\n",
    "    def get(self):\n",
    "        return self.name,self.costprice,self.salesprice, self.properties\n",
    "mi_npte7pro = Product()\n",
    "mi_npte7pro.set_data(\"MI note 7 pro\",5000,7000,{\"RAM\":\"2 GB\",\"MEMORY\":\"32 GB\",\"PROCESSOR\":\"quardcore..\"})\n",
    "print(mi_npte7pro.get())\n",
    "samsun_galaxy=Product()\n",
    "samsun_galaxy.set_data(\"Samsung galaxy note 7\",12000,20000,{\"display\":\"6 inch\"})\n",
    "print(samsun_galaxy.get())\n",
    "apple = Product()\n",
    "print(apple.get())"
   ]
  },
  {
   "cell_type": "code",
   "execution_count": 9,
   "metadata": {},
   "outputs": [
    {
     "name": "stdout",
     "output_type": "stream",
     "text": [
      "this is class\n"
     ]
    }
   ],
   "source": [
    "class c1:\n",
    "    print(\"this is class\")"
   ]
  },
  {
   "cell_type": "code",
   "execution_count": 10,
   "metadata": {},
   "outputs": [
    {
     "name": "stdout",
     "output_type": "stream",
     "text": [
      "this is class\n"
     ]
    }
   ],
   "source": [
    "class c1:\n",
    "    print(\"this is class\")\n",
    "    def get(self):\n",
    "        print(\"this is get\")"
   ]
  },
  {
   "cell_type": "code",
   "execution_count": 11,
   "metadata": {},
   "outputs": [
    {
     "name": "stdout",
     "output_type": "stream",
     "text": [
      "this is class\n"
     ]
    }
   ],
   "source": [
    "class c1:\n",
    "    print(\"this is class\")\n",
    "    def get(self):\n",
    "        print(\"this is get\")\n",
    "    def __init__(self):\n",
    "        print(\"this is init\")"
   ]
  },
  {
   "cell_type": "code",
   "execution_count": 12,
   "metadata": {},
   "outputs": [
    {
     "name": "stdout",
     "output_type": "stream",
     "text": [
      "this is class\n",
      "this is init\n"
     ]
    }
   ],
   "source": [
    "class c1:\n",
    "    print(\"this is class\")\n",
    "    def get(self):\n",
    "        print(\"this is get\")\n",
    "    def __init__(self):\n",
    "        print(\"this is init\")\n",
    "o1=c1()"
   ]
  },
  {
   "cell_type": "code",
   "execution_count": 13,
   "metadata": {},
   "outputs": [
    {
     "name": "stdout",
     "output_type": "stream",
     "text": [
      "this is class\n"
     ]
    }
   ],
   "source": [
    "class c1:\n",
    "    print(\"this is class\")\n",
    "    def get(self):\n",
    "        print(\"this is get\")\n",
    "    def __init__(self):\n",
    "        print(\"this is init\")\n"
   ]
  },
  {
   "cell_type": "code",
   "execution_count": 14,
   "metadata": {},
   "outputs": [
    {
     "name": "stdout",
     "output_type": "stream",
     "text": [
      "this is class\n",
      "this is init\n"
     ]
    }
   ],
   "source": [
    "class c1:\n",
    "    print(\"this is class\")\n",
    "    def get(self):\n",
    "        print(\"this is get\")\n",
    "    def __init__(self):\n",
    "        print(\"this is init\")\n",
    "o1=c1()"
   ]
  },
  {
   "cell_type": "code",
   "execution_count": 15,
   "metadata": {},
   "outputs": [
    {
     "name": "stdout",
     "output_type": "stream",
     "text": [
      "this is class\n",
      "this is init\n",
      "this is init\n"
     ]
    }
   ],
   "source": [
    "class c1:\n",
    "    print(\"this is class\")\n",
    "    def get(self):\n",
    "        print(\"this is get\")\n",
    "    def __init__(self):\n",
    "        print(\"this is init\")\n",
    "o1=c1()\n",
    "o2=c1()"
   ]
  },
  {
   "cell_type": "code",
   "execution_count": 16,
   "metadata": {},
   "outputs": [
    {
     "name": "stdout",
     "output_type": "stream",
     "text": [
      "this is class\n",
      "this is init\n",
      "this is init\n",
      "this is init\n"
     ]
    }
   ],
   "source": [
    "class c1:\n",
    "    print(\"this is class\")\n",
    "    def get(self):\n",
    "        print(\"this is get\")\n",
    "    def __init__(self):\n",
    "        # constructor\n",
    "        print(\"this is init\")\n",
    "o1=c1()\n",
    "o2=c1()\n",
    "o3=c1()"
   ]
  },
  {
   "cell_type": "code",
   "execution_count": 17,
   "metadata": {},
   "outputs": [],
   "source": [
    "class Emp:\n",
    "    def __init__(self):\n",
    "        print(\"this is init\")\n",
    "    def leave_cal(self):\n",
    "        print(\"this is leave calculation\")\n",
    "    def sal_cal(self):\n",
    "        print(\"this is sal calculation..\")\n",
    "    def get_data(self):\n",
    "        print(\"this is get\")"
   ]
  },
  {
   "cell_type": "code",
   "execution_count": 19,
   "metadata": {},
   "outputs": [
    {
     "name": "stdout",
     "output_type": "stream",
     "text": [
      "this is init\n"
     ]
    }
   ],
   "source": [
    "class Emp:\n",
    "    def get_data(self):\n",
    "        print(\"this is get\")\n",
    "    def __init__(self):\n",
    "        print(\"this is init\")\n",
    "    def leave_cal(self):\n",
    "        print(\"this is leave calculation\")\n",
    "    def sal_cal(self):\n",
    "        print(\"this is sal calculation..\")\n",
    "    \n",
    "anil = Emp()"
   ]
  },
  {
   "cell_type": "code",
   "execution_count": 20,
   "metadata": {},
   "outputs": [],
   "source": [
    "class Emp:\n",
    "    def get_data(self):\n",
    "        print(\"this is get\")\n",
    "    def __init1__(self):\n",
    "        print(\"this is init\")\n",
    "    def leave_cal(self):\n",
    "        print(\"this is leave calculation\")\n",
    "    def sal_cal(self):\n",
    "        print(\"this is sal calculation..\")\n",
    "    \n",
    "anil = Emp()"
   ]
  },
  {
   "cell_type": "code",
   "execution_count": 21,
   "metadata": {},
   "outputs": [
    {
     "name": "stdout",
     "output_type": "stream",
     "text": [
      "this is second init\n"
     ]
    }
   ],
   "source": [
    "class Emp:\n",
    "    def get_data(self):\n",
    "        print(\"this is get\")\n",
    "    def __init__(self):\n",
    "        print(\"this is init\")\n",
    "    def __init__(self):\n",
    "        print(\"this is second init\")\n",
    "    def leave_cal(self):\n",
    "        print(\"this is leave calculation\")\n",
    "    def sal_cal(self):\n",
    "        print(\"this is sal calculation..\")\n",
    "    \n",
    "anil = Emp()"
   ]
  },
  {
   "cell_type": "code",
   "execution_count": 22,
   "metadata": {},
   "outputs": [
    {
     "name": "stdout",
     "output_type": "stream",
     "text": [
      "('Anil kumar', 123, 2467878)\n"
     ]
    }
   ],
   "source": [
    "class Emp:\n",
    "    def get_data(self):\n",
    "        return self.name, self.id,self.sal\n",
    "    def __init__(self,name,e_id,e_sal):\n",
    "        self.name=name\n",
    "        self.id=e_id\n",
    "        self.sal=e_sal\n",
    "    def leave_cal(self):\n",
    "        pass\n",
    "    def sal_cal(self,per):\n",
    "        pass\n",
    "anil = Emp(\"Anil kumar\",123,2467878)\n",
    "print(anil.get_data())"
   ]
  },
  {
   "cell_type": "code",
   "execution_count": 23,
   "metadata": {},
   "outputs": [
    {
     "name": "stdout",
     "output_type": "stream",
     "text": [
      "('Anil kumar', 123, 2467878)\n",
      "('JAYARAM', 2354, 23454365)\n"
     ]
    }
   ],
   "source": [
    "class Emp:\n",
    "    def get_data(self):\n",
    "        return self.name, self.id,self.sal\n",
    "    def __init__(self,name,e_id,e_sal):\n",
    "        self.name=name\n",
    "        self.id=e_id\n",
    "        self.sal=e_sal\n",
    "    def leave_cal(self):\n",
    "        pass\n",
    "    def sal_cal(self,per):\n",
    "        pass\n",
    "anil = Emp(\"Anil kumar\",123,2467878)\n",
    "jay=Emp(\"JAYARAM\",2354,23454365)\n",
    "print(anil.get_data())\n",
    "print(jay.get_data())"
   ]
  },
  {
   "cell_type": "code",
   "execution_count": 24,
   "metadata": {},
   "outputs": [
    {
     "name": "stdout",
     "output_type": "stream",
     "text": [
      "('Anil kumar', 123, 2467878)\n",
      "('JAYARAM', 2354, 23454365)\n",
      "2714665.8\n"
     ]
    }
   ],
   "source": [
    "class Emp:\n",
    "    def get_data(self):\n",
    "        return self.name, self.id,self.sal\n",
    "    def __init__(self,name,e_id,e_sal):\n",
    "        self.name=name\n",
    "        self.id=e_id\n",
    "        self.sal=e_sal\n",
    "    def leave_cal(self):\n",
    "        pass\n",
    "    def sal_cal(self,per):\n",
    "        return self.sal  + self.sal*per/100\n",
    "anil = Emp(\"Anil kumar\",123,2467878)\n",
    "jay=Emp(\"JAYARAM\",2354,23454365)\n",
    "print(anil.get_data())\n",
    "print(jay.get_data())\n",
    "print(anil.sal_cal(10))"
   ]
  },
  {
   "cell_type": "code",
   "execution_count": 25,
   "metadata": {},
   "outputs": [
    {
     "name": "stdout",
     "output_type": "stream",
     "text": [
      "('Anil kumar', 123, 2467878)\n",
      "('JAYARAM', 2354, 23454365)\n",
      "2714665.8\n",
      "26268888.8\n"
     ]
    }
   ],
   "source": [
    "class Emp:\n",
    "    def get_data(self):\n",
    "        return self.name, self.id,self.sal\n",
    "    def __init__(self,name,e_id,e_sal):\n",
    "        self.name=name\n",
    "        self.id=e_id\n",
    "        self.sal=e_sal\n",
    "    def leave_cal(self):\n",
    "        pass\n",
    "    def sal_cal(self,per):\n",
    "        return self.sal  + self.sal*per/100\n",
    "anil = Emp(\"Anil kumar\",123,2467878)\n",
    "jay=Emp(\"JAYARAM\",2354,23454365)\n",
    "print(anil.get_data())\n",
    "print(jay.get_data())\n",
    "print(anil.sal_cal(10))\n",
    "print(jay.sal_cal(12))"
   ]
  },
  {
   "cell_type": "code",
   "execution_count": 26,
   "metadata": {},
   "outputs": [
    {
     "name": "stdout",
     "output_type": "stream",
     "text": [
      "('shadnagar warehouse', {'city': 'hyderabad', 'state': 'TS', 'street': 'shadnanagr'}, 'Jayaram')\n"
     ]
    }
   ],
   "source": [
    "# A class for Warehose which contains name, address, managerdetails as attributes. write a get function to access the data.\n",
    "# create 6 data objects with different names, call the get function by passing each data object.\n",
    "class Warehouse:\n",
    "    def get(self):\n",
    "        return self.name,self.address,self.manager\n",
    "    def __init__(self, name,address, manager):\n",
    "        self.name=name\n",
    "        self.address=address\n",
    "        self.manager=manager\n",
    "hyd_shadnagar = Warehouse(\"shadnagar warehouse\",{\"city\":\"hyderabad\",\"state\":\"TS\",\"street\":\"shadnanagr\"},\"Jayaram\")\n",
    "print(hyd_shadnagar.get())"
   ]
  },
  {
   "cell_type": "code",
   "execution_count": null,
   "metadata": {},
   "outputs": [],
   "source": [
    "#Scenario 1: Customer address verification to enter into hall. if he belongs to hyd then say ok to go inside.\n",
    "#Scenario 2: Expensespliter: for any perticular event split the expenses among the participants."
   ]
  }
 ],
 "metadata": {
  "kernelspec": {
   "display_name": "Python 3",
   "language": "python",
   "name": "python3"
  },
  "language_info": {
   "codemirror_mode": {
    "name": "ipython",
    "version": 3
   },
   "file_extension": ".py",
   "mimetype": "text/x-python",
   "name": "python",
   "nbconvert_exporter": "python",
   "pygments_lexer": "ipython3",
   "version": "3.7.0"
  }
 },
 "nbformat": 4,
 "nbformat_minor": 2
}
