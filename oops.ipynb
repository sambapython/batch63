{
 "cells": [
  {
   "cell_type": "code",
   "execution_count": 1,
   "metadata": {},
   "outputs": [
    {
     "name": "stdout",
     "output_type": "stream",
     "text": [
      "welcome\n",
      "this is class\n",
      "thanks..\n"
     ]
    }
   ],
   "source": [
    "print(\"welcome\")\n",
    "def fun():\n",
    "    print(\"this is fun\")\n",
    "class Emp:\n",
    "    print(\"this is class\")\n",
    "print(\"thanks..\")"
   ]
  },
  {
   "cell_type": "code",
   "execution_count": 2,
   "metadata": {},
   "outputs": [
    {
     "name": "stdout",
     "output_type": "stream",
     "text": [
      "welcome\n",
      "this is class\n",
      "1000 2000\n",
      "thanks..\n"
     ]
    }
   ],
   "source": [
    "print(\"welcome\")\n",
    "class Emp:\n",
    "    a=1000\n",
    "    b=2000\n",
    "    print(\"this is class\")\n",
    "    print(a,b)\n",
    "print(\"thanks..\")"
   ]
  },
  {
   "cell_type": "code",
   "execution_count": 3,
   "metadata": {},
   "outputs": [
    {
     "name": "stdout",
     "output_type": "stream",
     "text": [
      "welcome\n",
      "this is class\n"
     ]
    },
    {
     "ename": "NameError",
     "evalue": "name 'a' is not defined",
     "output_type": "error",
     "traceback": [
      "\u001b[0;31m---------------------------------------------------------------------------\u001b[0m",
      "\u001b[0;31mNameError\u001b[0m                                 Traceback (most recent call last)",
      "\u001b[0;32m<ipython-input-3-349578e8c140>\u001b[0m in \u001b[0;36m<module>\u001b[0;34m()\u001b[0m\n\u001b[1;32m      4\u001b[0m     \u001b[0mb\u001b[0m\u001b[0;34m=\u001b[0m\u001b[0;36m2000\u001b[0m\u001b[0;34m\u001b[0m\u001b[0m\n\u001b[1;32m      5\u001b[0m     \u001b[0mprint\u001b[0m\u001b[0;34m(\u001b[0m\u001b[0;34m\"this is class\"\u001b[0m\u001b[0;34m)\u001b[0m\u001b[0;34m\u001b[0m\u001b[0m\n\u001b[0;32m----> 6\u001b[0;31m \u001b[0mprint\u001b[0m\u001b[0;34m(\u001b[0m\u001b[0ma\u001b[0m\u001b[0;34m,\u001b[0m\u001b[0mb\u001b[0m\u001b[0;34m)\u001b[0m\u001b[0;34m\u001b[0m\u001b[0m\n\u001b[0m\u001b[1;32m      7\u001b[0m \u001b[0mprint\u001b[0m\u001b[0;34m(\u001b[0m\u001b[0;34m\"thanks..\"\u001b[0m\u001b[0;34m)\u001b[0m\u001b[0;34m\u001b[0m\u001b[0m\n",
      "\u001b[0;31mNameError\u001b[0m: name 'a' is not defined"
     ]
    }
   ],
   "source": [
    "print(\"welcome\")\n",
    "class Emp:\n",
    "    a=1000\n",
    "    b=2000\n",
    "    print(\"this is class\")\n",
    "print(a,b)\n",
    "print(\"thanks..\")"
   ]
  },
  {
   "cell_type": "code",
   "execution_count": 4,
   "metadata": {},
   "outputs": [
    {
     "name": "stdout",
     "output_type": "stream",
     "text": [
      "welcome\n",
      "1000\n",
      "2000\n",
      "this is fun\n",
      "x=10.y=20\n",
      "thanks..\n"
     ]
    }
   ],
   "source": [
    "print(\"welcome\")\n",
    "class Emp:\n",
    "    a=1000\n",
    "    b=2000\n",
    "    def fun(x,y):\n",
    "        print(\"this is fun\")\n",
    "        print(f\"x={x}.y={y}\")\n",
    "print(Emp.a)\n",
    "print(Emp.b)\n",
    "Emp.fun(10,20)\n",
    "print(\"thanks..\")"
   ]
  },
  {
   "cell_type": "code",
   "execution_count": 7,
   "metadata": {},
   "outputs": [
    {
     "name": "stdout",
     "output_type": "stream",
     "text": [
      "MI note 7 pro 5000\n"
     ]
    }
   ],
   "source": [
    "class Product: # Product is the reference of the class object\n",
    "    \n",
    "    def get(x):\n",
    "        return x.name,x.costprice,x.salesprice, x.properties\n",
    "mi_npte7pro = Product() # Product() is the data object. mi_npte7pro is the refertence of the data object called as an \n",
    "# instance.\n",
    "mi_npte7pro.name=\"MI note 7 pro\"\n",
    "mi_npte7pro.costprice = 5000\n",
    "mi_npte7pro.salesprice = 7000\n",
    "mi_npte7pro.properties = {\"RAM\":\"2 GB\",\"MEMORY\":\"32 GB\",\"PROCESSOR\":\"quardcore..\"}\n",
    "print(mi_npte7pro.name,mi_npte7pro.costprice)"
   ]
  },
  {
   "cell_type": "code",
   "execution_count": 10,
   "metadata": {},
   "outputs": [
    {
     "name": "stdout",
     "output_type": "stream",
     "text": [
      "('MI note 7 pro', 5000, 7000, {'RAM': '2 GB', 'MEMORY': '32 GB', 'PROCESSOR': 'quardcore..'})\n"
     ]
    }
   ],
   "source": [
    "class Product: # Product is the reference of the class object\n",
    "    def get(x):\n",
    "        return x.name,x.costprice,x.salesprice, x.properties\n",
    "mi_npte7pro = Product() # Product() is the data object. mi_npte7pro is the refertence of the data object called as an \n",
    "# instance.\n",
    "mi_npte7pro.name=\"MI note 7 pro\"\n",
    "mi_npte7pro.costprice = 5000\n",
    "mi_npte7pro.salesprice = 7000\n",
    "mi_npte7pro.properties = {\"RAM\":\"2 GB\",\"MEMORY\":\"32 GB\",\"PROCESSOR\":\"quardcore..\"}\n",
    "\n",
    "print(Product.get(mi_npte7pro))\n"
   ]
  },
  {
   "cell_type": "code",
   "execution_count": null,
   "metadata": {},
   "outputs": [],
   "source": [
    "# A class for Warehose which contains name, address, managerdetails as attributes. write a get function to access the data.\n",
    "# create 6 data objects with different names, call the get function by passing each data object.\n"
   ]
  },
  {
   "cell_type": "code",
   "execution_count": 11,
   "metadata": {},
   "outputs": [
    {
     "name": "stdout",
     "output_type": "stream",
     "text": [
      "('MI note 7 pro', 5000, 7000, {'RAM': '2 GB', 'MEMORY': '32 GB', 'PROCESSOR': 'quardcore..'})\n",
      "('Samsung galaxy note 7', 12000, 20000, {'display': '6 inch'})\n"
     ]
    }
   ],
   "source": [
    "class Product: # Product is the reference of the class object\n",
    "    def get(x):\n",
    "        return x.name,x.costprice,x.salesprice, x.properties\n",
    "mi_npte7pro = Product() # Product() is the data object. mi_npte7pro is the refertence of the data object called as an \n",
    "# instance.\n",
    "mi_npte7pro.name=\"MI note 7 pro\"\n",
    "mi_npte7pro.costprice = 5000\n",
    "mi_npte7pro.salesprice = 7000\n",
    "mi_npte7pro.properties = {\"RAM\":\"2 GB\",\"MEMORY\":\"32 GB\",\"PROCESSOR\":\"quardcore..\"}\n",
    "print(Product.get(mi_npte7pro))\n",
    "samsun_galaxy=Product()\n",
    "samsun_galaxy.name=\"Samsung galaxy note 7\"\n",
    "samsun_galaxy.costprice=12000\n",
    "samsun_galaxy.salesprice=20000\n",
    "samsun_galaxy.properties = {\"display\":\"6 inch\"}\n",
    "print(Product.get(samsun_galaxy))\n"
   ]
  },
  {
   "cell_type": "code",
   "execution_count": null,
   "metadata": {},
   "outputs": [],
   "source": []
  }
 ],
 "metadata": {
  "kernelspec": {
   "display_name": "Python 3",
   "language": "python",
   "name": "python3"
  },
  "language_info": {
   "codemirror_mode": {
    "name": "ipython",
    "version": 3
   },
   "file_extension": ".py",
   "mimetype": "text/x-python",
   "name": "python",
   "nbconvert_exporter": "python",
   "pygments_lexer": "ipython3",
   "version": "3.7.0"
  }
 },
 "nbformat": 4,
 "nbformat_minor": 2
}
