{
 "cells": [
  {
   "cell_type": "code",
   "execution_count": null,
   "metadata": {},
   "outputs": [],
   "source": [
    "class Emp:\n",
    "    @classmethod\n",
    "    def clm(cls):\n",
    "        print(\"this is class method\")\n",
    "    @staticmethod\n",
    "    def sta(x,y):\n",
    "        print(\"this is static method\")\n",
    "    def get(self):\n",
    "        print(\"this is an instance method\")\n",
    "jay=Emp()\n",
    "# call the three class methods using class and data objects."
   ]
  }
 ],
 "metadata": {
  "kernelspec": {
   "display_name": "Python 3",
   "language": "python",
   "name": "python3"
  },
  "language_info": {
   "codemirror_mode": {
    "name": "ipython",
    "version": 3
   },
   "file_extension": ".py",
   "mimetype": "text/x-python",
   "name": "python",
   "nbconvert_exporter": "python",
   "pygments_lexer": "ipython3",
   "version": "3.7.0"
  }
 },
 "nbformat": 4,
 "nbformat_minor": 2
}
