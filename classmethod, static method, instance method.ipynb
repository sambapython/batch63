{
 "cells": [
  {
   "cell_type": "code",
   "execution_count": null,
   "metadata": {},
   "outputs": [],
   "source": [
    "class Emp:\n",
    "    @classmethod\n",
    "    def clm(cls):\n",
    "        print(\"this is class method\")\n",
    "    @staticmethod\n",
    "    def sta(x,y):\n",
    "        print(\"this is static method\")\n",
    "    def get(self):\n",
    "        print(\"this is an instance method\")\n",
    "jay=Emp()\n",
    "# call the three class methods using class and data objects."
   ]
  },
  {
   "cell_type": "code",
   "execution_count": 1,
   "metadata": {},
   "outputs": [],
   "source": [
    "class Emp:\n",
    "    company_name=\"Khyaathi\"\n",
    "    company_address = \"ameerpet\"\n",
    "    @classmethod\n",
    "    def clm(cls):\n",
    "        print(\"this is class method\")\n",
    "    @staticmethod\n",
    "    def sta(x,y):\n",
    "        print(\"this is static method\")\n",
    "    def get(self):\n",
    "        print(\"this is an instance method\")\n",
    "jay=Emp()\n",
    "# call the three class methods using class and data objects."
   ]
  },
  {
   "cell_type": "code",
   "execution_count": 3,
   "metadata": {},
   "outputs": [
    {
     "name": "stdout",
     "output_type": "stream",
     "text": [
      "ameerpet Khyaathi jayaram 23\n"
     ]
    }
   ],
   "source": [
    "class Emp:\n",
    "    company_name=\"Khyaathi\"\n",
    "    company_address = \"ameerpet\"\n",
    "    def __init__(self,name,id):\n",
    "        self.name=name\n",
    "        self.id=id\n",
    "    @classmethod\n",
    "    def clm(cls):\n",
    "        print(\"this is class method\")\n",
    "    @staticmethod\n",
    "    def sta(x,y):\n",
    "        print(\"this is static method\")\n",
    "    def get(self):\n",
    "        print(\"this is an instance method\")\n",
    "        return self.name,self.id,self.company_name,self.company_address\n",
    "jay=Emp(\"jayaram\",23)\n",
    "print(jay.company_address,jay.company_name,jay.name,jay.id)"
   ]
  },
  {
   "cell_type": "code",
   "execution_count": 5,
   "metadata": {},
   "outputs": [
    {
     "name": "stdout",
     "output_type": "stream",
     "text": [
      "ameerpet Khyaathi jayaram 23\n",
      "Khyaathi ameerpet\n"
     ]
    }
   ],
   "source": [
    "class Emp:\n",
    "    company_name=\"Khyaathi\"\n",
    "    company_address = \"ameerpet\"\n",
    "    def __init__(self,name,id):\n",
    "        self.name=name\n",
    "        self.id=id\n",
    "    @classmethod\n",
    "    def clm(cls):\n",
    "        print(\"this is class method\")\n",
    "    @staticmethod\n",
    "    def sta(x,y):\n",
    "        print(\"this is static method\")\n",
    "    def get(self):\n",
    "        print(\"this is an instance method\")\n",
    "        return self.name,self.id,self.company_name,self.company_address\n",
    "jay=Emp(\"jayaram\",23)\n",
    "print(jay.company_address,jay.company_name,jay.name,jay.id)\n",
    "print(Emp.company_name,Emp.company_address)"
   ]
  },
  {
   "cell_type": "code",
   "execution_count": 6,
   "metadata": {},
   "outputs": [
    {
     "name": "stdout",
     "output_type": "stream",
     "text": [
      "ameerpet Khyaathi jayaram 23\n",
      "Khyaathi ameerpet\n"
     ]
    },
    {
     "ename": "AttributeError",
     "evalue": "type object 'Emp' has no attribute 'name'",
     "output_type": "error",
     "traceback": [
      "\u001b[0;31m---------------------------------------------------------------------------\u001b[0m",
      "\u001b[0;31mAttributeError\u001b[0m                            Traceback (most recent call last)",
      "\u001b[0;32m<ipython-input-6-6cb558c4126d>\u001b[0m in \u001b[0;36m<module>\u001b[0;34m()\u001b[0m\n\u001b[1;32m     17\u001b[0m \u001b[0mprint\u001b[0m\u001b[0;34m(\u001b[0m\u001b[0mjay\u001b[0m\u001b[0;34m.\u001b[0m\u001b[0mcompany_address\u001b[0m\u001b[0;34m,\u001b[0m\u001b[0mjay\u001b[0m\u001b[0;34m.\u001b[0m\u001b[0mcompany_name\u001b[0m\u001b[0;34m,\u001b[0m\u001b[0mjay\u001b[0m\u001b[0;34m.\u001b[0m\u001b[0mname\u001b[0m\u001b[0;34m,\u001b[0m\u001b[0mjay\u001b[0m\u001b[0;34m.\u001b[0m\u001b[0mid\u001b[0m\u001b[0;34m)\u001b[0m\u001b[0;34m\u001b[0m\u001b[0m\n\u001b[1;32m     18\u001b[0m \u001b[0mprint\u001b[0m\u001b[0;34m(\u001b[0m\u001b[0mEmp\u001b[0m\u001b[0;34m.\u001b[0m\u001b[0mcompany_name\u001b[0m\u001b[0;34m,\u001b[0m\u001b[0mEmp\u001b[0m\u001b[0;34m.\u001b[0m\u001b[0mcompany_address\u001b[0m\u001b[0;34m)\u001b[0m\u001b[0;34m\u001b[0m\u001b[0m\n\u001b[0;32m---> 19\u001b[0;31m \u001b[0mprint\u001b[0m\u001b[0;34m(\u001b[0m\u001b[0mEmp\u001b[0m\u001b[0;34m.\u001b[0m\u001b[0mname\u001b[0m\u001b[0;34m,\u001b[0m \u001b[0mEmp\u001b[0m\u001b[0;34m.\u001b[0m\u001b[0mid\u001b[0m\u001b[0;34m)\u001b[0m\u001b[0;34m\u001b[0m\u001b[0m\n\u001b[0m",
      "\u001b[0;31mAttributeError\u001b[0m: type object 'Emp' has no attribute 'name'"
     ]
    }
   ],
   "source": [
    "class Emp:\n",
    "    company_name=\"Khyaathi\"\n",
    "    company_address = \"ameerpet\"\n",
    "    def __init__(self,name,id):\n",
    "        self.name=name\n",
    "        self.id=id\n",
    "    @classmethod\n",
    "    def clm(cls):\n",
    "        print(\"this is class method\")\n",
    "    @staticmethod\n",
    "    def sta(x,y):\n",
    "        print(\"this is static method\")\n",
    "    def get(self):\n",
    "        print(\"this is an instance method\")\n",
    "        return self.name,self.id,self.company_name,self.company_address\n",
    "jay=Emp(\"jayaram\",23)\n",
    "print(jay.company_address,jay.company_name,jay.name,jay.id)\n",
    "print(Emp.company_name,Emp.company_address)\n",
    "print(Emp.name, Emp.id)"
   ]
  },
  {
   "cell_type": "code",
   "execution_count": 7,
   "metadata": {},
   "outputs": [
    {
     "name": "stdout",
     "output_type": "stream",
     "text": [
      "this is an instance method\n",
      "('jayaram', 23, 'Khyaathi', 'ameerpet')\n"
     ]
    }
   ],
   "source": [
    "class Emp:\n",
    "    company_name=\"Khyaathi\"\n",
    "    company_address = \"ameerpet\"\n",
    "    def __init__(self,name,id):\n",
    "        self.name=name\n",
    "        self.id=id\n",
    "    def get(self):\n",
    "        return self.name,self.id,self.company_name,self.company_address\n",
    "jay=Emp(\"jayaram\",23)\n",
    "print(jay.get())"
   ]
  },
  {
   "cell_type": "code",
   "execution_count": 8,
   "metadata": {},
   "outputs": [
    {
     "name": "stdout",
     "output_type": "stream",
     "text": [
      "('jayaram', 23, 'Khyaathi', 'ameerpet')\n",
      "('jayaram', 23, 'Khyaathi', 'ameerpet')\n"
     ]
    }
   ],
   "source": [
    "class Emp:\n",
    "    company_name=\"Khyaathi\"\n",
    "    company_address = \"ameerpet\"\n",
    "    def __init__(self,name,id):\n",
    "        self.name=name\n",
    "        self.id=id\n",
    "    def get(self):\n",
    "        return self.name,self.id,self.company_name,self.company_address\n",
    "jay=Emp(\"jayaram\",23)\n",
    "print(jay.get())\n",
    "print(Emp.get(jay))"
   ]
  },
  {
   "cell_type": "code",
   "execution_count": 9,
   "metadata": {},
   "outputs": [
    {
     "name": "stdout",
     "output_type": "stream",
     "text": [
      "('Khyaathi', 'ameerpet')\n",
      "('Khyaathi', 'ameerpet')\n"
     ]
    }
   ],
   "source": [
    "class Emp:\n",
    "    company_name=\"Khyaathi\"\n",
    "    company_address = \"ameerpet\"\n",
    "    def __init__(self,name,id):\n",
    "        self.name=name\n",
    "        self.id=id\n",
    "    def get_company(self):\n",
    "        return self.company_name,self.company_address\n",
    "    def get(self):\n",
    "        return self.name,self.id,self.company_name,self.company_address\n",
    "jay=Emp(\"jayaram\",23)\n",
    "print(jay.get_company())\n",
    "print(Emp.get_company(jay))"
   ]
  },
  {
   "cell_type": "code",
   "execution_count": 10,
   "metadata": {},
   "outputs": [
    {
     "name": "stdout",
     "output_type": "stream",
     "text": [
      "('Khyaathi', 'ameerpet')\n",
      "('Khyaathi', 'ameerpet')\n"
     ]
    }
   ],
   "source": [
    "class Emp:\n",
    "    company_name=\"Khyaathi\"\n",
    "    company_address = \"ameerpet\"\n",
    "    def __init__(self,name,id):\n",
    "        self.name=name\n",
    "        self.id=id\n",
    "    @classmethod\n",
    "    def get_company(self):\n",
    "        return self.company_name,self.company_address\n",
    "    def get(self):\n",
    "        return self.name,self.id,self.company_name,self.company_address\n",
    "jay=Emp(\"jayaram\",23)\n",
    "print(jay.get_company())\n",
    "print(Emp.get_company())"
   ]
  },
  {
   "cell_type": "code",
   "execution_count": 11,
   "metadata": {},
   "outputs": [
    {
     "name": "stdout",
     "output_type": "stream",
     "text": [
      "10 20\n",
      "100 200\n"
     ]
    }
   ],
   "source": [
    "class Emp:\n",
    "    company_name=\"Khyaathi\"\n",
    "    company_address = \"ameerpet\"\n",
    "    def __init__(self,name,id):\n",
    "        self.name=name\n",
    "        self.id=id\n",
    "    @classmethod\n",
    "    def get_company(self):\n",
    "        return self.company_name,self.company_address\n",
    "    @staticmethod\n",
    "    def sta(x,y):\n",
    "        print(x,y)\n",
    "    def get(self):\n",
    "        return self.name,self.id,self.company_name,self.company_address\n",
    "jay=Emp(\"jayaram\",23)\n",
    "jay.sta(10,20)\n",
    "Emp.sta(100,200)"
   ]
  },
  {
   "cell_type": "code",
   "execution_count": null,
   "metadata": {},
   "outputs": [],
   "source": [
    "# if you call any instance method using data object, then data object wiil be passed as first argument.\n",
    "# if you call any instance method using class object, then need to pass data object first argument.\n",
    "# if you call any class method using class object or data object, then class will be passed as a first argument\n",
    "# if you call any staic method using class object or data object, then nothing will be passed as a first argument."
   ]
  },
  {
   "cell_type": "code",
   "execution_count": 13,
   "metadata": {},
   "outputs": [
    {
     "name": "stdout",
     "output_type": "stream",
     "text": [
      "guduru jayaram\n"
     ]
    }
   ],
   "source": [
    "# property decorator\n",
    "class Emp:\n",
    "    def __init__(self,fn,ln):\n",
    "        self.fn=fn\n",
    "        self.ln=ln\n",
    "        self.name=fn+\" \"+ln\n",
    "jay = Emp(\"guduru\",\"jayaram\")\n",
    "print(jay.name)"
   ]
  },
  {
   "cell_type": "code",
   "execution_count": 14,
   "metadata": {},
   "outputs": [
    {
     "name": "stdout",
     "output_type": "stream",
     "text": [
      "guduru jayaram\n"
     ]
    }
   ],
   "source": [
    "# property decorator\n",
    "class Emp:\n",
    "    def __init__(self,fn,ln):\n",
    "        self.fn=fn\n",
    "        self.ln=ln\n",
    "        self.name=fn+\" \"+ln\n",
    "jay = Emp(\"guduru\",\"jayaram\")\n",
    "jay.fn=\"GUDURU\"\n",
    "print(jay.name)"
   ]
  },
  {
   "cell_type": "code",
   "execution_count": 15,
   "metadata": {},
   "outputs": [
    {
     "name": "stdout",
     "output_type": "stream",
     "text": [
      "GUDURU jayaram\n"
     ]
    }
   ],
   "source": [
    "# property decorator\n",
    "class Emp:\n",
    "    def __init__(self,fn,ln):\n",
    "        self.fn=fn\n",
    "        self.ln=ln\n",
    "    @property\n",
    "    def name(self):\n",
    "        return self.fn+\" \"+self.ln\n",
    "jay = Emp(\"guduru\",\"jayaram\")\n",
    "jay.fn=\"GUDURU\"\n",
    "print(jay.name)"
   ]
  },
  {
   "cell_type": "code",
   "execution_count": 16,
   "metadata": {},
   "outputs": [
    {
     "name": "stdout",
     "output_type": "stream",
     "text": [
      "GUDURU jayaram\n",
      "GUDURU JAYARAM\n"
     ]
    }
   ],
   "source": [
    "# property decorator\n",
    "class Emp:\n",
    "    def __init__(self,fn,ln):\n",
    "        self.fn=fn\n",
    "        self.ln=ln\n",
    "    @property\n",
    "    def name(self):\n",
    "        return self.fn+\" \"+self.ln\n",
    "jay = Emp(\"guduru\",\"jayaram\")\n",
    "jay.fn=\"GUDURU\"\n",
    "print(jay.name)\n",
    "jay.ln=\"JAYARAM\"\n",
    "print(jay.name)"
   ]
  },
  {
   "cell_type": "code",
   "execution_count": null,
   "metadata": {},
   "outputs": [],
   "source": []
  }
 ],
 "metadata": {
  "kernelspec": {
   "display_name": "Python 3",
   "language": "python",
   "name": "python3"
  },
  "language_info": {
   "codemirror_mode": {
    "name": "ipython",
    "version": 3
   },
   "file_extension": ".py",
   "mimetype": "text/x-python",
   "name": "python",
   "nbconvert_exporter": "python",
   "pygments_lexer": "ipython3",
   "version": "3.7.0"
  }
 },
 "nbformat": 4,
 "nbformat_minor": 2
}
