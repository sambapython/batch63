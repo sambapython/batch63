{
 "cells": [
  {
   "cell_type": "code",
   "execution_count": 1,
   "metadata": {},
   "outputs": [
    {
     "name": "stdout",
     "output_type": "stream",
     "text": [
      "30\n"
     ]
    }
   ],
   "source": [
    "# operator overloading, method overloading, method overriding.\n",
    "a=10\n",
    "b=20\n",
    "print(a+b)"
   ]
  },
  {
   "cell_type": "code",
   "execution_count": 2,
   "metadata": {},
   "outputs": [
    {
     "name": "stdout",
     "output_type": "stream",
     "text": [
      "str1str2\n"
     ]
    }
   ],
   "source": [
    "s1=\"str1\"\n",
    "s2=\"str2\"\n",
    "print(s1+s2)"
   ]
  },
  {
   "cell_type": "code",
   "execution_count": 3,
   "metadata": {},
   "outputs": [
    {
     "data": {
      "text/plain": [
       "22.34"
      ]
     },
     "execution_count": 3,
     "metadata": {},
     "output_type": "execute_result"
    }
   ],
   "source": [
    "a=10\n",
    "v=12.34\n",
    "a+v"
   ]
  },
  {
   "cell_type": "code",
   "execution_count": 4,
   "metadata": {},
   "outputs": [
    {
     "name": "stdout",
     "output_type": "stream",
     "text": [
      "3000\n"
     ]
    }
   ],
   "source": [
    "class Emp:\n",
    "    def __init__(self, name):\n",
    "        self.name=name\n",
    "jay=Emp(\"jayaram\")\n",
    "vedha=Emp(\"vedhanvesh\")\n",
    "a=1000\n",
    "b=2000\n",
    "print(a+b)"
   ]
  },
  {
   "cell_type": "code",
   "execution_count": 5,
   "metadata": {},
   "outputs": [
    {
     "name": "stdout",
     "output_type": "stream",
     "text": [
      "jayaram\n",
      "vedhanvesh\n",
      "['1', '2', '3', '4', 10]\n"
     ]
    }
   ],
   "source": [
    "class Emp:\n",
    "    def __init__(self, name):\n",
    "        self.name=name\n",
    "    def get(self):\n",
    "        return self.name\n",
    "jay=Emp(\"jayaram\")\n",
    "vedha=Emp(\"vedhanvesh\")\n",
    "print(jay.get())\n",
    "print(vedha.get())\n",
    "l=list(\"1234\")\n",
    "l.append(10)\n",
    "print(l)\n",
    "a=1000\n",
    "# l is the ref datat object of list class\n",
    "# jay is the ref data object Emp class\n",
    "# vedha is ref the data object of Emp class\n",
    "# a is the ref data object of the int class"
   ]
  },
  {
   "cell_type": "code",
   "execution_count": 6,
   "metadata": {},
   "outputs": [
    {
     "name": "stdout",
     "output_type": "stream",
     "text": [
      "jayaram\n",
      "vedhanvesh\n",
      "['1', '2', '3', '4', 10]\n",
      "<class 'list'>\n",
      "<class 'int'>\n",
      "<class '__main__.Emp'>\n",
      "<class '__main__.Emp'>\n"
     ]
    }
   ],
   "source": [
    "class Emp:\n",
    "    def __init__(self, name):\n",
    "        self.name=name\n",
    "    def get(self):\n",
    "        return self.name\n",
    "jay=Emp(\"jayaram\")\n",
    "vedha=Emp(\"vedhanvesh\")\n",
    "print(jay.get())\n",
    "print(vedha.get())\n",
    "l=list(\"1234\")\n",
    "l.append(10)\n",
    "print(l)\n",
    "a=1000\n",
    "print(type(l))\n",
    "print(type(a))\n",
    "print(type(jay))\n",
    "print(type(vedha))\n",
    "# l is the ref datat object of list class\n",
    "# jay is the ref data object Emp class\n",
    "# vedha is ref the data object of Emp class\n",
    "# a is the ref data object of the int class\n"
   ]
  },
  {
   "cell_type": "code",
   "execution_count": 7,
   "metadata": {},
   "outputs": [
    {
     "data": {
      "text/plain": [
       "3000"
      ]
     },
     "execution_count": 7,
     "metadata": {},
     "output_type": "execute_result"
    }
   ],
   "source": [
    "a=1000\n",
    "b=2000\n",
    "a+b"
   ]
  },
  {
   "cell_type": "code",
   "execution_count": 8,
   "metadata": {},
   "outputs": [
    {
     "data": {
      "text/plain": [
       "'atr1str2'"
      ]
     },
     "execution_count": 8,
     "metadata": {},
     "output_type": "execute_result"
    }
   ],
   "source": [
    "s1=\"atr1\"\n",
    "s2=\"str2\"\n",
    "s1+s2"
   ]
  },
  {
   "cell_type": "code",
   "execution_count": null,
   "metadata": {},
   "outputs": [],
   "source": [
    "class Emp:\n",
    "    def __init__(self, name):\n",
    "        self.name=name\n",
    "    def get(self):\n",
    "        return self.name\n",
    "jay=Emp(\"jayaram\")\n",
    "vedha=Emp(\"vedhanvesh\")\n",
    "print(jay+vedha)"
   ]
  },
  {
   "cell_type": "code",
   "execution_count": 9,
   "metadata": {},
   "outputs": [
    {
     "ename": "TypeError",
     "evalue": "unsupported operand type(s) for +: 'dict' and 'dict'",
     "output_type": "error",
     "traceback": [
      "\u001b[0;31m---------------------------------------------------------------------------\u001b[0m",
      "\u001b[0;31mTypeError\u001b[0m                                 Traceback (most recent call last)",
      "\u001b[0;32m<ipython-input-9-6d9a70f70707>\u001b[0m in \u001b[0;36m<module>\u001b[0;34m()\u001b[0m\n\u001b[1;32m      1\u001b[0m \u001b[0md1\u001b[0m\u001b[0;34m=\u001b[0m\u001b[0;34m{\u001b[0m\u001b[0;34m\"name\"\u001b[0m\u001b[0;34m:\u001b[0m\u001b[0;34m\"jay\"\u001b[0m\u001b[0;34m}\u001b[0m\u001b[0;34m\u001b[0m\u001b[0m\n\u001b[1;32m      2\u001b[0m \u001b[0md2\u001b[0m\u001b[0;34m=\u001b[0m\u001b[0;34m{\u001b[0m\u001b[0;34m\"name\"\u001b[0m\u001b[0;34m:\u001b[0m\u001b[0;34m\"vedha\"\u001b[0m\u001b[0;34m}\u001b[0m\u001b[0;34m\u001b[0m\u001b[0m\n\u001b[0;32m----> 3\u001b[0;31m \u001b[0md1\u001b[0m\u001b[0;34m+\u001b[0m\u001b[0md2\u001b[0m\u001b[0;34m\u001b[0m\u001b[0m\n\u001b[0m",
      "\u001b[0;31mTypeError\u001b[0m: unsupported operand type(s) for +: 'dict' and 'dict'"
     ]
    }
   ],
   "source": [
    "d1={\"name\":\"jay\"}\n",
    "d2={\"name\":\"vedha\"}\n",
    "d1+d2"
   ]
  },
  {
   "cell_type": "code",
   "execution_count": 10,
   "metadata": {},
   "outputs": [
    {
     "ename": "TypeError",
     "evalue": "'>' not supported between instances of 'complex' and 'complex'",
     "output_type": "error",
     "traceback": [
      "\u001b[0;31m---------------------------------------------------------------------------\u001b[0m",
      "\u001b[0;31mTypeError\u001b[0m                                 Traceback (most recent call last)",
      "\u001b[0;32m<ipython-input-10-367308ad6388>\u001b[0m in \u001b[0;36m<module>\u001b[0;34m()\u001b[0m\n\u001b[1;32m      1\u001b[0m \u001b[0mc1\u001b[0m\u001b[0;34m=\u001b[0m\u001b[0;36m1\u001b[0m\u001b[0;34m+\u001b[0m\u001b[0;36m2j\u001b[0m\u001b[0;34m\u001b[0m\u001b[0m\n\u001b[1;32m      2\u001b[0m \u001b[0mc2\u001b[0m\u001b[0;34m=\u001b[0m\u001b[0;36m2\u001b[0m\u001b[0;34m+\u001b[0m\u001b[0;36m3j\u001b[0m\u001b[0;34m\u001b[0m\u001b[0m\n\u001b[0;32m----> 3\u001b[0;31m \u001b[0mc1\u001b[0m\u001b[0;34m>\u001b[0m\u001b[0mc2\u001b[0m\u001b[0;34m\u001b[0m\u001b[0m\n\u001b[0m",
      "\u001b[0;31mTypeError\u001b[0m: '>' not supported between instances of 'complex' and 'complex'"
     ]
    }
   ],
   "source": [
    "c1=1+2j\n",
    "c2=2+3j\n",
    "c1>c2\n"
   ]
  },
  {
   "cell_type": "code",
   "execution_count": 11,
   "metadata": {},
   "outputs": [
    {
     "name": "stdout",
     "output_type": "stream",
     "text": [
      "p\n",
      "y\n",
      "t\n",
      "h\n",
      "o\n",
      "n\n"
     ]
    }
   ],
   "source": [
    "for i in \"python\":\n",
    "    print(i)"
   ]
  },
  {
   "cell_type": "code",
   "execution_count": 13,
   "metadata": {},
   "outputs": [
    {
     "ename": "TypeError",
     "evalue": "'int' object is not iterable",
     "output_type": "error",
     "traceback": [
      "\u001b[0;31m---------------------------------------------------------------------------\u001b[0m",
      "\u001b[0;31mTypeError\u001b[0m                                 Traceback (most recent call last)",
      "\u001b[0;32m<ipython-input-13-d84c485ddbc3>\u001b[0m in \u001b[0;36m<module>\u001b[0;34m()\u001b[0m\n\u001b[0;32m----> 1\u001b[0;31m \u001b[0;32mfor\u001b[0m \u001b[0mi\u001b[0m \u001b[0;32min\u001b[0m \u001b[0;36m1000\u001b[0m\u001b[0;34m:\u001b[0m\u001b[0;34m\u001b[0m\u001b[0m\n\u001b[0m\u001b[1;32m      2\u001b[0m     \u001b[0mprint\u001b[0m\u001b[0;34m(\u001b[0m\u001b[0mi\u001b[0m\u001b[0;34m)\u001b[0m\u001b[0;34m\u001b[0m\u001b[0m\n",
      "\u001b[0;31mTypeError\u001b[0m: 'int' object is not iterable"
     ]
    }
   ],
   "source": [
    "for i in 1000:\n",
    "    print(i)"
   ]
  },
  {
   "cell_type": "code",
   "execution_count": 14,
   "metadata": {},
   "outputs": [
    {
     "ename": "TypeError",
     "evalue": "unsupported operand type(s) for +: 'Emp' and 'Emp'",
     "output_type": "error",
     "traceback": [
      "\u001b[0;31m---------------------------------------------------------------------------\u001b[0m",
      "\u001b[0;31mTypeError\u001b[0m                                 Traceback (most recent call last)",
      "\u001b[0;32m<ipython-input-14-4dd221197eaa>\u001b[0m in \u001b[0;36m<module>\u001b[0;34m()\u001b[0m\n\u001b[1;32m      6\u001b[0m \u001b[0mjay\u001b[0m\u001b[0;34m=\u001b[0m\u001b[0mEmp\u001b[0m\u001b[0;34m(\u001b[0m\u001b[0;34m\"jayaram\"\u001b[0m\u001b[0;34m)\u001b[0m\u001b[0;34m\u001b[0m\u001b[0m\n\u001b[1;32m      7\u001b[0m \u001b[0mvedha\u001b[0m\u001b[0;34m=\u001b[0m\u001b[0mEmp\u001b[0m\u001b[0;34m(\u001b[0m\u001b[0;34m\"vedhanvesh\"\u001b[0m\u001b[0;34m)\u001b[0m\u001b[0;34m\u001b[0m\u001b[0m\n\u001b[0;32m----> 8\u001b[0;31m \u001b[0mprint\u001b[0m\u001b[0;34m(\u001b[0m\u001b[0mjay\u001b[0m\u001b[0;34m+\u001b[0m\u001b[0mvedha\u001b[0m\u001b[0;34m)\u001b[0m\u001b[0;34m\u001b[0m\u001b[0m\n\u001b[0m",
      "\u001b[0;31mTypeError\u001b[0m: unsupported operand type(s) for +: 'Emp' and 'Emp'"
     ]
    }
   ],
   "source": [
    "class Emp:\n",
    "    def __init__(self, name):\n",
    "        self.name=name\n",
    "    def get(self):\n",
    "        return self.name\n",
    "jay=Emp(\"jayaram\")\n",
    "vedha=Emp(\"vedhanvesh\")\n",
    "print(jay+vedha)"
   ]
  },
  {
   "cell_type": "code",
   "execution_count": 15,
   "metadata": {},
   "outputs": [
    {
     "ename": "TypeError",
     "evalue": "unsupported operand type(s) for +: 'Emp' and 'Emp'",
     "output_type": "error",
     "traceback": [
      "\u001b[0;31m---------------------------------------------------------------------------\u001b[0m",
      "\u001b[0;31mTypeError\u001b[0m                                 Traceback (most recent call last)",
      "\u001b[0;32m<ipython-input-15-f1f612bd48ef>\u001b[0m in \u001b[0;36m<module>\u001b[0;34m()\u001b[0m\n\u001b[1;32m      7\u001b[0m \u001b[0mjay\u001b[0m\u001b[0;34m=\u001b[0m\u001b[0mEmp\u001b[0m\u001b[0;34m(\u001b[0m\u001b[0;34m\"jayaram\"\u001b[0m\u001b[0;34m)\u001b[0m\u001b[0;34m\u001b[0m\u001b[0m\n\u001b[1;32m      8\u001b[0m \u001b[0mvedha\u001b[0m\u001b[0;34m=\u001b[0m\u001b[0mEmp\u001b[0m\u001b[0;34m(\u001b[0m\u001b[0;34m\"vedhanvesh\"\u001b[0m\u001b[0;34m)\u001b[0m\u001b[0;34m\u001b[0m\u001b[0m\n\u001b[0;32m----> 9\u001b[0;31m \u001b[0mprint\u001b[0m\u001b[0;34m(\u001b[0m\u001b[0mjay\u001b[0m\u001b[0;34m+\u001b[0m\u001b[0mvedha\u001b[0m\u001b[0;34m)\u001b[0m\u001b[0;34m\u001b[0m\u001b[0m\n\u001b[0m",
      "\u001b[0;31mTypeError\u001b[0m: unsupported operand type(s) for +: 'Emp' and 'Emp'"
     ]
    }
   ],
   "source": [
    "class Emp:\n",
    "    def __init__(self, name):\n",
    "        self.name=name\n",
    "    def get(self):\n",
    "        return self.name\n",
    "    \n",
    "jay=Emp(\"jayaram\")\n",
    "vedha=Emp(\"vedhanvesh\")\n",
    "print(jay+vedha)"
   ]
  },
  {
   "cell_type": "code",
   "execution_count": 16,
   "metadata": {},
   "outputs": [
    {
     "data": {
      "text/plain": [
       "3000"
      ]
     },
     "execution_count": 16,
     "metadata": {},
     "output_type": "execute_result"
    }
   ],
   "source": [
    "a=1000\n",
    "b=2000\n",
    "a+b"
   ]
  },
  {
   "cell_type": "code",
   "execution_count": 17,
   "metadata": {},
   "outputs": [
    {
     "data": {
      "text/plain": [
       "3000"
      ]
     },
     "execution_count": 17,
     "metadata": {},
     "output_type": "execute_result"
    }
   ],
   "source": [
    "a.__add__(b)"
   ]
  },
  {
   "cell_type": "code",
   "execution_count": 19,
   "metadata": {},
   "outputs": [
    {
     "data": {
      "text/plain": [
       "'str1str2'"
      ]
     },
     "execution_count": 19,
     "metadata": {},
     "output_type": "execute_result"
    }
   ],
   "source": [
    "s1=\"str1\"\n",
    "s2=\"str2\"\n",
    "s1+s2"
   ]
  },
  {
   "cell_type": "code",
   "execution_count": 20,
   "metadata": {},
   "outputs": [
    {
     "data": {
      "text/plain": [
       "'str1str2'"
      ]
     },
     "execution_count": 20,
     "metadata": {},
     "output_type": "execute_result"
    }
   ],
   "source": [
    "s1.__add__(s2)"
   ]
  },
  {
   "cell_type": "code",
   "execution_count": 21,
   "metadata": {},
   "outputs": [
    {
     "name": "stdout",
     "output_type": "stream",
     "text": [
      "hello\n"
     ]
    }
   ],
   "source": [
    "class Emp:\n",
    "    def __init__(self, name):\n",
    "        self.name=name\n",
    "    def get(self):\n",
    "        return self.name\n",
    "    def __add__(self1,self2):\n",
    "        return \"hello\"\n",
    "    \n",
    "jay=Emp(\"jayaram\")\n",
    "vedha=Emp(\"vedhanvesh\")\n",
    "print(jay+vedha)"
   ]
  },
  {
   "cell_type": "code",
   "execution_count": 22,
   "metadata": {},
   "outputs": [
    {
     "name": "stdout",
     "output_type": "stream",
     "text": [
      "hello\n",
      "jayaram-vedhanvesh\n"
     ]
    }
   ],
   "source": [
    "class Emp:\n",
    "    def __init__(self, name):\n",
    "        self.name=name\n",
    "    def get(self):\n",
    "        return self.name\n",
    "    def __add__(self1,self2):\n",
    "        return \"hello\"\n",
    "    def __sub__(self1,self2):\n",
    "        return self1.name+\"-\"+self2.name\n",
    "    \n",
    "jay=Emp(\"jayaram\")\n",
    "vedha=Emp(\"vedhanvesh\")\n",
    "print(jay+vedha)\n",
    "print(jay-vedha)"
   ]
  },
  {
   "cell_type": "code",
   "execution_count": 25,
   "metadata": {},
   "outputs": [
    {
     "name": "stdout",
     "output_type": "stream",
     "text": [
      "hello\n",
      "jmyr\n"
     ]
    }
   ],
   "source": [
    "class Emp:\n",
    "    def __init__(self, name):\n",
    "        self.name=name\n",
    "    def get(self):\n",
    "        return self.name\n",
    "    def __add__(self1,self2):\n",
    "        return \"hello\"\n",
    "    def __sub__(self1,self2):\n",
    "        return \"\".join(set(self1.name).difference(set(self2.name)))\n",
    "    \n",
    "jay=Emp(\"jayaram\")\n",
    "vedha=Emp(\"vedhanvesh\")\n",
    "print(jay+vedha)\n",
    "print(jay-vedha)"
   ]
  },
  {
   "cell_type": "code",
   "execution_count": 26,
   "metadata": {},
   "outputs": [
    {
     "name": "stdout",
     "output_type": "stream",
     "text": [
      "hello\n",
      "jmyr\n"
     ]
    }
   ],
   "source": [
    "class Emp:\n",
    "    def __init__(self, name):\n",
    "        self.name=name\n",
    "    def get(self):\n",
    "        return self.name\n",
    "    def __add__(self1,self2):\n",
    "        return \"hello\"\n",
    "    def __sub__(self1,self2):\n",
    "        return \"\".join(set(self1.name).difference(set(self2.name)))\n",
    "    \n",
    "jay=Emp(\"jayaram\")\n",
    "vedha=Emp(\"vedhanvesh\")\n",
    "print(jay+vedha)\n",
    "print(jay-vedha)"
   ]
  },
  {
   "cell_type": "code",
   "execution_count": 27,
   "metadata": {},
   "outputs": [
    {
     "data": {
      "text/plain": [
       "6"
      ]
     },
     "execution_count": 27,
     "metadata": {},
     "output_type": "execute_result"
    }
   ],
   "source": [
    "len(\"python\")"
   ]
  },
  {
   "cell_type": "code",
   "execution_count": 28,
   "metadata": {},
   "outputs": [
    {
     "ename": "TypeError",
     "evalue": "object of type 'int' has no len()",
     "output_type": "error",
     "traceback": [
      "\u001b[0;31m---------------------------------------------------------------------------\u001b[0m",
      "\u001b[0;31mTypeError\u001b[0m                                 Traceback (most recent call last)",
      "\u001b[0;32m<ipython-input-28-a4774ebe235f>\u001b[0m in \u001b[0;36m<module>\u001b[0;34m()\u001b[0m\n\u001b[0;32m----> 1\u001b[0;31m \u001b[0mlen\u001b[0m\u001b[0;34m(\u001b[0m\u001b[0;36m1000\u001b[0m\u001b[0;34m)\u001b[0m\u001b[0;34m\u001b[0m\u001b[0m\n\u001b[0m",
      "\u001b[0;31mTypeError\u001b[0m: object of type 'int' has no len()"
     ]
    }
   ],
   "source": [
    "len(1000)"
   ]
  },
  {
   "cell_type": "code",
   "execution_count": 29,
   "metadata": {},
   "outputs": [
    {
     "name": "stdout",
     "output_type": "stream",
     "text": [
      "hello\n",
      "jmyr\n"
     ]
    },
    {
     "ename": "TypeError",
     "evalue": "object of type 'Emp' has no len()",
     "output_type": "error",
     "traceback": [
      "\u001b[0;31m---------------------------------------------------------------------------\u001b[0m",
      "\u001b[0;31mTypeError\u001b[0m                                 Traceback (most recent call last)",
      "\u001b[0;32m<ipython-input-29-e88f3d1afc53>\u001b[0m in \u001b[0;36m<module>\u001b[0;34m()\u001b[0m\n\u001b[1;32m     13\u001b[0m \u001b[0mprint\u001b[0m\u001b[0;34m(\u001b[0m\u001b[0mjay\u001b[0m\u001b[0;34m+\u001b[0m\u001b[0mvedha\u001b[0m\u001b[0;34m)\u001b[0m\u001b[0;34m\u001b[0m\u001b[0m\n\u001b[1;32m     14\u001b[0m \u001b[0mprint\u001b[0m\u001b[0;34m(\u001b[0m\u001b[0mjay\u001b[0m\u001b[0;34m-\u001b[0m\u001b[0mvedha\u001b[0m\u001b[0;34m)\u001b[0m\u001b[0;34m\u001b[0m\u001b[0m\n\u001b[0;32m---> 15\u001b[0;31m \u001b[0mprint\u001b[0m\u001b[0;34m(\u001b[0m\u001b[0mlen\u001b[0m\u001b[0;34m(\u001b[0m\u001b[0mjay\u001b[0m\u001b[0;34m)\u001b[0m\u001b[0;34m)\u001b[0m\u001b[0;34m\u001b[0m\u001b[0m\n\u001b[0m",
      "\u001b[0;31mTypeError\u001b[0m: object of type 'Emp' has no len()"
     ]
    }
   ],
   "source": [
    "class Emp:\n",
    "    def __init__(self, name):\n",
    "        self.name=name\n",
    "    def get(self):\n",
    "        return self.name\n",
    "    def __add__(self1,self2):\n",
    "        return \"hello\"\n",
    "    def __sub__(self1,self2):\n",
    "        return \"\".join(set(self1.name).difference(set(self2.name)))\n",
    "    \n",
    "jay=Emp(\"jayaram\")\n",
    "vedha=Emp(\"vedhanvesh\")\n",
    "print(jay+vedha)\n",
    "print(jay-vedha)\n",
    "print(len(jay))"
   ]
  },
  {
   "cell_type": "code",
   "execution_count": 30,
   "metadata": {},
   "outputs": [
    {
     "name": "stdout",
     "output_type": "stream",
     "text": [
      "hello\n",
      "jmyr\n",
      "7\n"
     ]
    }
   ],
   "source": [
    "class Emp:\n",
    "    def __init__(self, name):\n",
    "        self.name=name\n",
    "    def get(self):\n",
    "        return self.name\n",
    "    def __add__(self1,self2):\n",
    "        return \"hello\"\n",
    "    def __sub__(self1,self2):\n",
    "        return \"\".join(set(self1.name).difference(set(self2.name)))\n",
    "    def __len__(self):\n",
    "        return len(self.name)\n",
    "    \n",
    "jay=Emp(\"jayaram\")\n",
    "vedha=Emp(\"vedhanvesh\")\n",
    "print(jay+vedha)\n",
    "print(jay-vedha)\n",
    "print(len(jay))"
   ]
  },
  {
   "cell_type": "code",
   "execution_count": 31,
   "metadata": {},
   "outputs": [
    {
     "name": "stdout",
     "output_type": "stream",
     "text": [
      "hello\n",
      "jmyr\n",
      "7\n"
     ]
    },
    {
     "ename": "TypeError",
     "evalue": "'Emp' object is not iterable",
     "output_type": "error",
     "traceback": [
      "\u001b[0;31m---------------------------------------------------------------------------\u001b[0m",
      "\u001b[0;31mTypeError\u001b[0m                                 Traceback (most recent call last)",
      "\u001b[0;32m<ipython-input-31-624bdca4a545>\u001b[0m in \u001b[0;36m<module>\u001b[0;34m()\u001b[0m\n\u001b[1;32m     16\u001b[0m \u001b[0mprint\u001b[0m\u001b[0;34m(\u001b[0m\u001b[0mjay\u001b[0m\u001b[0;34m-\u001b[0m\u001b[0mvedha\u001b[0m\u001b[0;34m)\u001b[0m\u001b[0;34m\u001b[0m\u001b[0m\n\u001b[1;32m     17\u001b[0m \u001b[0mprint\u001b[0m\u001b[0;34m(\u001b[0m\u001b[0mlen\u001b[0m\u001b[0;34m(\u001b[0m\u001b[0mjay\u001b[0m\u001b[0;34m)\u001b[0m\u001b[0;34m)\u001b[0m\u001b[0;34m\u001b[0m\u001b[0m\n\u001b[0;32m---> 18\u001b[0;31m \u001b[0;32mfor\u001b[0m \u001b[0mi\u001b[0m \u001b[0;32min\u001b[0m \u001b[0mjay\u001b[0m\u001b[0;34m:\u001b[0m\u001b[0;34m\u001b[0m\u001b[0m\n\u001b[0m\u001b[1;32m     19\u001b[0m     \u001b[0mprint\u001b[0m\u001b[0;34m(\u001b[0m\u001b[0mi\u001b[0m\u001b[0;34m)\u001b[0m\u001b[0;34m\u001b[0m\u001b[0m\n",
      "\u001b[0;31mTypeError\u001b[0m: 'Emp' object is not iterable"
     ]
    }
   ],
   "source": [
    "class Emp:\n",
    "    def __init__(self, name):\n",
    "        self.name=name\n",
    "    def get(self):\n",
    "        return self.name\n",
    "    def __add__(self1,self2):\n",
    "        return \"hello\"\n",
    "    def __sub__(self1,self2):\n",
    "        return \"\".join(set(self1.name).difference(set(self2.name)))\n",
    "    def __len__(self):\n",
    "        return len(self.name)\n",
    "    \n",
    "jay=Emp(\"jayaram\")\n",
    "vedha=Emp(\"vedhanvesh\")\n",
    "print(jay+vedha)\n",
    "print(jay-vedha)\n",
    "print(len(jay))\n",
    "for i in jay:\n",
    "    print(i)"
   ]
  },
  {
   "cell_type": "code",
   "execution_count": 32,
   "metadata": {},
   "outputs": [
    {
     "name": "stdout",
     "output_type": "stream",
     "text": [
      "st1\n",
      "result= 10\n"
     ]
    }
   ],
   "source": [
    "def fun():\n",
    "    print(\"st1\")\n",
    "    return 10\n",
    "    print(\"st2\")\n",
    "    return 20\n",
    "    print(\"st3\")\n",
    "    return 30\n",
    "res=fun()\n",
    "print(\"result=\",res)"
   ]
  },
  {
   "cell_type": "code",
   "execution_count": 33,
   "metadata": {},
   "outputs": [
    {
     "name": "stdout",
     "output_type": "stream",
     "text": [
      "result= <generator object fun at 0x7f3b6c68fd68>\n"
     ]
    }
   ],
   "source": [
    "def fun():\n",
    "    print(\"st1\")\n",
    "    yield 10\n",
    "    print(\"st2\")\n",
    "    yield 20\n",
    "    print(\"st3\")\n",
    "    yield 30\n",
    "res=fun()\n",
    "print(\"result=\",res)"
   ]
  },
  {
   "cell_type": "code",
   "execution_count": 34,
   "metadata": {},
   "outputs": [
    {
     "name": "stdout",
     "output_type": "stream",
     "text": [
      "result= <generator object fun at 0x7f3b6c68ff48>\n",
      "st1\n",
      "iteration strtred\n",
      "i= 10\n",
      "iteration ended\n",
      "st2\n",
      "iteration strtred\n",
      "i= 20\n",
      "iteration ended\n",
      "st3\n",
      "iteration strtred\n",
      "i= 30\n",
      "iteration ended\n",
      "completed\n"
     ]
    }
   ],
   "source": [
    "def fun():\n",
    "    print(\"st1\")\n",
    "    yield 10\n",
    "    print(\"st2\")\n",
    "    yield 20\n",
    "    print(\"st3\")\n",
    "    yield 30\n",
    "res=fun()\n",
    "print(\"result=\",res)\n",
    "for i in res:\n",
    "    print(\"iteration strtred\")\n",
    "    print(\"i=\",i)\n",
    "    print(\"iteration ended\")\n",
    "print(\"completed\")"
   ]
  },
  {
   "cell_type": "code",
   "execution_count": 35,
   "metadata": {},
   "outputs": [
    {
     "name": "stdout",
     "output_type": "stream",
     "text": [
      "res= [10, 11, 23, -44, -56, -77, 34, 56]\n",
      "10\n",
      "11\n",
      "23\n",
      "34\n",
      "56\n",
      "completed\n"
     ]
    }
   ],
   "source": [
    "def fun():\n",
    "    return [10,11,23,-44,-56,-77,34,56]\n",
    "res=fun()\n",
    "print(\"res=\",res)\n",
    "for i in res:\n",
    "    if i>0:\n",
    "        print(i)\n",
    "print(\"completed\")"
   ]
  },
  {
   "cell_type": "code",
   "execution_count": 36,
   "metadata": {},
   "outputs": [
    {
     "name": "stdout",
     "output_type": "stream",
     "text": [
      "res= <generator object fun at 0x7f3b6c68ff48>\n",
      "10\n",
      "20\n",
      "completed\n"
     ]
    }
   ],
   "source": [
    "def fun():\n",
    "    yield 10\n",
    "    yield -11\n",
    "    yield 20\n",
    "    yield -13\n",
    "res=fun()\n",
    "print(\"res=\",res)\n",
    "for i in res:\n",
    "    if i>0:\n",
    "        print(i)\n",
    "print(\"completed\")"
   ]
  },
  {
   "cell_type": "code",
   "execution_count": 37,
   "metadata": {},
   "outputs": [
    {
     "name": "stdout",
     "output_type": "stream",
     "text": [
      "hello\n",
      "jmyr\n",
      "7\n"
     ]
    },
    {
     "ename": "TypeError",
     "evalue": "'Emp' object is not iterable",
     "output_type": "error",
     "traceback": [
      "\u001b[0;31m---------------------------------------------------------------------------\u001b[0m",
      "\u001b[0;31mTypeError\u001b[0m                                 Traceback (most recent call last)",
      "\u001b[0;32m<ipython-input-37-624bdca4a545>\u001b[0m in \u001b[0;36m<module>\u001b[0;34m()\u001b[0m\n\u001b[1;32m     16\u001b[0m \u001b[0mprint\u001b[0m\u001b[0;34m(\u001b[0m\u001b[0mjay\u001b[0m\u001b[0;34m-\u001b[0m\u001b[0mvedha\u001b[0m\u001b[0;34m)\u001b[0m\u001b[0;34m\u001b[0m\u001b[0m\n\u001b[1;32m     17\u001b[0m \u001b[0mprint\u001b[0m\u001b[0;34m(\u001b[0m\u001b[0mlen\u001b[0m\u001b[0;34m(\u001b[0m\u001b[0mjay\u001b[0m\u001b[0;34m)\u001b[0m\u001b[0;34m)\u001b[0m\u001b[0;34m\u001b[0m\u001b[0m\n\u001b[0;32m---> 18\u001b[0;31m \u001b[0;32mfor\u001b[0m \u001b[0mi\u001b[0m \u001b[0;32min\u001b[0m \u001b[0mjay\u001b[0m\u001b[0;34m:\u001b[0m\u001b[0;34m\u001b[0m\u001b[0m\n\u001b[0m\u001b[1;32m     19\u001b[0m     \u001b[0mprint\u001b[0m\u001b[0;34m(\u001b[0m\u001b[0mi\u001b[0m\u001b[0;34m)\u001b[0m\u001b[0;34m\u001b[0m\u001b[0m\n",
      "\u001b[0;31mTypeError\u001b[0m: 'Emp' object is not iterable"
     ]
    }
   ],
   "source": [
    "class Emp:\n",
    "    def __init__(self, name):\n",
    "        self.name=name\n",
    "    def get(self):\n",
    "        return self.name\n",
    "    def __add__(self1,self2):\n",
    "        return \"hello\"\n",
    "    def __sub__(self1,self2):\n",
    "        return \"\".join(set(self1.name).difference(set(self2.name)))\n",
    "    def __len__(self):\n",
    "        return len(self.name)\n",
    "    \n",
    "jay=Emp(\"jayaram\")\n",
    "vedha=Emp(\"vedhanvesh\")\n",
    "print(jay+vedha)\n",
    "print(jay-vedha)\n",
    "print(len(jay))\n",
    "for i in jay:\n",
    "    print(i)"
   ]
  },
  {
   "cell_type": "code",
   "execution_count": 38,
   "metadata": {},
   "outputs": [
    {
     "name": "stdout",
     "output_type": "stream",
     "text": [
      "hello\n",
      "jmyr\n",
      "7\n",
      "1\n",
      "2\n",
      "3\n",
      "4\n"
     ]
    }
   ],
   "source": [
    "class Emp:\n",
    "    def __init__(self, name):\n",
    "        self.name=name\n",
    "    def get(self):\n",
    "        return self.name\n",
    "    def __add__(self1,self2):\n",
    "        return \"hello\"\n",
    "    def __sub__(self1,self2):\n",
    "        return \"\".join(set(self1.name).difference(set(self2.name)))\n",
    "    def __len__(self):\n",
    "        return len(self.name)\n",
    "    def __iter__(self):\n",
    "        yield 1\n",
    "        yield 2\n",
    "        yield 3\n",
    "        yield 4\n",
    "    \n",
    "jay=Emp(\"jayaram\")\n",
    "vedha=Emp(\"vedhanvesh\")\n",
    "print(jay+vedha)\n",
    "print(jay-vedha)\n",
    "print(len(jay))\n",
    "for i in jay:\n",
    "    print(i)"
   ]
  },
  {
   "cell_type": "code",
   "execution_count": 40,
   "metadata": {},
   "outputs": [
    {
     "name": "stdout",
     "output_type": "stream",
     "text": [
      "hello\n",
      "jmyr\n",
      "7\n",
      "('id', 12)\n",
      "('sal', 1234)\n",
      "('name', 'jayaram')\n"
     ]
    }
   ],
   "source": [
    "class Emp:\n",
    "    def __init__(self, name,e_id,sal):\n",
    "        self.id=e_id\n",
    "        self.sal=sal\n",
    "        self.name=name\n",
    "    def get(self):\n",
    "        return self.name\n",
    "    def __add__(self1,self2):\n",
    "        return \"hello\"\n",
    "    def __sub__(self1,self2):\n",
    "        return \"\".join(set(self1.name).difference(set(self2.name)))\n",
    "    def __len__(self):\n",
    "        return len(self.name)\n",
    "    def __iter__(self):\n",
    "        for i in self.__dict__.items():\n",
    "            yield i\n",
    "jay=Emp(\"jayaram\",12,1234)\n",
    "vedha=Emp(\"vedhanvesh\",13,56746)\n",
    "print(jay+vedha)\n",
    "print(jay-vedha)\n",
    "print(len(jay))\n",
    "for i in jay:\n",
    "    print(i)"
   ]
  },
  {
   "cell_type": "code",
   "execution_count": 41,
   "metadata": {},
   "outputs": [
    {
     "data": {
      "text/plain": [
       "{'id': 12, 'sal': 1234, 'name': 'jayaram'}"
      ]
     },
     "execution_count": 41,
     "metadata": {},
     "output_type": "execute_result"
    }
   ],
   "source": [
    "jay.__dict__"
   ]
  },
  {
   "cell_type": "code",
   "execution_count": 42,
   "metadata": {},
   "outputs": [
    {
     "name": "stdout",
     "output_type": "stream",
     "text": [
      "['__abs__', '__add__', '__and__', '__bool__', '__ceil__', '__class__', '__delattr__', '__dir__', '__divmod__', '__doc__', '__eq__', '__float__', '__floor__', '__floordiv__', '__format__', '__ge__', '__getattribute__', '__getnewargs__', '__gt__', '__hash__', '__index__', '__init__', '__init_subclass__', '__int__', '__invert__', '__le__', '__lshift__', '__lt__', '__mod__', '__mul__', '__ne__', '__neg__', '__new__', '__or__', '__pos__', '__pow__', '__radd__', '__rand__', '__rdivmod__', '__reduce__', '__reduce_ex__', '__repr__', '__rfloordiv__', '__rlshift__', '__rmod__', '__rmul__', '__ror__', '__round__', '__rpow__', '__rrshift__', '__rshift__', '__rsub__', '__rtruediv__', '__rxor__', '__setattr__', '__sizeof__', '__str__', '__sub__', '__subclasshook__', '__truediv__', '__trunc__', '__xor__', 'bit_length', 'conjugate', 'denominator', 'from_bytes', 'imag', 'numerator', 'real', 'to_bytes']\n"
     ]
    }
   ],
   "source": [
    "a=10\n",
    "print(dir(a))"
   ]
  },
  {
   "cell_type": "code",
   "execution_count": 43,
   "metadata": {},
   "outputs": [
    {
     "name": "stdout",
     "output_type": "stream",
     "text": [
      "hello\n",
      "jmyr\n",
      "7\n",
      "('id', 12)\n",
      "('sal', 1234)\n",
      "('name', 'jayaram')\n",
      "<__main__.Emp object at 0x7f3b6c658fd0>\n"
     ]
    }
   ],
   "source": [
    "class Emp:\n",
    "    def __init__(self, name,e_id,sal):\n",
    "        self.id=e_id\n",
    "        self.sal=sal\n",
    "        self.name=name\n",
    "    def get(self):\n",
    "        return self.name\n",
    "    def __add__(self1,self2):\n",
    "        return \"hello\"\n",
    "    def __sub__(self1,self2):\n",
    "        return \"\".join(set(self1.name).difference(set(self2.name)))\n",
    "    def __len__(self):\n",
    "        return len(self.name)\n",
    "    def __iter__(self):\n",
    "        for i in self.__dict__.items():\n",
    "            yield i\n",
    "jay=Emp(\"jayaram\",12,1234)\n",
    "vedha=Emp(\"vedhanvesh\",13,56746)\n",
    "print(jay+vedha)\n",
    "print(jay-vedha)\n",
    "print(len(jay))\n",
    "for i in jay:\n",
    "    print(i)\n",
    "print(str(jay))"
   ]
  },
  {
   "cell_type": "code",
   "execution_count": 44,
   "metadata": {},
   "outputs": [
    {
     "name": "stdout",
     "output_type": "stream",
     "text": [
      "hello\n",
      "jmyr\n",
      "7\n",
      "('id', 12)\n",
      "('sal', 1234)\n",
      "('name', 'jayaram')\n",
      "jayaram\n"
     ]
    }
   ],
   "source": [
    "class Emp:\n",
    "    def __init__(self, name,e_id,sal):\n",
    "        self.id=e_id\n",
    "        self.sal=sal\n",
    "        self.name=name\n",
    "    def get(self):\n",
    "        return self.name\n",
    "    def __add__(self1,self2):\n",
    "        return \"hello\"\n",
    "    def __sub__(self1,self2):\n",
    "        return \"\".join(set(self1.name).difference(set(self2.name)))\n",
    "    def __len__(self):\n",
    "        return len(self.name)\n",
    "    def __iter__(self):\n",
    "        for i in self.__dict__.items():\n",
    "            yield i\n",
    "    def __str__(self):\n",
    "        return self.name\n",
    "jay=Emp(\"jayaram\",12,1234)\n",
    "vedha=Emp(\"vedhanvesh\",13,56746)\n",
    "print(jay+vedha)\n",
    "print(jay-vedha)\n",
    "print(len(jay))\n",
    "for i in jay:\n",
    "    print(i)\n",
    "print(str(jay))"
   ]
  },
  {
   "cell_type": "code",
   "execution_count": null,
   "metadata": {},
   "outputs": [],
   "source": []
  }
 ],
 "metadata": {
  "kernelspec": {
   "display_name": "Python 3",
   "language": "python",
   "name": "python3"
  },
  "language_info": {
   "codemirror_mode": {
    "name": "ipython",
    "version": 3
   },
   "file_extension": ".py",
   "mimetype": "text/x-python",
   "name": "python",
   "nbconvert_exporter": "python",
   "pygments_lexer": "ipython3",
   "version": "3.7.0"
  }
 },
 "nbformat": 4,
 "nbformat_minor": 2
}
