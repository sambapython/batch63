{
 "cells": [
  {
   "cell_type": "code",
   "execution_count": 1,
   "metadata": {},
   "outputs": [
    {
     "ename": "SyntaxError",
     "evalue": "invalid syntax (<ipython-input-1-4fe2f12e1c19>, line 4)",
     "output_type": "error",
     "traceback": [
      "\u001b[0;36m  File \u001b[0;32m\"<ipython-input-1-4fe2f12e1c19>\"\u001b[0;36m, line \u001b[0;32m4\u001b[0m\n\u001b[0;31m    a=0b12345\u001b[0m\n\u001b[0m            ^\u001b[0m\n\u001b[0;31mSyntaxError\u001b[0m\u001b[0;31m:\u001b[0m invalid syntax\n"
     ]
    }
   ],
   "source": [
    "a=100\n",
    "b=20\n",
    "print(a,b)\n",
    "a=0b12345\n",
    "b=23"
   ]
  },
  {
   "cell_type": "code",
   "execution_count": 2,
   "metadata": {},
   "outputs": [
    {
     "name": "stdout",
     "output_type": "stream",
     "text": [
      "100 20\n"
     ]
    },
    {
     "ename": "ZeroDivisionError",
     "evalue": "division by zero",
     "output_type": "error",
     "traceback": [
      "\u001b[0;31m---------------------------------------------------------------------------\u001b[0m",
      "\u001b[0;31mZeroDivisionError\u001b[0m                         Traceback (most recent call last)",
      "\u001b[0;32m<ipython-input-2-46710b668b5e>\u001b[0m in \u001b[0;36m<module>\u001b[0;34m()\u001b[0m\n\u001b[1;32m      2\u001b[0m \u001b[0mb\u001b[0m\u001b[0;34m=\u001b[0m\u001b[0;36m20\u001b[0m\u001b[0;34m\u001b[0m\u001b[0m\n\u001b[1;32m      3\u001b[0m \u001b[0mprint\u001b[0m\u001b[0;34m(\u001b[0m\u001b[0ma\u001b[0m\u001b[0;34m,\u001b[0m\u001b[0mb\u001b[0m\u001b[0;34m)\u001b[0m\u001b[0;34m\u001b[0m\u001b[0m\n\u001b[0;32m----> 4\u001b[0;31m \u001b[0ma\u001b[0m\u001b[0;34m=\u001b[0m\u001b[0;36m12\u001b[0m\u001b[0;34m/\u001b[0m\u001b[0;36m0\u001b[0m\u001b[0;34m\u001b[0m\u001b[0m\n\u001b[0m\u001b[1;32m      5\u001b[0m \u001b[0mb\u001b[0m\u001b[0;34m=\u001b[0m\u001b[0;36m23\u001b[0m\u001b[0;34m\u001b[0m\u001b[0m\n\u001b[1;32m      6\u001b[0m \u001b[0mprint\u001b[0m\u001b[0;34m(\u001b[0m\u001b[0;34m\"end\"\u001b[0m\u001b[0;34m)\u001b[0m\u001b[0;34m\u001b[0m\u001b[0m\n",
      "\u001b[0;31mZeroDivisionError\u001b[0m: division by zero"
     ]
    }
   ],
   "source": [
    "a=100\n",
    "b=20\n",
    "print(a,b)\n",
    "a=12/0\n",
    "b=23\n",
    "print(\"end\")\n"
   ]
  },
  {
   "cell_type": "code",
   "execution_count": 3,
   "metadata": {},
   "outputs": [
    {
     "name": "stdout",
     "output_type": "stream",
     "text": [
      "START\n",
      "enter a value:12\n",
      "Enter b value:6\n",
      "before converting: a=12,b=6\n",
      "after converting: a=12,b=6\n",
      "result=2.0\n",
      "END\n"
     ]
    }
   ],
   "source": [
    "print(\"START\")\n",
    "a=input(\"enter a value:\")\n",
    "b=input(\"Enter b value:\")\n",
    "print(f\"before converting: a={a},b={b}\")\n",
    "a=int(a)\n",
    "b=int(b)\n",
    "print(f\"after converting: a={a},b={b}\")\n",
    "res=a/b\n",
    "print(f\"result={res}\")\n",
    "print(\"END\")"
   ]
  },
  {
   "cell_type": "code",
   "execution_count": 4,
   "metadata": {},
   "outputs": [
    {
     "name": "stdout",
     "output_type": "stream",
     "text": [
      "START\n",
      "enter a value:1.2\n",
      "Enter b value:0.6\n",
      "before converting: a=1.2,b=0.6\n"
     ]
    },
    {
     "ename": "ValueError",
     "evalue": "invalid literal for int() with base 10: '1.2'",
     "output_type": "error",
     "traceback": [
      "\u001b[0;31m---------------------------------------------------------------------------\u001b[0m",
      "\u001b[0;31mValueError\u001b[0m                                Traceback (most recent call last)",
      "\u001b[0;32m<ipython-input-4-5e5c5674475c>\u001b[0m in \u001b[0;36m<module>\u001b[0;34m()\u001b[0m\n\u001b[1;32m      3\u001b[0m \u001b[0mb\u001b[0m\u001b[0;34m=\u001b[0m\u001b[0minput\u001b[0m\u001b[0;34m(\u001b[0m\u001b[0;34m\"Enter b value:\"\u001b[0m\u001b[0;34m)\u001b[0m\u001b[0;34m\u001b[0m\u001b[0m\n\u001b[1;32m      4\u001b[0m \u001b[0mprint\u001b[0m\u001b[0;34m(\u001b[0m\u001b[0;34mf\"before converting: a={a},b={b}\"\u001b[0m\u001b[0;34m)\u001b[0m\u001b[0;34m\u001b[0m\u001b[0m\n\u001b[0;32m----> 5\u001b[0;31m \u001b[0ma\u001b[0m\u001b[0;34m=\u001b[0m\u001b[0mint\u001b[0m\u001b[0;34m(\u001b[0m\u001b[0ma\u001b[0m\u001b[0;34m)\u001b[0m\u001b[0;34m\u001b[0m\u001b[0m\n\u001b[0m\u001b[1;32m      6\u001b[0m \u001b[0mb\u001b[0m\u001b[0;34m=\u001b[0m\u001b[0mint\u001b[0m\u001b[0;34m(\u001b[0m\u001b[0mb\u001b[0m\u001b[0;34m)\u001b[0m\u001b[0;34m\u001b[0m\u001b[0m\n\u001b[1;32m      7\u001b[0m \u001b[0mprint\u001b[0m\u001b[0;34m(\u001b[0m\u001b[0;34mf\"after converting: a={a},b={b}\"\u001b[0m\u001b[0;34m)\u001b[0m\u001b[0;34m\u001b[0m\u001b[0m\n",
      "\u001b[0;31mValueError\u001b[0m: invalid literal for int() with base 10: '1.2'"
     ]
    }
   ],
   "source": [
    "print(\"START\")\n",
    "a=input(\"enter a value:\")\n",
    "b=input(\"Enter b value:\")\n",
    "print(f\"before converting: a={a},b={b}\")\n",
    "a=int(a)\n",
    "b=int(b)\n",
    "print(f\"after converting: a={a},b={b}\")\n",
    "res=a/b\n",
    "print(f\"result={res}\")\n",
    "print(\"END\")"
   ]
  },
  {
   "cell_type": "code",
   "execution_count": 5,
   "metadata": {},
   "outputs": [
    {
     "name": "stdout",
     "output_type": "stream",
     "text": [
      "START\n",
      "enter a value:12\n",
      "Enter b value:0\n",
      "before converting: a=12,b=0\n",
      "after converting: a=12,b=0\n"
     ]
    },
    {
     "ename": "ZeroDivisionError",
     "evalue": "division by zero",
     "output_type": "error",
     "traceback": [
      "\u001b[0;31m---------------------------------------------------------------------------\u001b[0m",
      "\u001b[0;31mZeroDivisionError\u001b[0m                         Traceback (most recent call last)",
      "\u001b[0;32m<ipython-input-5-5e5c5674475c>\u001b[0m in \u001b[0;36m<module>\u001b[0;34m()\u001b[0m\n\u001b[1;32m      6\u001b[0m \u001b[0mb\u001b[0m\u001b[0;34m=\u001b[0m\u001b[0mint\u001b[0m\u001b[0;34m(\u001b[0m\u001b[0mb\u001b[0m\u001b[0;34m)\u001b[0m\u001b[0;34m\u001b[0m\u001b[0m\n\u001b[1;32m      7\u001b[0m \u001b[0mprint\u001b[0m\u001b[0;34m(\u001b[0m\u001b[0;34mf\"after converting: a={a},b={b}\"\u001b[0m\u001b[0;34m)\u001b[0m\u001b[0;34m\u001b[0m\u001b[0m\n\u001b[0;32m----> 8\u001b[0;31m \u001b[0mres\u001b[0m\u001b[0;34m=\u001b[0m\u001b[0ma\u001b[0m\u001b[0;34m/\u001b[0m\u001b[0mb\u001b[0m\u001b[0;34m\u001b[0m\u001b[0m\n\u001b[0m\u001b[1;32m      9\u001b[0m \u001b[0mprint\u001b[0m\u001b[0;34m(\u001b[0m\u001b[0;34mf\"result={res}\"\u001b[0m\u001b[0;34m)\u001b[0m\u001b[0;34m\u001b[0m\u001b[0m\n\u001b[1;32m     10\u001b[0m \u001b[0mprint\u001b[0m\u001b[0;34m(\u001b[0m\u001b[0;34m\"END\"\u001b[0m\u001b[0;34m)\u001b[0m\u001b[0;34m\u001b[0m\u001b[0m\n",
      "\u001b[0;31mZeroDivisionError\u001b[0m: division by zero"
     ]
    }
   ],
   "source": [
    "print(\"START\")\n",
    "a=input(\"enter a value:\")\n",
    "b=input(\"Enter b value:\")\n",
    "print(f\"before converting: a={a},b={b}\")\n",
    "a=int(a)\n",
    "b=int(b)\n",
    "print(f\"after converting: a={a},b={b}\")\n",
    "res=a/b\n",
    "print(f\"result={res}\")\n",
    "print(\"END\")"
   ]
  },
  {
   "cell_type": "code",
   "execution_count": 6,
   "metadata": {},
   "outputs": [
    {
     "name": "stdout",
     "output_type": "stream",
     "text": [
      "START\n",
      "enter a value:we\n",
      "Enter b value:er\n",
      "before converting: a=we,b=er\n"
     ]
    },
    {
     "ename": "ValueError",
     "evalue": "invalid literal for int() with base 10: 'we'",
     "output_type": "error",
     "traceback": [
      "\u001b[0;31m---------------------------------------------------------------------------\u001b[0m",
      "\u001b[0;31mValueError\u001b[0m                                Traceback (most recent call last)",
      "\u001b[0;32m<ipython-input-6-5e5c5674475c>\u001b[0m in \u001b[0;36m<module>\u001b[0;34m()\u001b[0m\n\u001b[1;32m      3\u001b[0m \u001b[0mb\u001b[0m\u001b[0;34m=\u001b[0m\u001b[0minput\u001b[0m\u001b[0;34m(\u001b[0m\u001b[0;34m\"Enter b value:\"\u001b[0m\u001b[0;34m)\u001b[0m\u001b[0;34m\u001b[0m\u001b[0m\n\u001b[1;32m      4\u001b[0m \u001b[0mprint\u001b[0m\u001b[0;34m(\u001b[0m\u001b[0;34mf\"before converting: a={a},b={b}\"\u001b[0m\u001b[0;34m)\u001b[0m\u001b[0;34m\u001b[0m\u001b[0m\n\u001b[0;32m----> 5\u001b[0;31m \u001b[0ma\u001b[0m\u001b[0;34m=\u001b[0m\u001b[0mint\u001b[0m\u001b[0;34m(\u001b[0m\u001b[0ma\u001b[0m\u001b[0;34m)\u001b[0m\u001b[0;34m\u001b[0m\u001b[0m\n\u001b[0m\u001b[1;32m      6\u001b[0m \u001b[0mb\u001b[0m\u001b[0;34m=\u001b[0m\u001b[0mint\u001b[0m\u001b[0;34m(\u001b[0m\u001b[0mb\u001b[0m\u001b[0;34m)\u001b[0m\u001b[0;34m\u001b[0m\u001b[0m\n\u001b[1;32m      7\u001b[0m \u001b[0mprint\u001b[0m\u001b[0;34m(\u001b[0m\u001b[0;34mf\"after converting: a={a},b={b}\"\u001b[0m\u001b[0;34m)\u001b[0m\u001b[0;34m\u001b[0m\u001b[0m\n",
      "\u001b[0;31mValueError\u001b[0m: invalid literal for int() with base 10: 'we'"
     ]
    }
   ],
   "source": [
    "print(\"START\")\n",
    "a=input(\"enter a value:\")\n",
    "b=input(\"Enter b value:\")\n",
    "print(f\"before converting: a={a},b={b}\")\n",
    "a=int(a)\n",
    "b=int(b)\n",
    "print(f\"after converting: a={a},b={b}\")\n",
    "res=a/b\n",
    "print(f\"result={res}\")\n",
    "print(\"END\")"
   ]
  },
  {
   "cell_type": "code",
   "execution_count": 7,
   "metadata": {},
   "outputs": [
    {
     "name": "stdout",
     "output_type": "stream",
     "text": [
      "START\n",
      "enter a value:12\n",
      "Enter b value:6\n",
      "before converting: a=12,b=6\n",
      "after converting: a=12.0,b=6.0\n",
      "result=2.0\n",
      "END\n"
     ]
    }
   ],
   "source": [
    "print(\"START\")\n",
    "a=input(\"enter a value:\")\n",
    "b=input(\"Enter b value:\")\n",
    "print(f\"before converting: a={a},b={b}\")\n",
    "a=float(a)\n",
    "b=float(b)\n",
    "print(f\"after converting: a={a},b={b}\")\n",
    "res=a/b\n",
    "print(f\"result={res}\")\n",
    "print(\"END\")"
   ]
  },
  {
   "cell_type": "code",
   "execution_count": 8,
   "metadata": {},
   "outputs": [
    {
     "name": "stdout",
     "output_type": "stream",
     "text": [
      "START\n",
      "enter a value:1.2\n",
      "Enter b value:0.6\n",
      "before converting: a=1.2,b=0.6\n",
      "after converting: a=1.2,b=0.6\n",
      "result=2.0\n",
      "END\n"
     ]
    }
   ],
   "source": [
    "print(\"START\")\n",
    "a=input(\"enter a value:\")\n",
    "b=input(\"Enter b value:\")\n",
    "print(f\"before converting: a={a},b={b}\")\n",
    "a=float(a)\n",
    "b=float(b)\n",
    "print(f\"after converting: a={a},b={b}\")\n",
    "res=a/b\n",
    "print(f\"result={res}\")\n",
    "print(\"END\")"
   ]
  },
  {
   "cell_type": "code",
   "execution_count": 9,
   "metadata": {},
   "outputs": [
    {
     "name": "stdout",
     "output_type": "stream",
     "text": [
      "START\n",
      "enter a value:12\n",
      "Enter b value:0\n",
      "before converting: a=12,b=0\n",
      "after converting: a=12.0,b=0.0\n"
     ]
    },
    {
     "ename": "ZeroDivisionError",
     "evalue": "float division by zero",
     "output_type": "error",
     "traceback": [
      "\u001b[0;31m---------------------------------------------------------------------------\u001b[0m",
      "\u001b[0;31mZeroDivisionError\u001b[0m                         Traceback (most recent call last)",
      "\u001b[0;32m<ipython-input-9-1ef9d4404796>\u001b[0m in \u001b[0;36m<module>\u001b[0;34m()\u001b[0m\n\u001b[1;32m      6\u001b[0m \u001b[0mb\u001b[0m\u001b[0;34m=\u001b[0m\u001b[0mfloat\u001b[0m\u001b[0;34m(\u001b[0m\u001b[0mb\u001b[0m\u001b[0;34m)\u001b[0m\u001b[0;34m\u001b[0m\u001b[0m\n\u001b[1;32m      7\u001b[0m \u001b[0mprint\u001b[0m\u001b[0;34m(\u001b[0m\u001b[0;34mf\"after converting: a={a},b={b}\"\u001b[0m\u001b[0;34m)\u001b[0m\u001b[0;34m\u001b[0m\u001b[0m\n\u001b[0;32m----> 8\u001b[0;31m \u001b[0mres\u001b[0m\u001b[0;34m=\u001b[0m\u001b[0ma\u001b[0m\u001b[0;34m/\u001b[0m\u001b[0mb\u001b[0m\u001b[0;34m\u001b[0m\u001b[0m\n\u001b[0m\u001b[1;32m      9\u001b[0m \u001b[0mprint\u001b[0m\u001b[0;34m(\u001b[0m\u001b[0;34mf\"result={res}\"\u001b[0m\u001b[0;34m)\u001b[0m\u001b[0;34m\u001b[0m\u001b[0m\n\u001b[1;32m     10\u001b[0m \u001b[0mprint\u001b[0m\u001b[0;34m(\u001b[0m\u001b[0;34m\"END\"\u001b[0m\u001b[0;34m)\u001b[0m\u001b[0;34m\u001b[0m\u001b[0m\n",
      "\u001b[0;31mZeroDivisionError\u001b[0m: float division by zero"
     ]
    }
   ],
   "source": [
    "print(\"START\")\n",
    "a=input(\"enter a value:\")\n",
    "b=input(\"Enter b value:\")\n",
    "print(f\"before converting: a={a},b={b}\")\n",
    "a=float(a)\n",
    "b=float(b)\n",
    "print(f\"after converting: a={a},b={b}\")\n",
    "res=a/b\n",
    "print(f\"result={res}\")\n",
    "print(\"END\")"
   ]
  },
  {
   "cell_type": "code",
   "execution_count": 10,
   "metadata": {},
   "outputs": [
    {
     "name": "stdout",
     "output_type": "stream",
     "text": [
      "START\n",
      "enter a value:wer\n",
      "Enter b value:wer\n",
      "before converting: a=wer,b=wer\n"
     ]
    },
    {
     "ename": "ValueError",
     "evalue": "could not convert string to float: 'wer'",
     "output_type": "error",
     "traceback": [
      "\u001b[0;31m---------------------------------------------------------------------------\u001b[0m",
      "\u001b[0;31mValueError\u001b[0m                                Traceback (most recent call last)",
      "\u001b[0;32m<ipython-input-10-1ef9d4404796>\u001b[0m in \u001b[0;36m<module>\u001b[0;34m()\u001b[0m\n\u001b[1;32m      3\u001b[0m \u001b[0mb\u001b[0m\u001b[0;34m=\u001b[0m\u001b[0minput\u001b[0m\u001b[0;34m(\u001b[0m\u001b[0;34m\"Enter b value:\"\u001b[0m\u001b[0;34m)\u001b[0m\u001b[0;34m\u001b[0m\u001b[0m\n\u001b[1;32m      4\u001b[0m \u001b[0mprint\u001b[0m\u001b[0;34m(\u001b[0m\u001b[0;34mf\"before converting: a={a},b={b}\"\u001b[0m\u001b[0;34m)\u001b[0m\u001b[0;34m\u001b[0m\u001b[0m\n\u001b[0;32m----> 5\u001b[0;31m \u001b[0ma\u001b[0m\u001b[0;34m=\u001b[0m\u001b[0mfloat\u001b[0m\u001b[0;34m(\u001b[0m\u001b[0ma\u001b[0m\u001b[0;34m)\u001b[0m\u001b[0;34m\u001b[0m\u001b[0m\n\u001b[0m\u001b[1;32m      6\u001b[0m \u001b[0mb\u001b[0m\u001b[0;34m=\u001b[0m\u001b[0mfloat\u001b[0m\u001b[0;34m(\u001b[0m\u001b[0mb\u001b[0m\u001b[0;34m)\u001b[0m\u001b[0;34m\u001b[0m\u001b[0m\n\u001b[1;32m      7\u001b[0m \u001b[0mprint\u001b[0m\u001b[0;34m(\u001b[0m\u001b[0;34mf\"after converting: a={a},b={b}\"\u001b[0m\u001b[0;34m)\u001b[0m\u001b[0;34m\u001b[0m\u001b[0m\n",
      "\u001b[0;31mValueError\u001b[0m: could not convert string to float: 'wer'"
     ]
    }
   ],
   "source": [
    "print(\"START\")\n",
    "a=input(\"enter a value:\")\n",
    "b=input(\"Enter b value:\")\n",
    "print(f\"before converting: a={a},b={b}\")\n",
    "a=float(a)\n",
    "b=float(b)\n",
    "print(f\"after converting: a={a},b={b}\")\n",
    "res=a/b\n",
    "print(f\"result={res}\")\n",
    "print(\"END\")"
   ]
  },
  {
   "cell_type": "code",
   "execution_count": 11,
   "metadata": {},
   "outputs": [
    {
     "name": "stdout",
     "output_type": "stream",
     "text": [
      "START\n",
      "enter a value:12\n",
      "Enter b value:6\n",
      "before converting: a=12,b=6\n",
      "after converting: a=12.0,b=6.0\n",
      "result=2.0\n",
      "END\n"
     ]
    }
   ],
   "source": [
    "try:\n",
    "    print(\"START\")\n",
    "    a=input(\"enter a value:\")\n",
    "    b=input(\"Enter b value:\")\n",
    "    print(f\"before converting: a={a},b={b}\")\n",
    "    a=float(a)\n",
    "    b=float(b)\n",
    "    print(f\"after converting: a={a},b={b}\")\n",
    "    res=a/b\n",
    "    print(f\"result={res}\")\n",
    "    print(\"END\")\n",
    "except:\n",
    "    print(\"some error\")"
   ]
  },
  {
   "cell_type": "code",
   "execution_count": 12,
   "metadata": {},
   "outputs": [
    {
     "name": "stdout",
     "output_type": "stream",
     "text": [
      "START\n",
      "enter a value:12\n",
      "Enter b value:0\n",
      "before converting: a=12,b=0\n",
      "after converting: a=12.0,b=0.0\n",
      "some error\n"
     ]
    }
   ],
   "source": [
    "try:\n",
    "    print(\"START\")\n",
    "    a=input(\"enter a value:\")\n",
    "    b=input(\"Enter b value:\")\n",
    "    print(f\"before converting: a={a},b={b}\")\n",
    "    a=float(a)\n",
    "    b=float(b)\n",
    "    print(f\"after converting: a={a},b={b}\")\n",
    "    res=a/b\n",
    "    print(f\"result={res}\")\n",
    "    print(\"END\")\n",
    "except:\n",
    "    print(\"some error\")"
   ]
  },
  {
   "cell_type": "code",
   "execution_count": 13,
   "metadata": {},
   "outputs": [
    {
     "name": "stdout",
     "output_type": "stream",
     "text": [
      "START\n",
      "enter a value:12\n",
      "Enter b value:0\n",
      "before converting: a=12,b=0\n",
      "after converting: a=12.0,b=0.0\n",
      "some error\n",
      "some main block statements..\n"
     ]
    }
   ],
   "source": [
    "try:\n",
    "    print(\"START\")\n",
    "    a=input(\"enter a value:\")\n",
    "    b=input(\"Enter b value:\")\n",
    "    print(f\"before converting: a={a},b={b}\")\n",
    "    a=float(a)\n",
    "    b=float(b)\n",
    "    print(f\"after converting: a={a},b={b}\")\n",
    "    res=a/b\n",
    "    print(f\"result={res}\")\n",
    "    print(\"END\")\n",
    "except:\n",
    "    print(\"some error\")\n",
    "print(\"some main block statements..\")"
   ]
  },
  {
   "cell_type": "code",
   "execution_count": null,
   "metadata": {},
   "outputs": [],
   "source": [
    "print(\"START\")\n",
    "a=input(\"enter a value:\")\n",
    "b=input(\"Enter b value:\")\n",
    "print(f\"before converting: a={a},b={b}\")\n",
    "try:\n",
    "    a=float(a)\n",
    "    b=float(b)\n",
    "    print(f\"after converting: a={a},b={b}\")\n",
    "except:\n",
    "    print(\"some error\")\n",
    "try:\n",
    "    res=a/b\n",
    "    print(f\"result={res}\")\n",
    "    print(\"END\")\n",
    "except:\n",
    "    print(\"some error\")\n",
    "print(\"some main block statements..\")"
   ]
  },
  {
   "cell_type": "code",
   "execution_count": 14,
   "metadata": {},
   "outputs": [
    {
     "name": "stdout",
     "output_type": "stream",
     "text": [
      "START\n",
      "enter a value:12\n",
      "Enter b value:6\n",
      "before converting: a=12,b=6\n",
      "after converting: a=12.0,b=6.0\n",
      "result=2.0\n",
      "END\n",
      "some main block statements..\n"
     ]
    }
   ],
   "source": [
    "print(\"START\")\n",
    "a=input(\"enter a value:\")\n",
    "b=input(\"Enter b value:\")\n",
    "print(f\"before converting: a={a},b={b}\")\n",
    "try:\n",
    "    a=float(a)\n",
    "    b=float(b)\n",
    "    print(f\"after converting: a={a},b={b}\")\n",
    "    res=a/b\n",
    "    print(f\"result={res}\")\n",
    "except:\n",
    "    print(\"some error\")\n",
    "print(\"END\")\n",
    "print(\"some main block statements..\")"
   ]
  },
  {
   "cell_type": "code",
   "execution_count": 15,
   "metadata": {},
   "outputs": [
    {
     "name": "stdout",
     "output_type": "stream",
     "text": [
      "START\n",
      "enter a value:12\n",
      "Enter b value:0\n",
      "before converting: a=12,b=0\n",
      "after converting: a=12.0,b=0.0\n",
      "some error\n",
      "END\n",
      "some main block statements..\n"
     ]
    }
   ],
   "source": [
    "print(\"START\")\n",
    "a=input(\"enter a value:\")\n",
    "b=input(\"Enter b value:\")\n",
    "print(f\"before converting: a={a},b={b}\")\n",
    "try:\n",
    "    a=float(a)\n",
    "    b=float(b)\n",
    "    print(f\"after converting: a={a},b={b}\")\n",
    "    res=a/b\n",
    "    print(f\"result={res}\")\n",
    "except:\n",
    "    print(\"some error\")\n",
    "print(\"END\")\n",
    "print(\"some main block statements..\")"
   ]
  },
  {
   "cell_type": "code",
   "execution_count": 16,
   "metadata": {},
   "outputs": [
    {
     "name": "stdout",
     "output_type": "stream",
     "text": [
      "START\n",
      "enter a value:we\n",
      "Enter b value:we\n",
      "before converting: a=we,b=we\n",
      "some error\n",
      "END\n",
      "some main block statements..\n"
     ]
    }
   ],
   "source": [
    "print(\"START\")\n",
    "a=input(\"enter a value:\")\n",
    "b=input(\"Enter b value:\")\n",
    "print(f\"before converting: a={a},b={b}\")\n",
    "try:\n",
    "    a=float(a)\n",
    "    b=float(b)\n",
    "    print(f\"after converting: a={a},b={b}\")\n",
    "    res=a/b\n",
    "    print(f\"result={res}\")\n",
    "except:\n",
    "    print(\"some error\")\n",
    "print(\"END\")\n",
    "print(\"some main block statements..\")"
   ]
  },
  {
   "cell_type": "code",
   "execution_count": 17,
   "metadata": {},
   "outputs": [
    {
     "name": "stdout",
     "output_type": "stream",
     "text": [
      "START\n",
      "enter a value:12\n",
      "Enter b value:6\n",
      "before converting: a=12,b=6\n",
      "after converting: a=12.0,b=6.0\n",
      "result=2.0\n",
      "END\n",
      "some main block statements..\n"
     ]
    }
   ],
   "source": [
    "print(\"START\")\n",
    "a=input(\"enter a value:\")\n",
    "b=input(\"Enter b value:\")\n",
    "print(f\"before converting: a={a},b={b}\")\n",
    "try:\n",
    "    a=float(a)\n",
    "    b=float(b)\n",
    "    print(f\"after converting: a={a},b={b}\")\n",
    "    res=a/b\n",
    "    print(f\"result={res}\")\n",
    "except Exception as err:\n",
    "    print(\"ERROR:\",err)\n",
    "    print(\"some error\")\n",
    "print(\"END\")\n",
    "print(\"some main block statements..\")"
   ]
  },
  {
   "cell_type": "code",
   "execution_count": 18,
   "metadata": {},
   "outputs": [
    {
     "name": "stdout",
     "output_type": "stream",
     "text": [
      "START\n",
      "enter a value:12\n",
      "Enter b value:0\n",
      "before converting: a=12,b=0\n",
      "after converting: a=12.0,b=0.0\n",
      "ERROR: float division by zero\n",
      "some error\n",
      "END\n",
      "some main block statements..\n"
     ]
    }
   ],
   "source": [
    "print(\"START\")\n",
    "a=input(\"enter a value:\")\n",
    "b=input(\"Enter b value:\")\n",
    "print(f\"before converting: a={a},b={b}\")\n",
    "try:\n",
    "    a=float(a)\n",
    "    b=float(b)\n",
    "    print(f\"after converting: a={a},b={b}\")\n",
    "    res=a/b\n",
    "    print(f\"result={res}\")\n",
    "except Exception as err:\n",
    "    print(\"ERROR:\",err)\n",
    "    print(\"some error\")\n",
    "print(\"END\")\n",
    "print(\"some main block statements..\")"
   ]
  },
  {
   "cell_type": "code",
   "execution_count": 19,
   "metadata": {},
   "outputs": [
    {
     "name": "stdout",
     "output_type": "stream",
     "text": [
      "START\n",
      "enter a value:qw\n",
      "Enter b value:sd\n",
      "before converting: a=qw,b=sd\n",
      "ERROR: could not convert string to float: 'qw'\n",
      "some error\n",
      "END\n",
      "some main block statements..\n"
     ]
    }
   ],
   "source": [
    "print(\"START\")\n",
    "a=input(\"enter a value:\")\n",
    "b=input(\"Enter b value:\")\n",
    "print(f\"before converting: a={a},b={b}\")\n",
    "try:\n",
    "    a=float(a)\n",
    "    b=float(b)\n",
    "    print(f\"after converting: a={a},b={b}\")\n",
    "    res=a/b\n",
    "    print(f\"result={res}\")\n",
    "except Exception as err:\n",
    "    print(\"ERROR:\",err)\n",
    "    print(\"some error\")\n",
    "print(\"END\")\n",
    "print(\"some main block statements..\")"
   ]
  },
  {
   "cell_type": "code",
   "execution_count": 20,
   "metadata": {},
   "outputs": [
    {
     "name": "stdout",
     "output_type": "stream",
     "text": [
      "START\n",
      "enter a value:12\n",
      "Enter b value:8\n",
      "before converting: a=12,b=8\n",
      "after converting: a=12.0,b=8.0\n",
      "result=1.5\n",
      "END\n",
      "some main block statements..\n"
     ]
    }
   ],
   "source": [
    "print(\"START\")\n",
    "a=input(\"enter a value:\")\n",
    "b=input(\"Enter b value:\")\n",
    "print(f\"before converting: a={a},b={b}\")\n",
    "try:\n",
    "    a=float(a)\n",
    "    b=float(b)\n",
    "    print(f\"after converting: a={a},b={b}\")\n",
    "    res=a/b\n",
    "    print(f\"result={res}\")\n",
    "except ZeroDivisionError as err:\n",
    "    print(\"ERROR: Not expecting zero for b\")\n",
    "except ValueError as err:\n",
    "    print(\"ERROR: Excpeting only digits\")\n",
    "except Exception as err:\n",
    "    print(\"ERROR:\",err)\n",
    "    print(\"some error\")\n",
    "print(\"END\")\n",
    "print(\"some main block statements..\")"
   ]
  },
  {
   "cell_type": "code",
   "execution_count": 21,
   "metadata": {},
   "outputs": [
    {
     "name": "stdout",
     "output_type": "stream",
     "text": [
      "START\n",
      "enter a value:12\n",
      "Enter b value:0\n",
      "before converting: a=12,b=0\n",
      "after converting: a=12.0,b=0.0\n",
      "ERROR: Not expecting zero for b\n",
      "END\n",
      "some main block statements..\n"
     ]
    }
   ],
   "source": [
    "print(\"START\")\n",
    "a=input(\"enter a value:\")\n",
    "b=input(\"Enter b value:\")\n",
    "print(f\"before converting: a={a},b={b}\")\n",
    "try:\n",
    "    a=float(a)\n",
    "    b=float(b)\n",
    "    print(f\"after converting: a={a},b={b}\")\n",
    "    res=a/b\n",
    "    print(f\"result={res}\")\n",
    "except ZeroDivisionError as err:\n",
    "    print(\"ERROR: Not expecting zero for b\")\n",
    "except ValueError as err:\n",
    "    print(\"ERROR: Excpeting only digits\")\n",
    "except Exception as err:\n",
    "    print(\"ERROR:\",err)\n",
    "    print(\"some error\")\n",
    "print(\"END\")\n",
    "print(\"some main block statements..\")"
   ]
  },
  {
   "cell_type": "code",
   "execution_count": 22,
   "metadata": {},
   "outputs": [
    {
     "name": "stdout",
     "output_type": "stream",
     "text": [
      "START\n",
      "enter a value:12\n",
      "Enter b value:-6\n",
      "before converting: a=12,b=-6\n",
      "after converting: a=12.0,b=-6.0\n",
      "result=-2.0\n",
      "END\n",
      "some main block statements..\n"
     ]
    }
   ],
   "source": [
    "print(\"START\")\n",
    "a=input(\"enter a value:\")\n",
    "b=input(\"Enter b value:\")\n",
    "print(f\"before converting: a={a},b={b}\")\n",
    "try:\n",
    "    a=float(a)\n",
    "    b=float(b)\n",
    "    print(f\"after converting: a={a},b={b}\")\n",
    "    res=a/b\n",
    "    print(f\"result={res}\")\n",
    "except ZeroDivisionError as err:\n",
    "    print(\"ERROR: Not expecting zero for b\")\n",
    "except ValueError as err:\n",
    "    print(\"ERROR: Excpeting only digits\")\n",
    "except Exception as err:\n",
    "    print(\"ERROR:\",err)\n",
    "    print(\"some error\")\n",
    "print(\"END\")\n",
    "print(\"some main block statements..\")"
   ]
  },
  {
   "cell_type": "code",
   "execution_count": 23,
   "metadata": {},
   "outputs": [
    {
     "name": "stdout",
     "output_type": "stream",
     "text": [
      "START\n",
      "enter a value:we\n",
      "Enter b value:rt\n",
      "before converting: a=we,b=rt\n",
      "ERROR: Excpeting only digits\n",
      "END\n",
      "some main block statements..\n"
     ]
    }
   ],
   "source": [
    "print(\"START\")\n",
    "a=input(\"enter a value:\")\n",
    "b=input(\"Enter b value:\")\n",
    "print(f\"before converting: a={a},b={b}\")\n",
    "try:\n",
    "    a=float(a)\n",
    "    b=float(b)\n",
    "    print(f\"after converting: a={a},b={b}\")\n",
    "    res=a/b\n",
    "    print(f\"result={res}\")\n",
    "except ZeroDivisionError as err:\n",
    "    print(\"ERROR: Not expecting zero for b\")\n",
    "except ValueError as err:\n",
    "    print(\"ERROR: Excpeting only digits\")\n",
    "except Exception as err:\n",
    "    print(\"ERROR:\",err)\n",
    "    print(\"some error\")\n",
    "print(\"END\")\n",
    "print(\"some main block statements..\")"
   ]
  },
  {
   "cell_type": "code",
   "execution_count": 24,
   "metadata": {},
   "outputs": [
    {
     "name": "stdout",
     "output_type": "stream",
     "text": [
      "welcome\n",
      "try\n",
      "main\n"
     ]
    }
   ],
   "source": [
    "print(\"welcome\")\n",
    "try:\n",
    "    print(\"try\")\n",
    "except:\n",
    "    print(\"except\")\n",
    "print(\"main\")"
   ]
  },
  {
   "cell_type": "code",
   "execution_count": 25,
   "metadata": {},
   "outputs": [
    {
     "name": "stdout",
     "output_type": "stream",
     "text": [
      "welcome\n",
      "try\n",
      "except\n",
      "main\n"
     ]
    }
   ],
   "source": [
    "print(\"welcome\")\n",
    "try:\n",
    "    print(\"try\")\n",
    "    print(1/0)\n",
    "except:\n",
    "    print(\"except\")\n",
    "print(\"main\")"
   ]
  },
  {
   "cell_type": "code",
   "execution_count": 26,
   "metadata": {},
   "outputs": [
    {
     "name": "stdout",
     "output_type": "stream",
     "text": [
      "welcome\n",
      "try\n",
      "except\n",
      "finally\n",
      "main\n"
     ]
    }
   ],
   "source": [
    "print(\"welcome\")\n",
    "try:\n",
    "    print(\"try\")\n",
    "    print(1/0)\n",
    "except:\n",
    "    print(\"except\")\n",
    "finally:\n",
    "    print(\"finally\")\n",
    "print(\"main\")"
   ]
  },
  {
   "cell_type": "code",
   "execution_count": 27,
   "metadata": {},
   "outputs": [
    {
     "name": "stdout",
     "output_type": "stream",
     "text": [
      "welcome\n",
      "try\n",
      "finally\n",
      "main\n"
     ]
    }
   ],
   "source": [
    "print(\"welcome\")\n",
    "try:\n",
    "    print(\"try\")\n",
    "except:\n",
    "    print(\"except\")\n",
    "finally:\n",
    "    print(\"finally\")\n",
    "print(\"main\")"
   ]
  },
  {
   "cell_type": "code",
   "execution_count": 28,
   "metadata": {},
   "outputs": [
    {
     "name": "stdout",
     "output_type": "stream",
     "text": [
      "welcome\n",
      "try\n",
      "finally\n",
      "main\n"
     ]
    }
   ],
   "source": [
    "print(\"welcome\")\n",
    "try:\n",
    "    print(\"try\")\n",
    "except:\n",
    "    print(\"except\")\n",
    "print(\"finally\")\n",
    "print(\"main\")"
   ]
  },
  {
   "cell_type": "code",
   "execution_count": 29,
   "metadata": {},
   "outputs": [
    {
     "name": "stdout",
     "output_type": "stream",
     "text": [
      "welcome\n",
      "try\n",
      "except\n",
      "finally\n",
      "main\n"
     ]
    }
   ],
   "source": [
    "print(\"welcome\")\n",
    "try:\n",
    "    print(\"try\")\n",
    "    print(1/0)\n",
    "except:\n",
    "    print(\"except\")\n",
    "print(\"finally\")\n",
    "print(\"main\")"
   ]
  },
  {
   "cell_type": "code",
   "execution_count": 30,
   "metadata": {},
   "outputs": [
    {
     "name": "stdout",
     "output_type": "stream",
     "text": [
      "try\n",
      "finally\n",
      "result= 20\n"
     ]
    }
   ],
   "source": [
    "def fun():\n",
    "    try:\n",
    "        print(\"try\")\n",
    "    except:\n",
    "        print(\"except\")\n",
    "    finally:\n",
    "        print(\"finally\")\n",
    "    return 20\n",
    "res=fun()\n",
    "print(\"result=\",res)"
   ]
  },
  {
   "cell_type": "code",
   "execution_count": 31,
   "metadata": {},
   "outputs": [
    {
     "name": "stdout",
     "output_type": "stream",
     "text": [
      "try\n",
      "finally\n",
      "fun main block statements\n",
      "result= 20\n"
     ]
    }
   ],
   "source": [
    "def fun():\n",
    "    try:\n",
    "        print(\"try\")\n",
    "    except:\n",
    "        print(\"except\")\n",
    "    finally:\n",
    "        print(\"finally\")\n",
    "    print(\"fun main block statements\")\n",
    "    return 20\n",
    "res=fun()\n",
    "print(\"result=\",res)"
   ]
  },
  {
   "cell_type": "code",
   "execution_count": 32,
   "metadata": {},
   "outputs": [
    {
     "name": "stdout",
     "output_type": "stream",
     "text": [
      "try\n",
      "finally\n",
      "result= 100\n"
     ]
    }
   ],
   "source": [
    "def fun():\n",
    "    try:\n",
    "        print(\"try\")\n",
    "        return 100\n",
    "    except:\n",
    "        print(\"except\")\n",
    "    finally:\n",
    "        print(\"finally\")\n",
    "    print(\"fun main block statements\")\n",
    "    return 20\n",
    "res=fun()\n",
    "print(\"result=\",res)"
   ]
  },
  {
   "cell_type": "code",
   "execution_count": 33,
   "metadata": {},
   "outputs": [
    {
     "name": "stdout",
     "output_type": "stream",
     "text": [
      "try\n",
      "finally\n",
      "result= 200\n"
     ]
    }
   ],
   "source": [
    "def fun():\n",
    "    try:\n",
    "        print(\"try\")\n",
    "        return 100\n",
    "    except:\n",
    "        print(\"except\")\n",
    "    finally:\n",
    "        print(\"finally\")\n",
    "        return 200\n",
    "    print(\"fun main block statements\")\n",
    "    return 20\n",
    "res=fun()\n",
    "print(\"result=\",res)"
   ]
  },
  {
   "cell_type": "code",
   "execution_count": 34,
   "metadata": {},
   "outputs": [
    {
     "name": "stdout",
     "output_type": "stream",
     "text": [
      "try\n",
      "finally\n"
     ]
    },
    {
     "ename": "ZeroDivisionError",
     "evalue": "division by zero",
     "output_type": "error",
     "traceback": [
      "\u001b[0;31m---------------------------------------------------------------------------\u001b[0m",
      "\u001b[0;31mZeroDivisionError\u001b[0m                         Traceback (most recent call last)",
      "\u001b[0;32m<ipython-input-34-06b979b026a4>\u001b[0m in \u001b[0;36m<module>\u001b[0;34m()\u001b[0m\n\u001b[1;32m      1\u001b[0m \u001b[0;32mtry\u001b[0m\u001b[0;34m:\u001b[0m\u001b[0;34m\u001b[0m\u001b[0m\n\u001b[1;32m      2\u001b[0m     \u001b[0mprint\u001b[0m\u001b[0;34m(\u001b[0m\u001b[0;34m\"try\"\u001b[0m\u001b[0;34m)\u001b[0m\u001b[0;34m\u001b[0m\u001b[0m\n\u001b[0;32m----> 3\u001b[0;31m     \u001b[0mprint\u001b[0m\u001b[0;34m(\u001b[0m\u001b[0;36m1\u001b[0m\u001b[0;34m/\u001b[0m\u001b[0;36m0\u001b[0m\u001b[0;34m)\u001b[0m\u001b[0;34m\u001b[0m\u001b[0m\n\u001b[0m\u001b[1;32m      4\u001b[0m \u001b[0;32mfinally\u001b[0m\u001b[0;34m:\u001b[0m\u001b[0;34m\u001b[0m\u001b[0m\n\u001b[1;32m      5\u001b[0m     \u001b[0mprint\u001b[0m\u001b[0;34m(\u001b[0m\u001b[0;34m\"finally\"\u001b[0m\u001b[0;34m)\u001b[0m\u001b[0;34m\u001b[0m\u001b[0m\n",
      "\u001b[0;31mZeroDivisionError\u001b[0m: division by zero"
     ]
    }
   ],
   "source": [
    "try:\n",
    "    print(\"try\")\n",
    "    print(1/0)\n",
    "finally:\n",
    "    print(\"finally\")\n",
    "print(\"main block statements\")"
   ]
  },
  {
   "cell_type": "code",
   "execution_count": 35,
   "metadata": {},
   "outputs": [
    {
     "name": "stdout",
     "output_type": "stream",
     "text": [
      "try\n",
      "finally\n"
     ]
    },
    {
     "ename": "ZeroDivisionError",
     "evalue": "division by zero",
     "output_type": "error",
     "traceback": [
      "\u001b[0;31m---------------------------------------------------------------------------\u001b[0m",
      "\u001b[0;31mZeroDivisionError\u001b[0m                         Traceback (most recent call last)",
      "\u001b[0;32m<ipython-input-35-4c1f833eb91b>\u001b[0m in \u001b[0;36m<module>\u001b[0;34m()\u001b[0m\n\u001b[1;32m      1\u001b[0m \u001b[0;32mtry\u001b[0m\u001b[0;34m:\u001b[0m\u001b[0;34m\u001b[0m\u001b[0m\n\u001b[1;32m      2\u001b[0m     \u001b[0mprint\u001b[0m\u001b[0;34m(\u001b[0m\u001b[0;34m\"try\"\u001b[0m\u001b[0;34m)\u001b[0m\u001b[0;34m\u001b[0m\u001b[0m\n\u001b[0;32m----> 3\u001b[0;31m     \u001b[0mprint\u001b[0m\u001b[0;34m(\u001b[0m\u001b[0;36m1\u001b[0m\u001b[0;34m/\u001b[0m\u001b[0;36m0\u001b[0m\u001b[0;34m)\u001b[0m\u001b[0;34m\u001b[0m\u001b[0m\n\u001b[0m\u001b[1;32m      4\u001b[0m \u001b[0;32mexcept\u001b[0m \u001b[0mValueError\u001b[0m \u001b[0;32mas\u001b[0m \u001b[0merr\u001b[0m\u001b[0;34m:\u001b[0m\u001b[0;34m\u001b[0m\u001b[0m\n\u001b[1;32m      5\u001b[0m     \u001b[0mprint\u001b[0m\u001b[0;34m(\u001b[0m\u001b[0merr\u001b[0m\u001b[0;34m)\u001b[0m\u001b[0;34m\u001b[0m\u001b[0m\n",
      "\u001b[0;31mZeroDivisionError\u001b[0m: division by zero"
     ]
    }
   ],
   "source": [
    "try:\n",
    "    print(\"try\")\n",
    "    print(1/0)\n",
    "except ValueError as err:\n",
    "    print(err)\n",
    "finally:\n",
    "    print(\"finally\")\n",
    "print(\"main block statements\")"
   ]
  },
  {
   "cell_type": "code",
   "execution_count": 36,
   "metadata": {},
   "outputs": [
    {
     "name": "stdout",
     "output_type": "stream",
     "text": [
      "welcome\n",
      "try\n",
      "else\n",
      "finally..\n",
      "thank you!!\n"
     ]
    }
   ],
   "source": [
    "print(\"welcome\")\n",
    "try:\n",
    "    print(\"try\")\n",
    "except:\n",
    "    print(\"except\")\n",
    "else:\n",
    "    print(\"else\")\n",
    "finally:\n",
    "    print(\"finally..\")\n",
    "print(\"thank you!!\")"
   ]
  },
  {
   "cell_type": "code",
   "execution_count": 37,
   "metadata": {},
   "outputs": [
    {
     "name": "stdout",
     "output_type": "stream",
     "text": [
      "welcome\n",
      "try\n",
      "except\n",
      "finally..\n",
      "thank you!!\n"
     ]
    }
   ],
   "source": [
    "print(\"welcome\")\n",
    "try:\n",
    "    print(\"try\")\n",
    "    print(1/0)\n",
    "except:\n",
    "    print(\"except\")\n",
    "else:\n",
    "    print(\"else\")\n",
    "finally:\n",
    "    print(\"finally..\")\n",
    "print(\"thank you!!\")"
   ]
  },
  {
   "cell_type": "code",
   "execution_count": 1,
   "metadata": {},
   "outputs": [
    {
     "name": "stdout",
     "output_type": "stream",
     "text": [
      "{'level': 'ERROR', 'message': 'some error message', 'asctime': 1567051671.4604452}\n"
     ]
    }
   ],
   "source": [
    "from time import time\n",
    "d={\"level\":\"ERROR\",\"message\":\"some error message\",\"asctime\":time()}\n",
    "print(d)"
   ]
  },
  {
   "cell_type": "code",
   "execution_count": 3,
   "metadata": {},
   "outputs": [
    {
     "name": "stdout",
     "output_type": "stream",
     "text": [
      "ERROR,some error message,1567051718.1637635\n"
     ]
    }
   ],
   "source": [
    "from time import time\n",
    "d={\"level\":\"ERROR\",\"message\":\"some error message\",\"asctime\":time()}\n",
    "print(\"%(level)s,%(message)s,%(asctime)s\"%d)"
   ]
  },
  {
   "cell_type": "code",
   "execution_count": null,
   "metadata": {},
   "outputs": [],
   "source": []
  }
 ],
 "metadata": {
  "kernelspec": {
   "display_name": "Python 3",
   "language": "python",
   "name": "python3"
  },
  "language_info": {
   "codemirror_mode": {
    "name": "ipython",
    "version": 3
   },
   "file_extension": ".py",
   "mimetype": "text/x-python",
   "name": "python",
   "nbconvert_exporter": "python",
   "pygments_lexer": "ipython3",
   "version": "3.7.0"
  }
 },
 "nbformat": 4,
 "nbformat_minor": 2
}
