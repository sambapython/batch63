{
 "cells": [
  {
   "cell_type": "code",
   "execution_count": 1,
   "metadata": {},
   "outputs": [],
   "source": [
    "import os\n",
    "os.mkdir(\"folder1\")"
   ]
  },
  {
   "cell_type": "code",
   "execution_count": 2,
   "metadata": {},
   "outputs": [],
   "source": [
    "os.rmdir(\"folder1\")"
   ]
  },
  {
   "cell_type": "code",
   "execution_count": 3,
   "metadata": {},
   "outputs": [
    {
     "data": {
      "text/plain": [
       "0"
      ]
     },
     "execution_count": 3,
     "metadata": {},
     "output_type": "execute_result"
    }
   ],
   "source": [
    "os.system(\"mkdir folder1\")"
   ]
  },
  {
   "cell_type": "code",
   "execution_count": 4,
   "metadata": {},
   "outputs": [
    {
     "data": {
      "text/plain": [
       "0"
      ]
     },
     "execution_count": 4,
     "metadata": {},
     "output_type": "execute_result"
    }
   ],
   "source": [
    "os.system(\"ls -l\")"
   ]
  },
  {
   "cell_type": "code",
   "execution_count": 5,
   "metadata": {},
   "outputs": [],
   "source": [
    "from subprocess import check_output"
   ]
  },
  {
   "cell_type": "code",
   "execution_count": 6,
   "metadata": {},
   "outputs": [],
   "source": [
    "resp = check_output([\"ls\",\"-l\"])"
   ]
  },
  {
   "cell_type": "code",
   "execution_count": 7,
   "metadata": {},
   "outputs": [
    {
     "name": "stdout",
     "output_type": "stream",
     "text": [
      "b'total 2208\\n-rw-r--r-- 1 khyaathipython khyaathipython   8227 Aug 19 09:46 1.jpg\\n-rw-r--r-- 1 khyaathipython khyaathipython  28524 Jul 20 09:54 Assignments.odt\\n-rw-r--r-- 1 khyaathipython khyaathipython      0 Aug 24 07:27 bigfile.jpg\\n-rw-r--r-- 1 khyaathipython khyaathipython  44414 Jul 20 09:53 conditional statements.ipynb\\ndrwxr-xr-x 2 khyaathipython khyaathipython   4096 Aug 20 09:35 data\\n-rw-r--r-- 1 khyaathipython khyaathipython   7967 Aug 24 08:53 database interations.ipynb\\n-rw-r--r-- 1 khyaathipython khyaathipython   8192 Aug 24 08:23 db1.sqlite3\\n-rw-r--r-- 1 khyaathipython khyaathipython  34533 Aug 19 09:46 dictionaryies.ipynb\\n-rw-rw-r-- 1 khyaathipython khyaathipython      0 Aug 24 10:39 document.txt\\n-rw-r--r-- 1 khyaathipython khyaathipython  10417 Aug 22 09:28 encapsulation.ipynb\\n-rw-r--r-- 1 khyaathipython khyaathipython  38347 Aug 19 09:16 exceptions.ipynb\\n-rw-rw-r-- 1 khyaathipython khyaathipython    409 Aug 19 08:54 except.py\\n-rw-r--r-- 1 khyaathipython khyaathipython  16715 Jul 17 10:10 expression evaluation.ipynb\\n-rw-r--r-- 1 khyaathipython khyaathipython 229133 Aug 24 07:53 files.ipynb\\ndrwxr-xr-x 2 khyaathipython khyaathipython   4096 Aug 26 09:12 folder1\\n-rw-r--r-- 1 khyaathipython khyaathipython    150 Aug 19 09:46 functions_2.py\\n-rw-r--r-- 1 khyaathipython khyaathipython  24729 Jul 25 10:09 functions.ipynb\\n-rw-rw-r-- 1 khyaathipython khyaathipython    404 Jul 30 10:23 functions-memory-organization.py\\n-rw-rw-r-- 1 khyaathipython khyaathipython  94028 Jul 30 09:42 fun_mem2.jpg\\n-rw-rw-r-- 1 khyaathipython khyaathipython 154146 Jul 30 10:17 fun_mem3.jpg\\n-rw-r--r-- 1 khyaathipython khyaathipython  15861 Aug 19 09:46 fun_mem4.png\\n-rw-rw-r-- 1 khyaathipython khyaathipython  97144 Jul 30 09:31 fun_mem.jpg\\n-rw-r--r-- 1 khyaathipython khyaathipython     29 Jul 13 09:28 hello.py\\n-rw-r--r-- 1 khyaathipython khyaathipython  16157 Aug 21 10:06 inheritance.ipynb\\n-rw-rw-r-- 1 khyaathipython khyaathipython 141103 Jul 16 10:05 int,str,list_mem orgnization_1.jpg\\n-rw-rw-r-- 1 khyaathipython khyaathipython 197211 Jul 16 10:14 int,str,list_mem orgnization_2.jpg\\n-rw-rw-r-- 1 khyaathipython khyaathipython 104794 Jul 16 09:56 int,str,list_mem orgnization.jpg\\n-rw-r--r-- 1 khyaathipython khyaathipython 110161 Aug 19 09:46 list copy.jpg\\n-rw-r--r-- 1 khyaathipython khyaathipython  59280 Aug 19 09:46 list functions.ipynb\\n-rw-r--r-- 1 khyaathipython khyaathipython   1639 Aug 26 09:15 local device interactions.ipynb\\n-rw-rw-r-- 1 khyaathipython khyaathipython  80915 Jul 24 09:43 loop1.jpg\\n-rw-r--r-- 1 khyaathipython khyaathipython  39605 Jul 24 10:15 looping.ipynb\\ndrwxr-xr-x 4 khyaathipython khyaathipython   4096 Aug 20 10:03 modules\\n-rw-r--r-- 1 khyaathipython khyaathipython  29062 Aug 20 09:28 oops.ipynb\\n-rw-rw-r-- 1 khyaathipython khyaathipython  77966 Aug 19 09:45 oops.jpg\\n-rw-r--r-- 1 khyaathipython khyaathipython  54422 Aug 24 07:24 polymorphism.ipynb\\n-rw-r--r-- 1 khyaathipython khyaathipython  30407 Jul 18 10:16 print statements.ipynb\\ndrwxr-xr-x 2 khyaathipython khyaathipython   4096 Aug 20 10:03 __pycache__\\n-rw-rw-r-- 1 khyaathipython khyaathipython 147977 Jul 15 10:07 python architecture.jpg\\n-rwxrwxr-x 1 khyaathipython khyaathipython     28 Jul 16 08:08 sample.py\\n-rw-r--r-- 1 khyaathipython khyaathipython  13540 Aug 19 09:46 sets.ipynb\\n-rw-r--r-- 1 khyaathipython khyaathipython 112166 Aug 19 09:46 string and list operations.jpg\\n-rw-r--r-- 1 khyaathipython khyaathipython  16409 Aug 19 09:46 string functions2.ipynb\\n-rw-r--r-- 1 khyaathipython khyaathipython  49824 Aug 19 09:46 string functions.ipynb\\n-rw-r--r-- 1 khyaathipython khyaathipython    899 Aug 19 09:46 strings.py\\n-rw-r--r-- 1 khyaathipython khyaathipython   8462 Aug 19 09:46 tuple.ipynb\\n-rw-r--r-- 1 khyaathipython khyaathipython  12064 Jul 10 09:48 Untitled.ipynb\\n-rw-r--r-- 1 khyaathipython khyaathipython  30121 Jul 16 10:16 variables.ipynb\\n'\n"
     ]
    }
   ],
   "source": [
    "print(resp)"
   ]
  },
  {
   "cell_type": "code",
   "execution_count": null,
   "metadata": {},
   "outputs": [],
   "source": []
  }
 ],
 "metadata": {
  "kernelspec": {
   "display_name": "Python 3",
   "language": "python",
   "name": "python3"
  },
  "language_info": {
   "codemirror_mode": {
    "name": "ipython",
    "version": 3
   },
   "file_extension": ".py",
   "mimetype": "text/x-python",
   "name": "python",
   "nbconvert_exporter": "python",
   "pygments_lexer": "ipython3",
   "version": "3.7.0"
  }
 },
 "nbformat": 4,
 "nbformat_minor": 2
}
