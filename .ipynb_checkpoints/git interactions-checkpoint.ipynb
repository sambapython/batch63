{
 "cells": [
  {
   "cell_type": "code",
   "execution_count": 13,
   "metadata": {},
   "outputs": [],
   "source": [
    "import requests\n",
    "username=\"jagannath.v.patil@gmail.com\"\n",
    "password=\"jagannath@&6886\"\n"
   ]
  },
  {
   "cell_type": "code",
   "execution_count": 14,
   "metadata": {},
   "outputs": [],
   "source": [
    "url = \"https://api.github.com/user/repos\"\n",
    "resp = requests.post(url,json={\"name\":\"batch61_api\"}, auth=(username,password))"
   ]
  },
  {
   "cell_type": "code",
   "execution_count": 15,
   "metadata": {},
   "outputs": [
    {
     "data": {
      "text/plain": [
       "<Response [201]>"
      ]
     },
     "execution_count": 15,
     "metadata": {},
     "output_type": "execute_result"
    }
   ],
   "source": [
    "resp"
   ]
  },
  {
   "cell_type": "code",
   "execution_count": 16,
   "metadata": {},
   "outputs": [],
   "source": [
    "url = \"https://api.github.com/user/repos\"\n",
    "resp = requests.get(url, auth=(username,password))"
   ]
  },
  {
   "cell_type": "code",
   "execution_count": 17,
   "metadata": {},
   "outputs": [
    {
     "name": "stdout",
     "output_type": "stream",
     "text": [
      "<Response [200]>\n"
     ]
    }
   ],
   "source": [
    "print(resp)"
   ]
  },
  {
   "cell_type": "code",
   "execution_count": 19,
   "metadata": {},
   "outputs": [
    {
     "name": "stdout",
     "output_type": "stream",
     "text": [
      "[{'id': 204396588, 'node_id': 'MDEwOlJlcG9zaXRvcnkyMDQzOTY1ODg=', 'name': 'batch61_api', 'full_name': 'jagannathpatil/batch61_api', 'private': False, 'owner': {'login': 'jagannathpatil', 'id': 53415476, 'node_id': 'MDQ6VXNlcjUzNDE1NDc2', 'avatar_url': 'https://avatars3.githubusercontent.com/u/53415476?v=4', 'gravatar_id': '', 'url': 'https://api.github.com/users/jagannathpatil', 'html_url': 'https://github.com/jagannathpatil', 'followers_url': 'https://api.github.com/users/jagannathpatil/followers', 'following_url': 'https://api.github.com/users/jagannathpatil/following{/other_user}', 'gists_url': 'https://api.github.com/users/jagannathpatil/gists{/gist_id}', 'starred_url': 'https://api.github.com/users/jagannathpatil/starred{/owner}{/repo}', 'subscriptions_url': 'https://api.github.com/users/jagannathpatil/subscriptions', 'organizations_url': 'https://api.github.com/users/jagannathpatil/orgs', 'repos_url': 'https://api.github.com/users/jagannathpatil/repos', 'events_url': 'https://api.github.com/users/jagannathpatil/events{/privacy}', 'received_events_url': 'https://api.github.com/users/jagannathpatil/received_events', 'type': 'User', 'site_admin': False}, 'html_url': 'https://github.com/jagannathpatil/batch61_api', 'description': None, 'fork': False, 'url': 'https://api.github.com/repos/jagannathpatil/batch61_api', 'forks_url': 'https://api.github.com/repos/jagannathpatil/batch61_api/forks', 'keys_url': 'https://api.github.com/repos/jagannathpatil/batch61_api/keys{/key_id}', 'collaborators_url': 'https://api.github.com/repos/jagannathpatil/batch61_api/collaborators{/collaborator}', 'teams_url': 'https://api.github.com/repos/jagannathpatil/batch61_api/teams', 'hooks_url': 'https://api.github.com/repos/jagannathpatil/batch61_api/hooks', 'issue_events_url': 'https://api.github.com/repos/jagannathpatil/batch61_api/issues/events{/number}', 'events_url': 'https://api.github.com/repos/jagannathpatil/batch61_api/events', 'assignees_url': 'https://api.github.com/repos/jagannathpatil/batch61_api/assignees{/user}', 'branches_url': 'https://api.github.com/repos/jagannathpatil/batch61_api/branches{/branch}', 'tags_url': 'https://api.github.com/repos/jagannathpatil/batch61_api/tags', 'blobs_url': 'https://api.github.com/repos/jagannathpatil/batch61_api/git/blobs{/sha}', 'git_tags_url': 'https://api.github.com/repos/jagannathpatil/batch61_api/git/tags{/sha}', 'git_refs_url': 'https://api.github.com/repos/jagannathpatil/batch61_api/git/refs{/sha}', 'trees_url': 'https://api.github.com/repos/jagannathpatil/batch61_api/git/trees{/sha}', 'statuses_url': 'https://api.github.com/repos/jagannathpatil/batch61_api/statuses/{sha}', 'languages_url': 'https://api.github.com/repos/jagannathpatil/batch61_api/languages', 'stargazers_url': 'https://api.github.com/repos/jagannathpatil/batch61_api/stargazers', 'contributors_url': 'https://api.github.com/repos/jagannathpatil/batch61_api/contributors', 'subscribers_url': 'https://api.github.com/repos/jagannathpatil/batch61_api/subscribers', 'subscription_url': 'https://api.github.com/repos/jagannathpatil/batch61_api/subscription', 'commits_url': 'https://api.github.com/repos/jagannathpatil/batch61_api/commits{/sha}', 'git_commits_url': 'https://api.github.com/repos/jagannathpatil/batch61_api/git/commits{/sha}', 'comments_url': 'https://api.github.com/repos/jagannathpatil/batch61_api/comments{/number}', 'issue_comment_url': 'https://api.github.com/repos/jagannathpatil/batch61_api/issues/comments{/number}', 'contents_url': 'https://api.github.com/repos/jagannathpatil/batch61_api/contents/{+path}', 'compare_url': 'https://api.github.com/repos/jagannathpatil/batch61_api/compare/{base}...{head}', 'merges_url': 'https://api.github.com/repos/jagannathpatil/batch61_api/merges', 'archive_url': 'https://api.github.com/repos/jagannathpatil/batch61_api/{archive_format}{/ref}', 'downloads_url': 'https://api.github.com/repos/jagannathpatil/batch61_api/downloads', 'issues_url': 'https://api.github.com/repos/jagannathpatil/batch61_api/issues{/number}', 'pulls_url': 'https://api.github.com/repos/jagannathpatil/batch61_api/pulls{/number}', 'milestones_url': 'https://api.github.com/repos/jagannathpatil/batch61_api/milestones{/number}', 'notifications_url': 'https://api.github.com/repos/jagannathpatil/batch61_api/notifications{?since,all,participating}', 'labels_url': 'https://api.github.com/repos/jagannathpatil/batch61_api/labels{/name}', 'releases_url': 'https://api.github.com/repos/jagannathpatil/batch61_api/releases{/id}', 'deployments_url': 'https://api.github.com/repos/jagannathpatil/batch61_api/deployments', 'created_at': '2019-08-26T04:36:11Z', 'updated_at': '2019-08-26T04:36:11Z', 'pushed_at': '2019-08-26T04:36:12Z', 'git_url': 'git://github.com/jagannathpatil/batch61_api.git', 'ssh_url': 'git@github.com:jagannathpatil/batch61_api.git', 'clone_url': 'https://github.com/jagannathpatil/batch61_api.git', 'svn_url': 'https://github.com/jagannathpatil/batch61_api', 'homepage': None, 'size': 0, 'stargazers_count': 0, 'watchers_count': 0, 'language': None, 'has_issues': True, 'has_projects': True, 'has_downloads': True, 'has_wiki': True, 'has_pages': False, 'forks_count': 0, 'mirror_url': None, 'archived': False, 'disabled': False, 'open_issues_count': 0, 'license': None, 'forks': 0, 'open_issues': 0, 'watchers': 0, 'default_branch': 'master', 'permissions': {'admin': True, 'push': True, 'pull': True}}]\n"
     ]
    }
   ],
   "source": [
    "print(resp.json())"
   ]
  },
  {
   "cell_type": "code",
   "execution_count": null,
   "metadata": {},
   "outputs": [],
   "source": []
  }
 ],
 "metadata": {
  "kernelspec": {
   "display_name": "Python 3",
   "language": "python",
   "name": "python3"
  },
  "language_info": {
   "codemirror_mode": {
    "name": "ipython",
    "version": 3
   },
   "file_extension": ".py",
   "mimetype": "text/x-python",
   "name": "python",
   "nbconvert_exporter": "python",
   "pygments_lexer": "ipython3",
   "version": "3.7.0"
  }
 },
 "nbformat": 4,
 "nbformat_minor": 2
}
