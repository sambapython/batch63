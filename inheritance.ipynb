{
 "cells": [
  {
   "cell_type": "code",
   "execution_count": 4,
   "metadata": {},
   "outputs": [
    {
     "name": "stdout",
     "output_type": "stream",
     "text": [
      "inserting the {'name': 'cust1', 'address': 'ad1'} in to db\n",
      "inserting the {'name': 'sup1', 'address': 'ad1'} in to db\n",
      "inserting the {'name': 'prod1', 'cost': 23} in to db\n"
     ]
    }
   ],
   "source": [
    "class Model:\n",
    "    def __init__(self, data):\n",
    "        self.data=data\n",
    "    def create(self):\n",
    "        print(\"inserting the %s in to db\" % self.data)\n",
    "class Customer:\n",
    "    def __init__(self, data):\n",
    "        self.data=data\n",
    "    def create(self):\n",
    "        \n",
    "        print(\"inserting the %s in to db\" % self.data)\n",
    "class Supplier:\n",
    "    def __init__(self, data):\n",
    "        self.data=data\n",
    "    def create(self):\n",
    "        \n",
    "        print(\"inserting the %s in to db\" % self.data)\n",
    "class Product:\n",
    "    def __init__(self, data):\n",
    "        self.data=data\n",
    "    def create(self):\n",
    "        \n",
    "        print(\"inserting the %s in to db\" % self.data)\n",
    "c=Customer({\"name\":\"cust1\",\"address\":\"ad1\"})\n",
    "c.create()\n",
    "s=Supplier({\"name\":\"sup1\",\"address\":\"ad1\"})\n",
    "s.create()\n",
    "p=Product({\"name\":\"prod1\",\"cost\":23})\n",
    "p.create()"
   ]
  },
  {
   "cell_type": "code",
   "execution_count": 5,
   "metadata": {},
   "outputs": [
    {
     "name": "stdout",
     "output_type": "stream",
     "text": [
      "(<class '__main__.Customer'>, <class '__main__.Model'>, <class 'object'>)\n",
      "inserting the {'name': 'cust1', 'address': 'ad1'} in to db\n",
      "inserting the {'name': 'sup1', 'address': 'ad1'} in to db\n",
      "inserting the {'name': 'prod1', 'cost': 23} in to db\n"
     ]
    }
   ],
   "source": [
    "class Model:\n",
    "    def __init__(self, data):\n",
    "        self.data=data\n",
    "    def create(self):\n",
    "        print(\"inserting the %s in to db\" % self.data)\n",
    "class Customer(Model):\n",
    "    pass\n",
    "class Supplier(Model):\n",
    "    pass\n",
    "class Product(Model):\n",
    "    pass\n",
    "c=Customer({\"name\":\"cust1\",\"address\":\"ad1\"})\n",
    "print(Customer.__mro__)\n",
    "c.create()\n",
    "s=Supplier({\"name\":\"sup1\",\"address\":\"ad1\"})\n",
    "s.create()\n",
    "p=Product({\"name\":\"prod1\",\"cost\":23})\n",
    "p.create()"
   ]
  },
  {
   "cell_type": "code",
   "execution_count": 6,
   "metadata": {},
   "outputs": [
    {
     "name": "stdout",
     "output_type": "stream",
     "text": [
      "(<class '__main__.Customer'>, <class '__main__.Model'>, <class 'object'>)\n",
      "inserting the {'name': 'cust1', 'address': 'ad1'} in to db\n",
      "inserting the {'name': 'sup1', 'address': 'ad1'} in to db\n",
      "inserting the {'name': 'prod1', 'cost': 23} in to db\n"
     ]
    }
   ],
   "source": [
    "class Model(object):\n",
    "    def __init__(self, data):\n",
    "        self.data=data\n",
    "    def create(self):\n",
    "        print(\"inserting the %s in to db\" % self.data)\n",
    "class Customer(Model,):\n",
    "    pass\n",
    "class Supplier(Model):\n",
    "    pass\n",
    "class Product(Model):\n",
    "    pass\n",
    "c=Customer({\"name\":\"cust1\",\"address\":\"ad1\"})\n",
    "print(Customer.__mro__) # method resolution order..\n",
    "c.create()\n",
    "s=Supplier({\"name\":\"sup1\",\"address\":\"ad1\"})\n",
    "s.create()\n",
    "p=Product({\"name\":\"prod1\",\"cost\":23})\n",
    "p.create()"
   ]
  },
  {
   "cell_type": "code",
   "execution_count": 8,
   "metadata": {},
   "outputs": [
    {
     "name": "stdout",
     "output_type": "stream",
     "text": [
      "(<class '__main__.Customer'>, <class '__main__.Model'>, <class 'object'>)\n",
      "inserting the {'name': 'cust1', 'address': 'ad1'} in to db\n",
      "inserting the {'name': 'sup1', 'address': 'ad1'} in to db\n",
      "inserting the {'name': 'prod1', 'cost': 23} in to db\n"
     ]
    }
   ],
   "source": [
    "class Model(object):\n",
    "    def __init__(self, data):\n",
    "        self.data=data\n",
    "    def create(self):\n",
    "        \n",
    "        print(\"inserting the %s in to db\" % self.data)\n",
    "class Customer(Model,):\n",
    "    def verify_create(self):\n",
    "        if self.data.get(\"address\").isalnum():\n",
    "            print(\"inserting the %s in to db\" % self.data)\n",
    "        else:\n",
    "            print(\"address verification failed..\")\n",
    "class Supplier(Model):\n",
    "    pass\n",
    "class Product(Model):\n",
    "    pass\n",
    "c=Customer({\"name\":\"cust1\",\"address\":\"ad1\"})\n",
    "print(Customer.__mro__) # method resolution order..\n",
    "c.verify_create()\n",
    "s=Supplier({\"name\":\"sup1\",\"address\":\"ad1\"})\n",
    "s.create()\n",
    "p=Product({\"name\":\"prod1\",\"cost\":23})\n",
    "p.create()"
   ]
  },
  {
   "cell_type": "code",
   "execution_count": 10,
   "metadata": {},
   "outputs": [
    {
     "name": "stdout",
     "output_type": "stream",
     "text": [
      "(<class '__main__.Customer'>, <class '__main__.Model'>, <class 'object'>)\n",
      "address verification failed..\n",
      "inserting the {'name': 'sup1', 'address': 'ad1'} in to db\n",
      "inserting the {'name': 'prod1', 'cost': 23} in to db\n"
     ]
    }
   ],
   "source": [
    "class Model(object):\n",
    "    def __init__(self, data):\n",
    "        self.data=data\n",
    "    def create(self):\n",
    "        print(\"inserting the %s in to db\" % self.data)\n",
    "class Customer(Model):\n",
    "    def verify_create(self):\n",
    "        if self.data.get(\"address\").isalnum():\n",
    "            #print(\"inserting the %s in to db\" % self.data)\n",
    "            self.create()\n",
    "        else:\n",
    "            print(\"address verification failed..\")\n",
    "class Supplier(Model):\n",
    "    pass\n",
    "class Product(Model):\n",
    "    pass\n",
    "c=Customer({\"name\":\"cust1\",\"address\":\"ad1#%%\"})\n",
    "print(Customer.__mro__) # method resolution order..\n",
    "c.verify_create()\n",
    "s=Supplier({\"name\":\"sup1\",\"address\":\"ad1\"})\n",
    "s.create()\n",
    "p=Product({\"name\":\"prod1\",\"cost\":23})\n",
    "p.create()"
   ]
  },
  {
   "cell_type": "code",
   "execution_count": 11,
   "metadata": {},
   "outputs": [
    {
     "name": "stdout",
     "output_type": "stream",
     "text": [
      "(<class '__main__.Customer'>, <class '__main__.Model'>, <class 'object'>)\n",
      "inserting the {'name': 'cust1', 'address': 'ad1#%%'} in to db\n",
      "inserting the {'name': 'sup1', 'address': 'ad1'} in to db\n",
      "inserting the {'name': 'prod1', 'cost': 23} in to db\n"
     ]
    }
   ],
   "source": [
    "class Model(object):\n",
    "    def __init__(self, data):\n",
    "        self.data=data\n",
    "    def create(self):\n",
    "        print(\"inserting the %s in to db\" % self.data)\n",
    "class Customer(Model):\n",
    "    def verify_create(self):\n",
    "        if self.data.get(\"address\").isalnum():\n",
    "            #print(\"inserting the %s in to db\" % self.data)\n",
    "            self.create()\n",
    "        else:\n",
    "            print(\"address verification failed..\")\n",
    "class Supplier(Model):\n",
    "    pass\n",
    "class Product(Model):\n",
    "    pass\n",
    "c=Customer({\"name\":\"cust1\",\"address\":\"ad1#%%\"})\n",
    "print(Customer.__mro__) # method resolution order..\n",
    "c.create()\n",
    "s=Supplier({\"name\":\"sup1\",\"address\":\"ad1\"})\n",
    "s.create()\n",
    "p=Product({\"name\":\"prod1\",\"cost\":23})\n",
    "p.create()"
   ]
  },
  {
   "cell_type": "code",
   "execution_count": 12,
   "metadata": {},
   "outputs": [
    {
     "name": "stdout",
     "output_type": "stream",
     "text": [
      "(<class '__main__.Customer'>, <class '__main__.Model'>, <class 'object'>)\n",
      "address verification failed..\n",
      "inserting the {'name': 'sup1', 'address': 'ad1'} in to db\n",
      "inserting the {'name': 'prod1', 'cost': 23} in to db\n"
     ]
    }
   ],
   "source": [
    "class Model(object):\n",
    "    def __init__(self, data):\n",
    "        self.data=data\n",
    "    def create(self):\n",
    "        print(\"inserting the %s in to db\" % self.data)\n",
    "class Customer(Model):\n",
    "    def create(self):\n",
    "        if self.data.get(\"address\").isalnum():\n",
    "            #print(\"inserting the %s in to db\" % self.data)\n",
    "            Model.create(self)\n",
    "        else:\n",
    "            print(\"address verification failed..\")\n",
    "class Supplier(Model):\n",
    "    pass\n",
    "class Product(Model):\n",
    "    pass\n",
    "c=Customer({\"name\":\"cust1\",\"address\":\"ad1#%%\"})\n",
    "print(Customer.__mro__) # method resolution order..\n",
    "c.create()\n",
    "s=Supplier({\"name\":\"sup1\",\"address\":\"ad1\"})\n",
    "s.create()\n",
    "p=Product({\"name\":\"prod1\",\"cost\":23})\n",
    "p.create()"
   ]
  },
  {
   "cell_type": "code",
   "execution_count": 13,
   "metadata": {},
   "outputs": [
    {
     "name": "stdout",
     "output_type": "stream",
     "text": [
      "(<class '__main__.Customer'>, <class '__main__.Model'>, <class 'object'>)\n",
      "inserting the {'name': 'cust1', 'address': 'ad1'} in to db\n",
      "inserting the {'name': 'sup1', 'address': 'ad1'} in to db\n",
      "inserting the {'name': 'prod1', 'cost': 23} in to db\n"
     ]
    }
   ],
   "source": [
    "class Model(object):\n",
    "    def __init__(self, data):\n",
    "        self.data=data\n",
    "    def create(self):\n",
    "        print(\"inserting the %s in to db\" % self.data)\n",
    "class Customer(Model):\n",
    "    def create(self): # method overriding, create method of Model class is ovriden with create method of Customer\n",
    "        if self.data.get(\"address\").isalnum():\n",
    "            #print(\"inserting the %s in to db\" % self.data)\n",
    "            Model.create(self)\n",
    "        else:\n",
    "            print(\"address verification failed..\")\n",
    "class Supplier(Model):\n",
    "    pass\n",
    "class Product(Model):\n",
    "    pass\n",
    "c=Customer({\"name\":\"cust1\",\"address\":\"ad1\"})\n",
    "print(Customer.__mro__) # method resolution order..\n",
    "c.create()\n",
    "s=Supplier({\"name\":\"sup1\",\"address\":\"ad1\"})\n",
    "s.create()\n",
    "p=Product({\"name\":\"prod1\",\"cost\":23})\n",
    "p.create()"
   ]
  },
  {
   "cell_type": "code",
   "execution_count": 14,
   "metadata": {},
   "outputs": [
    {
     "name": "stdout",
     "output_type": "stream",
     "text": [
      "(<class '__main__.Customer'>, <class '__main__.Model'>, <class 'object'>)\n",
      "inserting the {'name': 'cust1', 'address': 'ad1'} in to db\n",
      "inserting the {'name': 'sup1', 'address': 'ad1'} in to db\n",
      "inserting the {'name': 'prod1', 'cost': 23} in to db\n"
     ]
    }
   ],
   "source": [
    "class Model(object):\n",
    "    def __init__(self, data):\n",
    "        self.data=data\n",
    "    def create(self):\n",
    "        print(\"inserting the %s in to db\" % self.data)\n",
    "class Customer(Model):\n",
    "    def create(self): # method overriding, create method of Model class is ovriden with create method of Customer\n",
    "        if self.data.get(\"address\").isalnum():\n",
    "            #print(\"inserting the %s in to db\" % self.data)\n",
    "            Model.create(self)\n",
    "        else:\n",
    "            print(\"address verification failed..\")\n",
    "class Supplier(Model):\n",
    "    def __init__(self, data, extra):\n",
    "        self.data=data\n",
    "        self.extra=extra\n",
    "        \n",
    "    \n",
    "class Product(Model):\n",
    "    pass\n",
    "c=Customer({\"name\":\"cust1\",\"address\":\"ad1\"})\n",
    "print(Customer.__mro__) # method resolution order..\n",
    "c.create()\n",
    "s=Supplier({\"name\":\"sup1\",\"address\":\"ad1\"},{\"pan\":\"werew\",\"idinfo\":\"dsaf\"})\n",
    "s.create()\n",
    "p=Product({\"name\":\"prod1\",\"cost\":23})\n",
    "p.create()"
   ]
  },
  {
   "cell_type": "code",
   "execution_count": 16,
   "metadata": {},
   "outputs": [
    {
     "name": "stdout",
     "output_type": "stream",
     "text": [
      "(<class '__main__.Customer'>, <class '__main__.Model'>, <class 'object'>)\n",
      "inserting the {'name': 'cust1', 'address': 'ad1'} in to db\n",
      "inserting the {'name': 'sup1', 'address': 'ad1'} in to db\n",
      "inserting the {'name': 'prod1', 'cost': 23} in to db\n"
     ]
    }
   ],
   "source": [
    "class Model(object):\n",
    "    def __init__(self, data):\n",
    "        self.data=data\n",
    "    def create(self):\n",
    "        print(\"inserting the %s in to db\" % self.data)\n",
    "class Customer(Model):\n",
    "    def create(self): # method overriding, create method of Model class is ovriden with create method of Customer\n",
    "        if self.data.get(\"address\").isalnum():\n",
    "            #print(\"inserting the %s in to db\" % self.data)\n",
    "            Model.create(self)\n",
    "        else:\n",
    "            print(\"address verification failed..\")\n",
    "class Supplier(Model):\n",
    "    def __init__(self, data, extra):\n",
    "        #self.data=data\n",
    "        Model.__init__(self, data)\n",
    "        self.extra=extra\n",
    "        \n",
    "    \n",
    "class Product(Model):\n",
    "    pass\n",
    "c=Customer({\"name\":\"cust1\",\"address\":\"ad1\"})\n",
    "print(Customer.__mro__) # method resolution order..\n",
    "c.create()\n",
    "s=Supplier({\"name\":\"sup1\",\"address\":\"ad1\"},{\"pan\":\"werew\",\"idinfo\":\"dsaf\"})\n",
    "s.create()\n",
    "p=Product({\"name\":\"prod1\",\"cost\":23})\n",
    "p.create()"
   ]
  },
  {
   "cell_type": "code",
   "execution_count": 17,
   "metadata": {},
   "outputs": [
    {
     "name": "stdout",
     "output_type": "stream",
     "text": [
      "(<class '__main__.Customer'>, <class '__main__.Model'>, <class 'object'>)\n",
      "inserting the {'name': 'cust1', 'address': 'ad1'} in to db\n",
      "inserting the {'name': 'sup1', 'address': 'ad1'} in to db\n",
      "inserting the {'name': 'prod1', 'cost': 23} in to db\n"
     ]
    }
   ],
   "source": [
    "class Model(object):\n",
    "    table_name=\"sdf\"\n",
    "    def __init__(self, data):\n",
    "        self.data=data\n",
    "    def create(self):\n",
    "        print(\"inserting the %s in to db\" % self.data)\n",
    "class Customer(Model):\n",
    "    def create(self): \n",
    "        if self.data.get(\"address\").isalnum():\n",
    "            Model.create(self)\n",
    "        else:\n",
    "            print(\"address verification failed..\")\n",
    "class Supplier(Model):\n",
    "    def __init__(self, data, extra):\n",
    "        Model.__init__(self, data)\n",
    "        self.extra=extra\n",
    "class Product(Model):\n",
    "    pass\n",
    "c=Customer({\"name\":\"cust1\",\"address\":\"ad1\"})\n",
    "print(Customer.__mro__) \n",
    "c.create()\n",
    "s=Supplier({\"name\":\"sup1\",\"address\":\"ad1\"},{\"pan\":\"werew\",\"idinfo\":\"dsaf\"})\n",
    "s.create()\n",
    "p=Product({\"name\":\"prod1\",\"cost\":23})\n",
    "p.create()"
   ]
  },
  {
   "cell_type": "code",
   "execution_count": null,
   "metadata": {},
   "outputs": [],
   "source": []
  }
 ],
 "metadata": {
  "kernelspec": {
   "display_name": "Python 3",
   "language": "python",
   "name": "python3"
  },
  "language_info": {
   "codemirror_mode": {
    "name": "ipython",
    "version": 3
   },
   "file_extension": ".py",
   "mimetype": "text/x-python",
   "name": "python",
   "nbconvert_exporter": "python",
   "pygments_lexer": "ipython3",
   "version": "3.7.0"
  }
 },
 "nbformat": 4,
 "nbformat_minor": 2
}
