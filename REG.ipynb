{
 "cells": [
  {
   "cell_type": "code",
   "execution_count": 1,
   "metadata": {},
   "outputs": [
    {
     "name": "stdout",
     "output_type": "stream",
     "text": [
      "\n",
      "id,name,email,phone\n",
      "1,Jay,Jay123@gmail.com,9676622023\n",
      "2,Vedha,Vedha123@gmail.co.in,9676622024\n",
      "3,Sai,sai@govt.in,9676622025\n"
     ]
    }
   ],
   "source": [
    "s=\"\"\"\n",
    "id,name,email,phone\n",
    "1,Jay,Jay123@gmail.com,9676622023\n",
    "2,Vedha,Vedha123@gmail.co.in,9676622024\n",
    "3,Sai,sai@govt.in,9676622025\n",
    "\"\"\"\n",
    "for i in s.splitlines():\n",
    "    print(i)"
   ]
  },
  {
   "cell_type": "code",
   "execution_count": 3,
   "metadata": {},
   "outputs": [
    {
     "name": "stdout",
     "output_type": "stream",
     "text": [
      "email\n",
      "Jay123@gmail.com\n",
      "Vedha123@gmail.co.in\n",
      "sai@govt.in\n"
     ]
    }
   ],
   "source": [
    "s=\"\"\"\n",
    "id,name,email,phone\n",
    "1,Jay,Jay123@gmail.com,9676622023\n",
    "2,Vedha,Vedha123@gmail.co.in,9676622024\n",
    "3,Sai,sai@govt.in,9676622025\n",
    "\"\"\"\n",
    "for i in s.splitlines():\n",
    "    if i:\n",
    "        print(i.split(\",\")[-2])"
   ]
  },
  {
   "cell_type": "code",
   "execution_count": 4,
   "metadata": {},
   "outputs": [
    {
     "name": "stdout",
     "output_type": "stream",
     "text": [
      "phone\n",
      "9676622023\n",
      "9676622024\n",
      "9676622025\n"
     ]
    }
   ],
   "source": [
    "s=\"\"\"\n",
    "id,name,email,phone\n",
    "1,Jay,Jay123@gmail.com,9676622023\n",
    "2,Vedha,Vedha123@gmail.co.in,9676622024\n",
    "3,Sai,sai@govt.in,9676622025\n",
    "\"\"\"\n",
    "for i in s.splitlines():\n",
    "    if i:\n",
    "        print(i.split(\",\")[-1])"
   ]
  },
  {
   "cell_type": "code",
   "execution_count": 5,
   "metadata": {},
   "outputs": [
    {
     "data": {
      "text/plain": [
       "['9676622023', '9676622024', '9676622025']"
      ]
     },
     "execution_count": 5,
     "metadata": {},
     "output_type": "execute_result"
    }
   ],
   "source": [
    "s=\"\"\"\n",
    "1,Jay,Jay123@gmail.com,9676622023\n",
    "Vedha,Vedha123@gmail.co.in,2,9676622024\n",
    "9676622025,3,Sai,sai@govt.in\n",
    "\"\"\"\n",
    "import re\n",
    "re.findall(\"[0-9]{10}\",s)"
   ]
  },
  {
   "cell_type": "code",
   "execution_count": 6,
   "metadata": {},
   "outputs": [
    {
     "data": {
      "text/plain": [
       "[]"
      ]
     },
     "execution_count": 6,
     "metadata": {},
     "output_type": "execute_result"
    }
   ],
   "source": [
    "import re\n",
    "s=\"\"\"\n",
    "1,Jay,Jay123@gmail.com,9676622023\n",
    "Vedha,Vedha123@gmail.co.in,2,9676622024\n",
    "9676622025,3,Sai,sai@govt.in\n",
    "\"\"\"\n",
    "re.findall(\"abcd\",s)\n"
   ]
  },
  {
   "cell_type": "code",
   "execution_count": 7,
   "metadata": {},
   "outputs": [
    {
     "data": {
      "text/plain": [
       "['a', 'a', 'a', 'c', 'd', 'a', 'd', 'a', 'a', 'c', 'a', 'a']"
      ]
     },
     "execution_count": 7,
     "metadata": {},
     "output_type": "execute_result"
    }
   ],
   "source": [
    "import re\n",
    "s=\"\"\"\n",
    "1,Jay,Jay123@gmail.com,9676622023\n",
    "Vedha,Vedha123@gmail.co.in,2,9676622024\n",
    "9676622025,3,Sai,sai@govt.in\n",
    "\"\"\"\n",
    "re.findall(\"[abcd]\",s)\n"
   ]
  },
  {
   "cell_type": "code",
   "execution_count": 9,
   "metadata": {},
   "outputs": [
    {
     "name": "stdout",
     "output_type": "stream",
     "text": [
      "['a', 'y', 'a', 'y', 'g', 'm', 'a', 'i', 'l', 'c', 'o', 'm', 'e', 'd', 'h', 'a', 'e', 'd', 'h', 'a', 'g', 'm', 'a', 'i', 'l', 'c', 'o', 'i', 'n', 'a', 'i', 's', 'a', 'i', 'g', 'o', 'v', 't', 'i', 'n']\n"
     ]
    }
   ],
   "source": [
    "import re\n",
    "s=\"\"\"\n",
    "1,Jay,Jay123@gmail.com,9676622023\n",
    "Vedha,Vedha123@gmail.co.in,2,9676622024\n",
    "9676622025,3,Sai,sai@govt.in\n",
    "\"\"\"\n",
    "print(re.findall(\"[a-z]\",s))"
   ]
  },
  {
   "cell_type": "code",
   "execution_count": 10,
   "metadata": {},
   "outputs": [
    {
     "name": "stdout",
     "output_type": "stream",
     "text": [
      "['J', 'a', 'y', 'J', 'a', 'y', 'g', 'm', 'a', 'i', 'l', 'c', 'o', 'm', 'V', 'e', 'd', 'h', 'a', 'V', 'e', 'd', 'h', 'a', 'g', 'm', 'a', 'i', 'l', 'c', 'o', 'i', 'n', 'S', 'a', 'i', 's', 'a', 'i', 'g', 'o', 'v', 't', 'i', 'n']\n"
     ]
    }
   ],
   "source": [
    "import re\n",
    "s=\"\"\"\n",
    "1,Jay,Jay123@gmail.com,9676622023\n",
    "Vedha,Vedha123@gmail.co.in,2,9676622024\n",
    "9676622025,3,Sai,sai@govt.in\n",
    "\"\"\"\n",
    "print(re.findall(\"[a-zA-Z]\",s))"
   ]
  },
  {
   "cell_type": "code",
   "execution_count": 11,
   "metadata": {},
   "outputs": [
    {
     "name": "stdout",
     "output_type": "stream",
     "text": [
      "['J', 'a', 'y', 'J', 'a', 'y', 'g', 'm', 'a', 'i', 'l', 'c', 'o', 'm', 'V', 'e', 'd', 'h', 'a', 'V', 'e', 'd', 'h', 'a', 'g', 'm', 'a', 'i', 'l', 'c', 'o', 'i', 'n', 'S', 'a', 'i', 's', 'a', 'i', 'g', 'o', 'v', 't', 'i', 'n']\n"
     ]
    }
   ],
   "source": [
    "import re\n",
    "s=\"\"\"\n",
    "1,Jay,Jay123@gmail.com,9676622023\n",
    "Vedha,Vedha123@gmail.co.in,2,9676622024\n",
    "9676622025,3,Sai,sai@govt.in\n",
    "\"\"\"\n",
    "print(re.findall(\"[a-z]\",s,re.I))"
   ]
  },
  {
   "cell_type": "code",
   "execution_count": 12,
   "metadata": {},
   "outputs": [
    {
     "name": "stdout",
     "output_type": "stream",
     "text": [
      "['1', '1', '2', '3', '9', '6', '7', '6', '6', '2', '2', '0', '2', '3', '1', '2', '3', '2', '9', '6', '7', '6', '6', '2', '2', '0', '2', '4', '9', '6', '7', '6', '6', '2', '2', '0', '2', '5', '3']\n"
     ]
    }
   ],
   "source": [
    "import re\n",
    "s=\"\"\"\n",
    "1,Jay,Jay123@gmail.com,9676622023\n",
    "Vedha,Vedha123@gmail.co.in,2,9676622024\n",
    "9676622025,3,Sai,sai@govt.in\n",
    "\"\"\"\n",
    "print(re.findall(\"[0-9]\",s,re.I))"
   ]
  },
  {
   "cell_type": "code",
   "execution_count": 13,
   "metadata": {},
   "outputs": [
    {
     "name": "stdout",
     "output_type": "stream",
     "text": [
      "['12', '96', '76', '62', '20', '23', '12', '96', '76', '62', '20', '24', '96', '76', '62', '20', '25']\n"
     ]
    }
   ],
   "source": [
    "import re\n",
    "s=\"\"\"\n",
    "1,Jay,Jay123@gmail.com,9676622023\n",
    "Vedha,Vedha123@gmail.co.in,2,9676622024\n",
    "9676622025,3,Sai,sai@govt.in\n",
    "\"\"\"\n",
    "print(re.findall(\"[0-9][0-9]\",s,re.I))"
   ]
  },
  {
   "cell_type": "code",
   "execution_count": 14,
   "metadata": {},
   "outputs": [
    {
     "name": "stdout",
     "output_type": "stream",
     "text": [
      "['123', '967', '662', '202', '123', '967', '662', '202', '967', '662', '202']\n"
     ]
    }
   ],
   "source": [
    "import re\n",
    "s=\"\"\"\n",
    "1,Jay,Jay123@gmail.com,9676622023\n",
    "Vedha,Vedha123@gmail.co.in,2,9676622024\n",
    "9676622025,3,Sai,sai@govt.in\n",
    "\"\"\"\n",
    "print(re.findall(\"[0-9][0-9][0-9]\",s,re.I))"
   ]
  },
  {
   "cell_type": "code",
   "execution_count": 15,
   "metadata": {},
   "outputs": [
    {
     "name": "stdout",
     "output_type": "stream",
     "text": [
      "['123', '967', '662', '202', '123', '967', '662', '202', '967', '662', '202']\n"
     ]
    }
   ],
   "source": [
    "import re\n",
    "s=\"\"\"\n",
    "1,Jay,Jay123@gmail.com,9676622023\n",
    "Vedha,Vedha123@gmail.co.in,2,9676622024\n",
    "9676622025,3,Sai,sai@govt.in\n",
    "\"\"\"\n",
    "print(re.findall(\"[0-9]{3}\",s,re.I))"
   ]
  },
  {
   "cell_type": "code",
   "execution_count": 16,
   "metadata": {},
   "outputs": [
    {
     "name": "stdout",
     "output_type": "stream",
     "text": [
      "['9676622023', '9676622024', '9676622025']\n"
     ]
    }
   ],
   "source": [
    "import re\n",
    "s=\"\"\"\n",
    "1,Jay,Jay123@gmail.com,9676622023\n",
    "Vedha,Vedha123@gmail.co.in,2,9676622024\n",
    "9676622025,3,Sai,sai@govt.in\n",
    "\"\"\"\n",
    "print(re.findall(\"[0-9]{10}\",s,re.I))"
   ]
  },
  {
   "cell_type": "code",
   "execution_count": 17,
   "metadata": {},
   "outputs": [
    {
     "name": "stdout",
     "output_type": "stream",
     "text": [
      "['1', '132', '9676622023', '123', '2', '9676622024', '9676622025', '3']\n"
     ]
    }
   ],
   "source": [
    "import re\n",
    "s=\"\"\"\n",
    "1,Jay,Jay132@gmail.com,9676622023\n",
    "Vedha,Vedha123@gmail.co.in,2,9676622024\n",
    "9676622025,3,Sai,sai@govt.in\n",
    "\"\"\"\n",
    "print(re.findall(\"[0-9]{1,10}\",s,re.I))"
   ]
  },
  {
   "cell_type": "code",
   "execution_count": 18,
   "metadata": {},
   "outputs": [
    {
     "name": "stdout",
     "output_type": "stream",
     "text": [
      "['', '1', '', '', '', '', '', '', '', '', '132', '', '', '', '', '', '', '', '', '', '', '', '9676622023', '', '', '', '', '', '', '', '', '', '', '', '', '123', '', '', '', '', '', '', '', '', '', '', '', '', '', '2', '', '9676622024', '', '9676622025', '', '3', '', '', '', '', '', '', '', '', '', '', '', '', '', '', '', '', '', '']\n"
     ]
    }
   ],
   "source": [
    "import re\n",
    "s=\"\"\"\n",
    "1,Jay,Jay132@gmail.com,9676622023\n",
    "Vedha,Vedha123@gmail.co.in,2,9676622024\n",
    "9676622025,3,Sai,sai@govt.in\n",
    "\"\"\"\n",
    "print(re.findall(\"[0-9]{0,10}\",s,re.I))"
   ]
  },
  {
   "cell_type": "code",
   "execution_count": 20,
   "metadata": {},
   "outputs": [
    {
     "name": "stdout",
     "output_type": "stream",
     "text": [
      "['1', '1', '3', '2', '9', '6', '7', '6', '6', '2', '2', '0', '2', '3', '1', '2', '3', '2', '9', '6', '7', '6', '6', '2', '2', '0', '2', '4', '9', '6', '7', '6', '6', '2', '2', '0', '2', '5', '3']\n"
     ]
    }
   ],
   "source": [
    "import re\n",
    "s=\"\"\"\n",
    "1,Jay,Jay132@gmail.com,9676622023\n",
    "Vedha,Vedha123@gmail.co.in,2,9676622024\n",
    "9676622025,3,Sai,sai@govt.in\n",
    "\"\"\"\n",
    "print(re.findall(\"[0-9]{1}\",s,re.I))"
   ]
  },
  {
   "cell_type": "code",
   "execution_count": 21,
   "metadata": {},
   "outputs": [
    {
     "name": "stdout",
     "output_type": "stream",
     "text": [
      "['1,', '2,', '5,', '3,']\n"
     ]
    }
   ],
   "source": [
    "import re\n",
    "s=\"\"\"\n",
    "1,Jay,Jay132@gmail.com,9676622023\n",
    "Vedha,Vedha123@gmail.co.in,2,9676622024\n",
    "9676622025,3,Sai,sai@govt.in\n",
    "\"\"\"\n",
    "print(re.findall(\"[0-9]{1},\",s,re.I))"
   ]
  },
  {
   "cell_type": "code",
   "execution_count": 22,
   "metadata": {},
   "outputs": [
    {
     "name": "stdout",
     "output_type": "stream",
     "text": [
      "[',2,', ',3,']\n"
     ]
    }
   ],
   "source": [
    "import re\n",
    "s=\"\"\"\n",
    "1,Jay,Jay132@gmail.com,9676622023\n",
    "Vedha,Vedha123@gmail.co.in,2,9676622024\n",
    "9676622025,3,Sai,sai@govt.in\n",
    "\"\"\"\n",
    "print(re.findall(\",[0-9]{1},\",s,re.I))"
   ]
  },
  {
   "cell_type": "code",
   "execution_count": 23,
   "metadata": {},
   "outputs": [
    {
     "name": "stdout",
     "output_type": "stream",
     "text": [
      "['\\n1,', ',2,', ',3,']\n"
     ]
    }
   ],
   "source": [
    "import re\n",
    "s=\"\"\"\n",
    "1,Jay,Jay132@gmail.com,9676622023\n",
    "Vedha,Vedha123@gmail.co.in,2,9676622024\n",
    "9676622025,3,Sai,sai@govt.in\n",
    "\"\"\"\n",
    "print(re.findall(\"[^0-9][0-9]{1},\",s,re.I))"
   ]
  },
  {
   "cell_type": "code",
   "execution_count": 24,
   "metadata": {},
   "outputs": [
    {
     "name": "stdout",
     "output_type": "stream",
     "text": [
      "['1', '1', '3', '2', '9', '6', '7', '6', '6', '2', '2', '0', '2', '3', '1', '2', '3', '2', '9', '6', '7', '6', '6', '2', '2', '0', '2', '4', '9', '6', '7', '6', '6', '2', '2', '0', '2', '5', '3']\n"
     ]
    }
   ],
   "source": [
    "import re\n",
    "s=\"\"\"\n",
    "1,Jay,Jay132@gmail.com,9676622023\n",
    "Vedha,Vedha123@gmail.co.in,2,9676622024\n",
    "9676622025,3,Sai,sai@govt.in\n",
    "\"\"\"\n",
    "print(re.findall(\"[0-9]\",s,re.I))"
   ]
  },
  {
   "cell_type": "code",
   "execution_count": 25,
   "metadata": {},
   "outputs": [
    {
     "name": "stdout",
     "output_type": "stream",
     "text": [
      "['\\n', ',', 'J', 'a', 'y', ',', 'J', 'a', 'y', '@', 'g', 'm', 'a', 'i', 'l', '.', 'c', 'o', 'm', ',', '\\n', 'V', 'e', 'd', 'h', 'a', ',', 'V', 'e', 'd', 'h', 'a', '@', 'g', 'm', 'a', 'i', 'l', '.', 'c', 'o', '.', 'i', 'n', ',', ',', '\\n', ',', ',', 'S', 'a', 'i', ',', 's', 'a', 'i', '@', 'g', 'o', 'v', 't', '.', 'i', 'n', '\\n']\n"
     ]
    }
   ],
   "source": [
    "import re\n",
    "s=\"\"\"\n",
    "1,Jay,Jay132@gmail.com,9676622023\n",
    "Vedha,Vedha123@gmail.co.in,2,9676622024\n",
    "9676622025,3,Sai,sai@govt.in\n",
    "\"\"\"\n",
    "print(re.findall(\"[^0-9]\",s,re.I))"
   ]
  },
  {
   "cell_type": "code",
   "execution_count": 26,
   "metadata": {},
   "outputs": [
    {
     "name": "stdout",
     "output_type": "stream",
     "text": [
      "[]\n"
     ]
    }
   ],
   "source": [
    "import re\n",
    "s=\"\"\"\n",
    "1,Jay,Jay132@gmail.com,9676622023\n",
    "Vedha,Vedha123@gmail.co.in,2,9676622024\n",
    "9676622025,3,Sai,sai@govt.in\n",
    "\"\"\"\n",
    "print(re.findall(\"^[0-9]\",s,re.I))"
   ]
  },
  {
   "cell_type": "code",
   "execution_count": 27,
   "metadata": {},
   "outputs": [
    {
     "name": "stdout",
     "output_type": "stream",
     "text": [
      "['1']\n"
     ]
    }
   ],
   "source": [
    "import re\n",
    "s=\"\"\"1,Jay,Jay132@gmail.com,9676622023\n",
    "Vedha,Vedha123@gmail.co.in,2,9676622024\n",
    "9676622025,3,Sai,sai@govt.in\"\"\"\n",
    "print(re.findall(\"^[0-9]\",s,re.I))"
   ]
  },
  {
   "cell_type": "code",
   "execution_count": 28,
   "metadata": {},
   "outputs": [
    {
     "name": "stdout",
     "output_type": "stream",
     "text": [
      "[]\n"
     ]
    }
   ],
   "source": [
    "import re\n",
    "s=\"\"\"1,Jay,Jay132@gmail.com,9676622023\n",
    "Vedha,Vedha123@gmail.co.in,2,9676622024\n",
    "9676622025,3,Sai,sai@govt.in\"\"\"\n",
    "print(re.findall(\"[0-9]$\",s,re.I))"
   ]
  },
  {
   "cell_type": "code",
   "execution_count": 29,
   "metadata": {},
   "outputs": [
    {
     "name": "stdout",
     "output_type": "stream",
     "text": [
      "['3', '4']\n"
     ]
    }
   ],
   "source": [
    "import re\n",
    "s=\"\"\"1,Jay,Jay132@gmail.com,9676622023\n",
    "Vedha,Vedha123@gmail.co.in,2,9676622024\n",
    "9676622025,3,Sai,sai@govt.in\"\"\"\n",
    "print(re.findall(\"[0-9]$\",s,re.M))"
   ]
  },
  {
   "cell_type": "code",
   "execution_count": 30,
   "metadata": {},
   "outputs": [
    {
     "name": "stdout",
     "output_type": "stream",
     "text": [
      "['1', '9']\n"
     ]
    }
   ],
   "source": [
    "import re\n",
    "s=\"\"\"1,Jay,Jay132@gmail.com,9676622023\n",
    "Vedha,Vedha123@gmail.co.in,2,9676622024\n",
    "9676622025,3,Sai,sai@govt.in\"\"\"\n",
    "print(re.findall(\"^[0-9]\",s,re.M))"
   ]
  },
  {
   "cell_type": "code",
   "execution_count": 31,
   "metadata": {},
   "outputs": [
    {
     "name": "stdout",
     "output_type": "stream",
     "text": [
      "['1', ',', 'J', 'a', 'y', ',', 'J', 'a', 'y', '1', '3', '2', '@', 'g', 'm', 'a', 'i', 'l', '.', 'c', 'o', 'm', ',', '9', '6', '7', '6', '6', '2', '2', '0', '2', '3', 'V', 'e', 'd', 'h', 'a', ',', 'V', 'e', 'd', 'h', 'a', '1', '2', '3', '@', 'g', 'm', 'a', 'i', 'l', '.', 'c', 'o', '.', 'i', 'n', ',', '2', ',', '9', '6', '7', '6', '6', '2', '2', '0', '2', '4', '9', '6', '7', '6', '6', '2', '2', '0', '2', '5', ',', '3', ',', 'S', 'a', 'i', ',', 's', 'a', 'i', '@', 'g', 'o', 'v', 't', '.', 'i', 'n']\n"
     ]
    }
   ],
   "source": [
    "import re\n",
    "s=\"\"\"1,Jay,Jay132@gmail.com,9676622023\n",
    "Vedha,Vedha123@gmail.co.in,2,9676622024\n",
    "9676622025,3,Sai,sai@govt.in\"\"\"\n",
    "print(re.findall(\".\",s,re.M))"
   ]
  },
  {
   "cell_type": "code",
   "execution_count": 32,
   "metadata": {},
   "outputs": [
    {
     "name": "stdout",
     "output_type": "stream",
     "text": [
      "['1', ',', 'J', 'a', 'y', ',', 'J', 'a', 'y', '1', '3', '2', '@', 'g', 'm', 'a', 'i', 'l', '.', 'c', 'o', 'm', ',', '9', '6', '7', '6', '6', '2', '2', '0', '2', '3', '\\n', 'V', 'e', 'd', 'h', 'a', ',', 'V', 'e', 'd', 'h', 'a', '1', '2', '3', '@', 'g', 'm', 'a', 'i', 'l', '.', 'c', 'o', '.', 'i', 'n', ',', '2', ',', '9', '6', '7', '6', '6', '2', '2', '0', '2', '4', '\\n', '9', '6', '7', '6', '6', '2', '2', '0', '2', '5', ',', '3', ',', 'S', 'a', 'i', ',', 's', 'a', 'i', '@', 'g', 'o', 'v', 't', '.', 'i', 'n']\n"
     ]
    }
   ],
   "source": [
    "import re\n",
    "s=\"\"\"1,Jay,Jay132@gmail.com,9676622023\n",
    "Vedha,Vedha123@gmail.co.in,2,9676622024\n",
    "9676622025,3,Sai,sai@govt.in\"\"\"\n",
    "print(re.findall(\".\",s,re.DOTALL))"
   ]
  },
  {
   "cell_type": "code",
   "execution_count": 33,
   "metadata": {},
   "outputs": [
    {
     "name": "stdout",
     "output_type": "stream",
     "text": [
      "['1', '132', '9676622023', '123', '2', '9676622024', '9676622025', '3']\n"
     ]
    }
   ],
   "source": [
    "import re\n",
    "s=\"\"\"1,Jay,Jay132@gmail.com,9676622023\n",
    "Vedha,Vedha123@gmail.co.in,2,9676622024\n",
    "9676622025,3,Sai,sai@govt.in\"\"\"\n",
    "print(re.findall(\"[0-9]{1,10}\",s))"
   ]
  },
  {
   "cell_type": "code",
   "execution_count": 34,
   "metadata": {},
   "outputs": [
    {
     "name": "stdout",
     "output_type": "stream",
     "text": [
      "['1', '132', '9676622023', '123', '2', '9676622024', '9676622025', '3']\n"
     ]
    }
   ],
   "source": [
    "import re\n",
    "s=\"\"\"1,Jay,Jay132@gmail.com,9676622023\n",
    "Vedha,Vedha123@gmail.co.in,2,9676622024\n",
    "9676622025,3,Sai,sai@govt.in\"\"\"\n",
    "print(re.findall(\"[0-9]{1,}\",s))"
   ]
  },
  {
   "cell_type": "code",
   "execution_count": 35,
   "metadata": {},
   "outputs": [
    {
     "name": "stdout",
     "output_type": "stream",
     "text": [
      "['1', '132', '9676622023', '123', '2', '9676622024', '9676622025', '3']\n"
     ]
    }
   ],
   "source": [
    "import re\n",
    "s=\"\"\"1,Jay,Jay132@gmail.com,9676622023\n",
    "Vedha,Vedha123@gmail.co.in,2,9676622024\n",
    "9676622025,3,Sai,sai@govt.in\"\"\"\n",
    "print(re.findall(\"[0-9]+\",s))"
   ]
  },
  {
   "cell_type": "code",
   "execution_count": 36,
   "metadata": {},
   "outputs": [
    {
     "name": "stdout",
     "output_type": "stream",
     "text": [
      "['1', '', '', '', '', '', '', '', '', '132', '', '', '', '', '', '', '', '', '', '', '', '9676622023', '', '', '', '', '', '', '', '', '', '', '', '', '123', '', '', '', '', '', '', '', '', '', '', '', '', '', '2', '', '9676622024', '', '9676622025', '', '3', '', '', '', '', '', '', '', '', '', '', '', '', '', '', '', '', '']\n"
     ]
    }
   ],
   "source": [
    "import re\n",
    "s=\"\"\"1,Jay,Jay132@gmail.com,9676622023\n",
    "Vedha,Vedha123@gmail.co.in,2,9676622024\n",
    "9676622025,3,Sai,sai@govt.in\"\"\"\n",
    "print(re.findall(\"[0-9]{0,}\",s))"
   ]
  },
  {
   "cell_type": "code",
   "execution_count": 37,
   "metadata": {},
   "outputs": [
    {
     "name": "stdout",
     "output_type": "stream",
     "text": [
      "['1', '', '', '', '', '', '', '', '', '132', '', '', '', '', '', '', '', '', '', '', '', '9676622023', '', '', '', '', '', '', '', '', '', '', '', '', '123', '', '', '', '', '', '', '', '', '', '', '', '', '', '2', '', '9676622024', '', '9676622025', '', '3', '', '', '', '', '', '', '', '', '', '', '', '', '', '', '', '', '']\n"
     ]
    }
   ],
   "source": [
    "import re\n",
    "s=\"\"\"1,Jay,Jay132@gmail.com,9676622023\n",
    "Vedha,Vedha123@gmail.co.in,2,9676622024\n",
    "9676622025,3,Sai,sai@govt.in\"\"\"\n",
    "print(re.findall(\"[0-9]*\",s))"
   ]
  },
  {
   "cell_type": "code",
   "execution_count": 38,
   "metadata": {},
   "outputs": [
    {
     "name": "stdout",
     "output_type": "stream",
     "text": [
      "['1', '', '', '', '', '', '', '', '', '1', '3', '2', '', '', '', '', '', '', '', '', '', '', '', '9', '6', '7', '6', '6', '2', '2', '0', '2', '3', '', '', '', '', '', '', '', '', '', '', '', '', '1', '2', '3', '', '', '', '', '', '', '', '', '', '', '', '', '', '2', '', '9', '6', '7', '6', '6', '2', '2', '0', '2', '4', '', '9', '6', '7', '6', '6', '2', '2', '0', '2', '5', '', '3', '', '', '', '', '', '', '', '', '', '', '', '', '', '', '', '', '']\n"
     ]
    }
   ],
   "source": [
    "import re\n",
    "s=\"\"\"1,Jay,Jay132@gmail.com,9676622023\n",
    "Vedha,Vedha123@gmail.co.in,2,9676622024\n",
    "9676622025,3,Sai,sai@govt.in\"\"\"\n",
    "print(re.findall(\"[0-9]{0,1}\",s))"
   ]
  },
  {
   "cell_type": "code",
   "execution_count": 39,
   "metadata": {},
   "outputs": [
    {
     "name": "stdout",
     "output_type": "stream",
     "text": [
      "['1', '', '', '', '', '', '', '', '', '1', '3', '2', '', '', '', '', '', '', '', '', '', '', '', '9', '6', '7', '6', '6', '2', '2', '0', '2', '3', '', '', '', '', '', '', '', '', '', '', '', '', '1', '2', '3', '', '', '', '', '', '', '', '', '', '', '', '', '', '2', '', '9', '6', '7', '6', '6', '2', '2', '0', '2', '4', '', '9', '6', '7', '6', '6', '2', '2', '0', '2', '5', '', '3', '', '', '', '', '', '', '', '', '', '', '', '', '', '', '', '', '']\n"
     ]
    }
   ],
   "source": [
    "import re\n",
    "s=\"\"\"1,Jay,Jay132@gmail.com,9676622023\n",
    "Vedha,Vedha123@gmail.co.in,2,9676622024\n",
    "9676622025,3,Sai,sai@govt.in\"\"\"\n",
    "print(re.findall(\"[0-9]?\",s))"
   ]
  },
  {
   "cell_type": "code",
   "execution_count": 41,
   "metadata": {},
   "outputs": [
    {
     "name": "stdout",
     "output_type": "stream",
     "text": [
      "['1', 'Jay', 'Jay132', 'gmail', 'com', '9676622023', 'Vedha', 'Vedha123', 'gmail', 'co', 'in', '2', '9676622024', '9676622025', '3', 'Sai', 'sai', 'govt', 'in']\n"
     ]
    }
   ],
   "source": [
    "import re\n",
    "s=\"\"\"1,Jay,Jay132@gmail.com,9676622023\n",
    "Vedha,Vedha123@gmail.co.in,2,9676622024\n",
    "9676622025,3,Sai,sai@govt.in\"\"\"\n",
    "print(re.findall(\"\\w+\",s))"
   ]
  },
  {
   "cell_type": "code",
   "execution_count": 42,
   "metadata": {},
   "outputs": [
    {
     "name": "stdout",
     "output_type": "stream",
     "text": [
      "['1', '132', '9676622023', '123', '2', '9676622024', '9676622025', '3']\n"
     ]
    }
   ],
   "source": [
    "import re\n",
    "s=\"\"\"1,Jay,Jay132@gmail.com,9676622023\n",
    "Vedha,Vedha123@gmail.co.in,2,9676622024\n",
    "9676622025,3,Sai,sai@govt.in\"\"\"\n",
    "print(re.findall(\"\\d+\",s))"
   ]
  },
  {
   "cell_type": "code",
   "execution_count": 43,
   "metadata": {},
   "outputs": [
    {
     "name": "stdout",
     "output_type": "stream",
     "text": [
      "[',Jay,Jay', '@gmail.com,', '\\nVedha,Vedha', '@gmail.co.in,', ',', '\\n', ',', ',Sai,sai@govt.in']\n"
     ]
    }
   ],
   "source": [
    "import re\n",
    "s=\"\"\"1,Jay,Jay132@gmail.com,9676622023\n",
    "Vedha,Vedha123@gmail.co.in,2,9676622024\n",
    "9676622025,3,Sai,sai@govt.in\"\"\"\n",
    "print(re.findall(\"\\D+\",s))"
   ]
  },
  {
   "cell_type": "code",
   "execution_count": 47,
   "metadata": {},
   "outputs": [
    {
     "data": {
      "text/plain": [
       "'1,Jay,Jay132@gmail.com,9676622023'"
      ]
     },
     "execution_count": 47,
     "metadata": {},
     "output_type": "execute_result"
    }
   ],
   "source": [
    "import re\n",
    "s=\"\"\"1,Jay,Jay132@gmail.com,9676622023\n",
    "Vedha,Vedha123@gmail.co.in,2,9676622024\n",
    "9676622025,3,Sai,sai@govt.in\"\"\"\n",
    "s.splitlines()[0]"
   ]
  },
  {
   "cell_type": "code",
   "execution_count": 49,
   "metadata": {},
   "outputs": [
    {
     "name": "stdout",
     "output_type": "stream",
     "text": [
      "['Jay132@gmail.com', 'Vedha123@gmail.co.in', 'sai@govt.in']\n"
     ]
    }
   ],
   "source": [
    "import re\n",
    "s=\"\"\"1,Jay,Jay132@gmail.com,9676622023\n",
    "Vedha,Vedha123@gmail.co.in,2,9676622024\n",
    "9676622025,3,Sai,sai@govt.in\"\"\"\n",
    "\"\"\"\n",
    "[a-z0-9_-]: \\w+\n",
    "@\n",
    "[a-z]\n",
    "\\.\n",
    "[a-z.]+\n",
    "\"\"\"\n",
    "print(re.findall(\"\\w+@[a-z]+\\.[a-z.]+\",s,re.I))"
   ]
  },
  {
   "cell_type": "code",
   "execution_count": 50,
   "metadata": {},
   "outputs": [
    {
     "name": "stdout",
     "output_type": "stream",
     "text": [
      "<callable_iterator object at 0x7f2068369d68>\n"
     ]
    }
   ],
   "source": [
    "import re\n",
    "s=\"\"\"1,Jay,Jay132@gmail.com,9676622023\n",
    "Vedha,Vedha123@gmail.co.in,2,9676622024\n",
    "9676622025,3,Sai,sai@govt.in\"\"\"\n",
    "print(re.finditer(\"\\w+@[a-z]+\\.[a-z.]+\",s,re.I))"
   ]
  },
  {
   "cell_type": "code",
   "execution_count": 52,
   "metadata": {},
   "outputs": [
    {
     "name": "stdout",
     "output_type": "stream",
     "text": [
      "<re.Match object; span=(6, 22), match='Jay132@gmail.com'>\n",
      "<re.Match object; span=(40, 60), match='Vedha123@gmail.co.in'>\n",
      "<re.Match object; span=(91, 102), match='sai@govt.in'>\n"
     ]
    }
   ],
   "source": [
    "import re\n",
    "s=\"\"\"1,Jay,Jay132@gmail.com,9676622023\n",
    "Vedha,Vedha123@gmail.co.in,2,9676622024\n",
    "9676622025,3,Sai,sai@govt.in\"\"\"\n",
    "patrns = re.finditer(\"\\w+@[a-z]+\\.[a-z.]+\",s,re.I)\n",
    "for pat in patrns:\n",
    "    print(pat)"
   ]
  },
  {
   "cell_type": "code",
   "execution_count": 54,
   "metadata": {},
   "outputs": [
    {
     "name": "stdout",
     "output_type": "stream",
     "text": [
      "Jay132@gmail.com\n",
      "Vedha123@gmail.co.in\n",
      "sai@govt.in\n"
     ]
    }
   ],
   "source": [
    "import re\n",
    "s=\"\"\"1,Jay,Jay132@gmail.com,9676622023\n",
    "Vedha,Vedha123@gmail.co.in,2,9676622024\n",
    "9676622025,3,Sai,sai@govt.in\"\"\"\n",
    "patrns = re.finditer(\"\\w+@[a-z]+\\.[a-z.]+\",s,re.I)\n",
    "for pat in patrns:\n",
    "    print(pat.group(0))"
   ]
  },
  {
   "cell_type": "code",
   "execution_count": 55,
   "metadata": {},
   "outputs": [
    {
     "name": "stdout",
     "output_type": "stream",
     "text": [
      "<re.Match object; span=(6, 22), match='Jay132@gmail.com'>\n"
     ]
    }
   ],
   "source": [
    "import re\n",
    "s=\"\"\"1,Jay,Jay132@gmail.com,9676622023\n",
    "Vedha,Vedha123@gmail.co.in,2,9676622024\n",
    "9676622025,3,Sai,sai@govt.in\"\"\"\n",
    "patrns = re.search(\"\\w+@[a-z]+\\.[a-z.]+\",s,re.I)\n",
    "print(patrns)"
   ]
  },
  {
   "cell_type": "code",
   "execution_count": 56,
   "metadata": {},
   "outputs": [
    {
     "name": "stdout",
     "output_type": "stream",
     "text": [
      "Jay132@gmail.com\n"
     ]
    }
   ],
   "source": [
    "import re\n",
    "s=\"\"\"1,Jay,Jay132@gmail.com,9676622023\n",
    "Vedha,Vedha123@gmail.co.in,2,9676622024\n",
    "9676622025,3,Sai,sai@govt.in\"\"\"\n",
    "patrns = re.search(\"\\w+@[a-z]+\\.[a-z.]+\",s,re.I)\n",
    "print(patrns.group(0))"
   ]
  },
  {
   "cell_type": "code",
   "execution_count": 57,
   "metadata": {},
   "outputs": [
    {
     "name": "stdout",
     "output_type": "stream",
     "text": [
      "None\n"
     ]
    }
   ],
   "source": [
    "import re\n",
    "s=\"\"\"1,Jay,Jay132@gmail.com,9676622023\n",
    "Vedha,Vedha123@gmail.co.in,2,9676622024\n",
    "9676622025,3,Sai,sai@govt.in\"\"\"\n",
    "patrns = re.match(\"\\w+@[a-z]+\\.[a-z.]+\",s,re.I)\n",
    "print(patrns)"
   ]
  },
  {
   "cell_type": "code",
   "execution_count": 59,
   "metadata": {},
   "outputs": [
    {
     "data": {
      "text/plain": [
       "['Jay132@gmail.com', 'Vedha123@gmail.co.in', 'sai@govt.in']"
      ]
     },
     "execution_count": 59,
     "metadata": {},
     "output_type": "execute_result"
    }
   ],
   "source": [
    "import re\n",
    "s=\"\"\"1,Jay,Jay132@gmail.com,9676622023\n",
    "Vedha,Vedha123@gmail.co.in,2,9676622024\n",
    "9676622025,3,Sai,sai@govt.in\"\"\"\n",
    "#constants.py\n",
    "email_re = re.compile(\"\\w+@[a-z]+\\.[a-z.]+\",re.I)\n",
    "# from  constants import email_re\n",
    "email_re.findall(s)"
   ]
  },
  {
   "cell_type": "code",
   "execution_count": 60,
   "metadata": {},
   "outputs": [
    {
     "data": {
      "text/plain": [
       "['1,Jay,', ',9676622023\\nVedha,', ',2,9676622024\\n9676622025,3,Sai,', '']"
      ]
     },
     "execution_count": 60,
     "metadata": {},
     "output_type": "execute_result"
    }
   ],
   "source": [
    "import re\n",
    "s=\"\"\"1,Jay,Jay132@gmail.com,9676622023\n",
    "Vedha,Vedha123@gmail.co.in,2,9676622024\n",
    "9676622025,3,Sai,sai@govt.in\"\"\"\n",
    "#constants.py\n",
    "email_re = re.compile(\"\\w+@[a-z]+\\.[a-z.]+\",re.I)\n",
    "# from  constants import email_re\n",
    "email_re.split(s)"
   ]
  },
  {
   "cell_type": "code",
   "execution_count": 62,
   "metadata": {},
   "outputs": [
    {
     "name": "stdout",
     "output_type": "stream",
     "text": [
      "['1,Jay,Jay132@gmail.com,9676622023\\nVedha,Vedha123@gmail.co.in,2,9676622024\\n9676622025,3,Sai,sai@govt.in']\n"
     ]
    }
   ],
   "source": [
    "import re\n",
    "s=\"\"\"1,Jay,Jay132@gmail.com,9676622023\n",
    "Vedha,Vedha123@gmail.co.in,2,9676622024\n",
    "9676622025,3,Sai,sai@govt.in\"\"\"\n",
    "print(s.split(\"\\w+@[a-z]+\\.[a-z.]+\"))"
   ]
  },
  {
   "cell_type": "code",
   "execution_count": null,
   "metadata": {},
   "outputs": [],
   "source": []
  }
 ],
 "metadata": {
  "kernelspec": {
   "display_name": "Python 3",
   "language": "python",
   "name": "python3"
  },
  "language_info": {
   "codemirror_mode": {
    "name": "ipython",
    "version": 3
   },
   "file_extension": ".py",
   "mimetype": "text/x-python",
   "name": "python",
   "nbconvert_exporter": "python",
   "pygments_lexer": "ipython3",
   "version": "3.7.0"
  }
 },
 "nbformat": 4,
 "nbformat_minor": 2
}
