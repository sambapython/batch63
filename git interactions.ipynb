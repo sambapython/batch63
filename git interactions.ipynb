{
 "cells": [
  {
   "cell_type": "code",
   "execution_count": 13,
   "metadata": {},
   "outputs": [],
   "source": [
    "import requests\n",
    "username=\"jagannath.v.patil@gmail.com\"\n",
    "password=\"jagannath@&6886\"\n"
   ]
  },
  {
   "cell_type": "code",
   "execution_count": 14,
   "metadata": {},
   "outputs": [],
   "source": [
    "url = \"https://api.github.com/user/repos\"\n",
    "resp = requests.post(url,json={\"name\":\"batch61_api\"}, auth=(username,password))"
   ]
  },
  {
   "cell_type": "code",
   "execution_count": 15,
   "metadata": {},
   "outputs": [
    {
     "data": {
      "text/plain": [
       "<Response [201]>"
      ]
     },
     "execution_count": 15,
     "metadata": {},
     "output_type": "execute_result"
    }
   ],
   "source": [
    "resp"
   ]
  },
  {
   "cell_type": "code",
   "execution_count": 16,
   "metadata": {},
   "outputs": [],
   "source": [
    "url = \"https://api.github.com/user/repos\"\n",
    "resp = requests.get(url, auth=(username,password))"
   ]
  },
  {
   "cell_type": "code",
   "execution_count": 17,
   "metadata": {},
   "outputs": [
    {
     "name": "stdout",
     "output_type": "stream",
     "text": [
      "<Response [200]>\n"
     ]
    }
   ],
   "source": [
    "print(resp)"
   ]
  },
  {
   "cell_type": "code",
   "execution_count": 19,
   "metadata": {},
   "outputs": [
    {
     "name": "stdout",
     "output_type": "stream",
     "text": [
      "[{'id': 204396588, 'node_id': 'MDEwOlJlcG9zaXRvcnkyMDQzOTY1ODg=', 'name': 'batch61_api', 'full_name': 'jagannathpatil/batch61_api', 'private': False, 'owner': {'login': 'jagannathpatil', 'id': 53415476, 'node_id': 'MDQ6VXNlcjUzNDE1NDc2', 'avatar_url': 'https://avatars3.githubusercontent.com/u/53415476?v=4', 'gravatar_id': '', 'url': 'https://api.github.com/users/jagannathpatil', 'html_url': 'https://github.com/jagannathpatil', 'followers_url': 'https://api.github.com/users/jagannathpatil/followers', 'following_url': 'https://api.github.com/users/jagannathpatil/following{/other_user}', 'gists_url': 'https://api.github.com/users/jagannathpatil/gists{/gist_id}', 'starred_url': 'https://api.github.com/users/jagannathpatil/starred{/owner}{/repo}', 'subscriptions_url': 'https://api.github.com/users/jagannathpatil/subscriptions', 'organizations_url': 'https://api.github.com/users/jagannathpatil/orgs', 'repos_url': 'https://api.github.com/users/jagannathpatil/repos', 'events_url': 'https://api.github.com/users/jagannathpatil/events{/privacy}', 'received_events_url': 'https://api.github.com/users/jagannathpatil/received_events', 'type': 'User', 'site_admin': False}, 'html_url': 'https://github.com/jagannathpatil/batch61_api', 'description': None, 'fork': False, 'url': 'https://api.github.com/repos/jagannathpatil/batch61_api', 'forks_url': 'https://api.github.com/repos/jagannathpatil/batch61_api/forks', 'keys_url': 'https://api.github.com/repos/jagannathpatil/batch61_api/keys{/key_id}', 'collaborators_url': 'https://api.github.com/repos/jagannathpatil/batch61_api/collaborators{/collaborator}', 'teams_url': 'https://api.github.com/repos/jagannathpatil/batch61_api/teams', 'hooks_url': 'https://api.github.com/repos/jagannathpatil/batch61_api/hooks', 'issue_events_url': 'https://api.github.com/repos/jagannathpatil/batch61_api/issues/events{/number}', 'events_url': 'https://api.github.com/repos/jagannathpatil/batch61_api/events', 'assignees_url': 'https://api.github.com/repos/jagannathpatil/batch61_api/assignees{/user}', 'branches_url': 'https://api.github.com/repos/jagannathpatil/batch61_api/branches{/branch}', 'tags_url': 'https://api.github.com/repos/jagannathpatil/batch61_api/tags', 'blobs_url': 'https://api.github.com/repos/jagannathpatil/batch61_api/git/blobs{/sha}', 'git_tags_url': 'https://api.github.com/repos/jagannathpatil/batch61_api/git/tags{/sha}', 'git_refs_url': 'https://api.github.com/repos/jagannathpatil/batch61_api/git/refs{/sha}', 'trees_url': 'https://api.github.com/repos/jagannathpatil/batch61_api/git/trees{/sha}', 'statuses_url': 'https://api.github.com/repos/jagannathpatil/batch61_api/statuses/{sha}', 'languages_url': 'https://api.github.com/repos/jagannathpatil/batch61_api/languages', 'stargazers_url': 'https://api.github.com/repos/jagannathpatil/batch61_api/stargazers', 'contributors_url': 'https://api.github.com/repos/jagannathpatil/batch61_api/contributors', 'subscribers_url': 'https://api.github.com/repos/jagannathpatil/batch61_api/subscribers', 'subscription_url': 'https://api.github.com/repos/jagannathpatil/batch61_api/subscription', 'commits_url': 'https://api.github.com/repos/jagannathpatil/batch61_api/commits{/sha}', 'git_commits_url': 'https://api.github.com/repos/jagannathpatil/batch61_api/git/commits{/sha}', 'comments_url': 'https://api.github.com/repos/jagannathpatil/batch61_api/comments{/number}', 'issue_comment_url': 'https://api.github.com/repos/jagannathpatil/batch61_api/issues/comments{/number}', 'contents_url': 'https://api.github.com/repos/jagannathpatil/batch61_api/contents/{+path}', 'compare_url': 'https://api.github.com/repos/jagannathpatil/batch61_api/compare/{base}...{head}', 'merges_url': 'https://api.github.com/repos/jagannathpatil/batch61_api/merges', 'archive_url': 'https://api.github.com/repos/jagannathpatil/batch61_api/{archive_format}{/ref}', 'downloads_url': 'https://api.github.com/repos/jagannathpatil/batch61_api/downloads', 'issues_url': 'https://api.github.com/repos/jagannathpatil/batch61_api/issues{/number}', 'pulls_url': 'https://api.github.com/repos/jagannathpatil/batch61_api/pulls{/number}', 'milestones_url': 'https://api.github.com/repos/jagannathpatil/batch61_api/milestones{/number}', 'notifications_url': 'https://api.github.com/repos/jagannathpatil/batch61_api/notifications{?since,all,participating}', 'labels_url': 'https://api.github.com/repos/jagannathpatil/batch61_api/labels{/name}', 'releases_url': 'https://api.github.com/repos/jagannathpatil/batch61_api/releases{/id}', 'deployments_url': 'https://api.github.com/repos/jagannathpatil/batch61_api/deployments', 'created_at': '2019-08-26T04:36:11Z', 'updated_at': '2019-08-26T04:36:11Z', 'pushed_at': '2019-08-26T04:36:12Z', 'git_url': 'git://github.com/jagannathpatil/batch61_api.git', 'ssh_url': 'git@github.com:jagannathpatil/batch61_api.git', 'clone_url': 'https://github.com/jagannathpatil/batch61_api.git', 'svn_url': 'https://github.com/jagannathpatil/batch61_api', 'homepage': None, 'size': 0, 'stargazers_count': 0, 'watchers_count': 0, 'language': None, 'has_issues': True, 'has_projects': True, 'has_downloads': True, 'has_wiki': True, 'has_pages': False, 'forks_count': 0, 'mirror_url': None, 'archived': False, 'disabled': False, 'open_issues_count': 0, 'license': None, 'forks': 0, 'open_issues': 0, 'watchers': 0, 'default_branch': 'master', 'permissions': {'admin': True, 'push': True, 'pull': True}}]\n"
     ]
    }
   ],
   "source": [
    "print(resp.json())"
   ]
  },
  {
   "cell_type": "code",
   "execution_count": 20,
   "metadata": {},
   "outputs": [],
   "source": [
    "import github"
   ]
  },
  {
   "cell_type": "code",
   "execution_count": 21,
   "metadata": {},
   "outputs": [],
   "source": [
    "from github import Github"
   ]
  },
  {
   "cell_type": "code",
   "execution_count": 22,
   "metadata": {},
   "outputs": [],
   "source": [
    "g=Github(username,password)"
   ]
  },
  {
   "cell_type": "code",
   "execution_count": 23,
   "metadata": {},
   "outputs": [
    {
     "data": {
      "text/plain": [
       "<github.MainClass.Github at 0x7f8619016f98>"
      ]
     },
     "execution_count": 23,
     "metadata": {},
     "output_type": "execute_result"
    }
   ],
   "source": [
    "g"
   ]
  },
  {
   "cell_type": "code",
   "execution_count": 24,
   "metadata": {},
   "outputs": [
    {
     "name": "stdout",
     "output_type": "stream",
     "text": [
      "['FIX_REPO_GET_GIT_REF', '_Github__get_FIX_REPO_GET_GIT_REF', '_Github__get_per_page', '_Github__requester', '_Github__set_FIX_REPO_GET_GIT_REF', '_Github__set_per_page', '__class__', '__delattr__', '__dict__', '__dir__', '__doc__', '__eq__', '__format__', '__ge__', '__getattribute__', '__gt__', '__hash__', '__init__', '__init_subclass__', '__le__', '__lt__', '__module__', '__ne__', '__new__', '__reduce__', '__reduce_ex__', '__repr__', '__setattr__', '__sizeof__', '__str__', '__subclasshook__', '__weakref__', 'create_from_raw_data', 'dump', 'get_api_status', 'get_api_status_messages', 'get_emojis', 'get_gist', 'get_gists', 'get_gitignore_template', 'get_gitignore_templates', 'get_hook', 'get_hooks', 'get_installation', 'get_last_api_status_message', 'get_license', 'get_licenses', 'get_organization', 'get_organizations', 'get_project', 'get_rate_limit', 'get_repo', 'get_repos', 'get_user', 'get_users', 'load', 'oauth_scopes', 'per_page', 'rate_limiting', 'rate_limiting_resettime', 'render_markdown', 'search_code', 'search_commits', 'search_issues', 'search_repositories', 'search_topics', 'search_users']\n"
     ]
    }
   ],
   "source": [
    "print(dir(g))"
   ]
  },
  {
   "cell_type": "code",
   "execution_count": 25,
   "metadata": {},
   "outputs": [
    {
     "data": {
      "text/plain": [
       "<github.PaginatedList.PaginatedList at 0x7f8618da40f0>"
      ]
     },
     "execution_count": 25,
     "metadata": {},
     "output_type": "execute_result"
    }
   ],
   "source": [
    "g.get_users()"
   ]
  },
  {
   "cell_type": "code",
   "execution_count": 28,
   "metadata": {},
   "outputs": [],
   "source": [
    "user = g.get_user()"
   ]
  },
  {
   "cell_type": "code",
   "execution_count": 29,
   "metadata": {},
   "outputs": [
    {
     "name": "stdout",
     "output_type": "stream",
     "text": [
      "['CHECK_AFTER_INIT_FLAG', '_CompletableGithubObject__complete', '_CompletableGithubObject__completed', '_GithubObject__makeSimpleAttribute', '_GithubObject__makeSimpleListAttribute', '_GithubObject__makeTransformedAttribute', '__class__', '__delattr__', '__dict__', '__dir__', '__doc__', '__eq__', '__format__', '__ge__', '__getattribute__', '__gt__', '__hash__', '__init__', '__init_subclass__', '__le__', '__lt__', '__module__', '__ne__', '__new__', '__reduce__', '__reduce_ex__', '__repr__', '__setattr__', '__sizeof__', '__str__', '__subclasshook__', '__weakref__', '_avatar_url', '_bio', '_blog', '_collaborators', '_company', '_completeIfNeeded', '_completeIfNotSet', '_created_at', '_disk_usage', '_email', '_events_url', '_followers', '_followers_url', '_following', '_following_url', '_gists_url', '_gravatar_id', '_headers', '_hireable', '_html_url', '_id', '_initAttributes', '_location', '_login', '_makeBoolAttribute', '_makeClassAttribute', '_makeDatetimeAttribute', '_makeDictAttribute', '_makeDictOfStringsToClassesAttribute', '_makeIntAttribute', '_makeListOfClassesAttribute', '_makeListOfDictsAttribute', '_makeListOfIntsAttribute', '_makeListOfListOfStringsAttribute', '_makeListOfStringsAttribute', '_makeStringAttribute', '_makeTimestampAttribute', '_name', '_organizations_url', '_owned_private_repos', '_parentUrl', '_plan', '_private_gists', '_public_gists', '_public_repos', '_rawData', '_received_events_url', '_repos_url', '_requester', '_site_admin', '_starred_url', '_storeAndUseAttributes', '_subscriptions_url', '_total_private_repos', '_type', '_updated_at', '_url', '_useAttributes', 'accept_invitation', 'add_to_emails', 'add_to_following', 'add_to_starred', 'add_to_subscriptions', 'add_to_watched', 'avatar_url', 'bio', 'blog', 'collaborators', 'company', 'create_authorization', 'create_fork', 'create_gist', 'create_key', 'create_migration', 'create_repo', 'created_at', 'disk_usage', 'edit', 'email', 'etag', 'events_url', 'followers', 'followers_url', 'following', 'following_url', 'get__repr__', 'get_authorization', 'get_authorizations', 'get_emails', 'get_events', 'get_followers', 'get_following', 'get_gists', 'get_issues', 'get_key', 'get_keys', 'get_migrations', 'get_notification', 'get_notifications', 'get_organization_events', 'get_orgs', 'get_repo', 'get_repos', 'get_starred', 'get_starred_gists', 'get_subscriptions', 'get_teams', 'get_user_issues', 'get_watched', 'gists_url', 'gravatar_id', 'has_in_following', 'has_in_starred', 'has_in_subscriptions', 'has_in_watched', 'hireable', 'html_url', 'id', 'last_modified', 'location', 'login', 'mark_notifications_as_read', 'name', 'organizations_url', 'owned_private_repos', 'plan', 'private_gists', 'public_gists', 'public_repos', 'raw_data', 'raw_headers', 'received_events_url', 'remove_from_emails', 'remove_from_following', 'remove_from_starred', 'remove_from_subscriptions', 'remove_from_watched', 'repos_url', 'setCheckAfterInitFlag', 'site_admin', 'starred_url', 'subscriptions_url', 'total_private_repos', 'type', 'update', 'updated_at', 'url']\n"
     ]
    }
   ],
   "source": [
    "print(dir(user))"
   ]
  },
  {
   "cell_type": "code",
   "execution_count": 31,
   "metadata": {},
   "outputs": [
    {
     "data": {
      "text/plain": [
       "Repository(full_name=\"jagannathpatil/api2\")"
      ]
     },
     "execution_count": 31,
     "metadata": {},
     "output_type": "execute_result"
    }
   ],
   "source": [
    "user.create_repo(\"api2\")"
   ]
  },
  {
   "cell_type": "code",
   "execution_count": null,
   "metadata": {},
   "outputs": [],
   "source": []
  }
 ],
 "metadata": {
  "kernelspec": {
   "display_name": "Python 3",
   "language": "python",
   "name": "python3"
  },
  "language_info": {
   "codemirror_mode": {
    "name": "ipython",
    "version": 3
   },
   "file_extension": ".py",
   "mimetype": "text/x-python",
   "name": "python",
   "nbconvert_exporter": "python",
   "pygments_lexer": "ipython3",
   "version": "3.7.0"
  }
 },
 "nbformat": 4,
 "nbformat_minor": 2
}
