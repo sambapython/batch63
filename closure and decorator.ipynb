{
 "cells": [
  {
   "cell_type": "code",
   "execution_count": 1,
   "metadata": {},
   "outputs": [
    {
     "name": "stdout",
     "output_type": "stream",
     "text": [
      "<function fun at 0x7fd8e471b730>\n"
     ]
    }
   ],
   "source": [
    "def fun():\n",
    "    print(\"this is fun\")\n",
    "res=fun\n",
    "print(res)"
   ]
  },
  {
   "cell_type": "code",
   "execution_count": 2,
   "metadata": {},
   "outputs": [
    {
     "name": "stdout",
     "output_type": "stream",
     "text": [
      "this is fun\n"
     ]
    }
   ],
   "source": [
    "def fun():\n",
    "    print(\"this is fun\")\n",
    "res=fun\n",
    "fun()"
   ]
  },
  {
   "cell_type": "code",
   "execution_count": 3,
   "metadata": {},
   "outputs": [
    {
     "name": "stdout",
     "output_type": "stream",
     "text": [
      "this is fun\n"
     ]
    }
   ],
   "source": [
    "def fun():\n",
    "    print(\"this is fun\")\n",
    "res=fun\n",
    "res()"
   ]
  },
  {
   "cell_type": "code",
   "execution_count": 4,
   "metadata": {},
   "outputs": [
    {
     "name": "stdout",
     "output_type": "stream",
     "text": [
      "this is fun\n",
      "result= None\n"
     ]
    }
   ],
   "source": [
    "def fun():\n",
    "    print(\"this is fun\")\n",
    "    \n",
    "res=fun()\n",
    "print(\"result=\",res)"
   ]
  },
  {
   "cell_type": "code",
   "execution_count": 5,
   "metadata": {},
   "outputs": [
    {
     "name": "stdout",
     "output_type": "stream",
     "text": [
      "this is fun\n",
      "result= 10\n"
     ]
    }
   ],
   "source": [
    "def fun():\n",
    "    print(\"this is fun\")\n",
    "    return 10\n",
    "res=fun()\n",
    "print(\"result=\",res)"
   ]
  },
  {
   "cell_type": "code",
   "execution_count": 6,
   "metadata": {},
   "outputs": [
    {
     "name": "stdout",
     "output_type": "stream",
     "text": [
      "this is outer\n",
      "result= 30\n"
     ]
    }
   ],
   "source": [
    "def outer():\n",
    "    print(\"this is outer\")\n",
    "    def inner():\n",
    "        print(\"this is inner\")\n",
    "        return 20\n",
    "    return 30\n",
    "res=outer()\n",
    "print(\"result=\",res)"
   ]
  },
  {
   "cell_type": "code",
   "execution_count": 7,
   "metadata": {},
   "outputs": [
    {
     "name": "stdout",
     "output_type": "stream",
     "text": [
      "this is outer\n",
      "result= <function outer.<locals>.inner at 0x7fd8e471bae8>\n"
     ]
    }
   ],
   "source": [
    "def outer():\n",
    "    print(\"this is outer\")\n",
    "    def inner():\n",
    "        print(\"this is inner\")\n",
    "        return 20\n",
    "    return inner\n",
    "res=outer()\n",
    "print(\"result=\",res)"
   ]
  },
  {
   "cell_type": "code",
   "execution_count": 8,
   "metadata": {},
   "outputs": [
    {
     "name": "stdout",
     "output_type": "stream",
     "text": [
      "this is outer\n",
      "result= <function outer.<locals>.inner at 0x7fd8e471bbf8>\n",
      "this is inner\n",
      "r1= 20\n"
     ]
    }
   ],
   "source": [
    "#closure\n",
    "def outer():\n",
    "    print(\"this is outer\")\n",
    "    def inner():\n",
    "        print(\"this is inner\")\n",
    "        return 20\n",
    "    return inner\n",
    "res=outer()\n",
    "print(\"result=\",res)\n",
    "r1=res()\n",
    "print(\"r1=\",r1)"
   ]
  },
  {
   "cell_type": "code",
   "execution_count": 9,
   "metadata": {},
   "outputs": [
    {
     "name": "stdout",
     "output_type": "stream",
     "text": [
      "result= 30\n"
     ]
    }
   ],
   "source": [
    "def add(x,y):\n",
    "    return x+y\n",
    "res=add(10,20)\n",
    "print(\"result=\",res)"
   ]
  },
  {
   "cell_type": "code",
   "execution_count": 10,
   "metadata": {},
   "outputs": [
    {
     "name": "stdout",
     "output_type": "stream",
     "text": [
      "this is outer\n",
      "result= <function outer.<locals>.inner at 0x7fd8e471bae8>\n",
      "this is inner\n",
      "r1= 3\n"
     ]
    }
   ],
   "source": [
    "def outer(f):\n",
    "    print(\"this is outer\")\n",
    "    def inner(a,b):\n",
    "        print(\"this is inner\")\n",
    "        res=f(a,b) # add(1,2) --> 3\n",
    "        return res\n",
    "    return inner\n",
    "def add(x,y):\n",
    "    return x+y\n",
    "# add is the reference of the add function object\n",
    "res=outer(add)\n",
    "# res is the reference of the inner function object\n",
    "print(\"result=\",res)\n",
    "# calling res,i.e calling inner function\n",
    "r1=res(1,2)\n",
    "print(\"r1=\",r1)\n"
   ]
  },
  {
   "cell_type": "code",
   "execution_count": 11,
   "metadata": {},
   "outputs": [
    {
     "name": "stdout",
     "output_type": "stream",
     "text": [
      "res= 30\n"
     ]
    }
   ],
   "source": [
    "def outer(f):\n",
    "    print(\"this is outer\")\n",
    "    def inner(a,b):\n",
    "        print(\"this is inner\")\n",
    "        res=f(a,b) # add(1,2) --> 3\n",
    "        return res\n",
    "    return inner\n",
    "def add(x,y):\n",
    "    return x+y\n",
    "res=add(10,20)\n",
    "print(\"res=\",res)"
   ]
  },
  {
   "cell_type": "code",
   "execution_count": 12,
   "metadata": {},
   "outputs": [
    {
     "name": "stdout",
     "output_type": "stream",
     "text": [
      "this is outer\n",
      "this is inner\n",
      "res= 30\n"
     ]
    }
   ],
   "source": [
    "def outer(f):\n",
    "    print(\"this is outer\")\n",
    "    def inner(a,b):\n",
    "        print(\"this is inner\")\n",
    "        res=f(a,b) # add(1,2) --> 3\n",
    "        return res\n",
    "    return inner\n",
    "@outer\n",
    "def add(x,y):\n",
    "    return x+y\n",
    "res=add(10,20) # it will pass add reference as an argument to the outer function, it will \n",
    "# again call the function with the return value of ouoter by passing 10,20 as an arguments.\n",
    "# it will take the return value of that.\n",
    "print(\"res=\",res)"
   ]
  },
  {
   "cell_type": "code",
   "execution_count": 13,
   "metadata": {},
   "outputs": [
    {
     "name": "stdout",
     "output_type": "stream",
     "text": [
      "this is outer\n"
     ]
    },
    {
     "ename": "TypeError",
     "evalue": "'NoneType' object is not callable",
     "output_type": "error",
     "traceback": [
      "\u001b[0;31m---------------------------------------------------------------------------\u001b[0m",
      "\u001b[0;31mTypeError\u001b[0m                                 Traceback (most recent call last)",
      "\u001b[0;32m<ipython-input-13-be683e27d1fd>\u001b[0m in \u001b[0;36m<module>\u001b[0;34m()\u001b[0m\n\u001b[1;32m      9\u001b[0m \u001b[0;32mdef\u001b[0m \u001b[0madd\u001b[0m\u001b[0;34m(\u001b[0m\u001b[0mx\u001b[0m\u001b[0;34m,\u001b[0m\u001b[0my\u001b[0m\u001b[0;34m)\u001b[0m\u001b[0;34m:\u001b[0m\u001b[0;34m\u001b[0m\u001b[0m\n\u001b[1;32m     10\u001b[0m     \u001b[0;32mreturn\u001b[0m \u001b[0mx\u001b[0m\u001b[0;34m+\u001b[0m\u001b[0my\u001b[0m\u001b[0;34m\u001b[0m\u001b[0m\n\u001b[0;32m---> 11\u001b[0;31m \u001b[0mres\u001b[0m\u001b[0;34m=\u001b[0m\u001b[0madd\u001b[0m\u001b[0;34m(\u001b[0m\u001b[0;36m10\u001b[0m\u001b[0;34m,\u001b[0m\u001b[0;36m20\u001b[0m\u001b[0;34m)\u001b[0m \u001b[0;31m# it will pass add reference as an argument to the outer function, it will\u001b[0m\u001b[0;34m\u001b[0m\u001b[0m\n\u001b[0m\u001b[1;32m     12\u001b[0m \u001b[0;31m# again call the function with the return value of ouoter by passing 10,20 as an arguments.\u001b[0m\u001b[0;34m\u001b[0m\u001b[0;34m\u001b[0m\u001b[0m\n\u001b[1;32m     13\u001b[0m \u001b[0;31m# it will take the return value of that.\u001b[0m\u001b[0;34m\u001b[0m\u001b[0;34m\u001b[0m\u001b[0m\n",
      "\u001b[0;31mTypeError\u001b[0m: 'NoneType' object is not callable"
     ]
    }
   ],
   "source": [
    "def outer(f):\n",
    "    print(\"this is outer\")\n",
    "    def inner(a,b):\n",
    "        print(\"this is inner\")\n",
    "        res=f(a,b) # add(1,2) --> 3\n",
    "        return res\n",
    "    return None\n",
    "@outer\n",
    "def add(x,y):\n",
    "    return x+y\n",
    "res=add(10,20) # it will pass add reference as an argument to the outer function, it will \n",
    "# again call the function with the return value of ouoter by passing 10,20 as an arguments.\n",
    "# it will take the return value of that.\n",
    "print(\"res=\",res)"
   ]
  },
  {
   "cell_type": "code",
   "execution_count": 14,
   "metadata": {},
   "outputs": [
    {
     "name": "stdout",
     "output_type": "stream",
     "text": [
      "30\n",
      "-1\n",
      "200\n",
      "30\n",
      "-1\n",
      "200\n",
      "30\n",
      "-1\n",
      "200\n",
      "30\n",
      "-1\n",
      "200\n",
      "30\n",
      "-1\n",
      "200\n"
     ]
    }
   ],
   "source": [
    "def add(x,y):\n",
    "    \n",
    "    return x+y\n",
    "def sub(x,y):\n",
    "    \n",
    "    return x-y\n",
    "def mul(x,y):\n",
    "    \n",
    "    return x*y\n",
    "\n",
    "print(add(10,20))\n",
    "print(sub(1,2))\n",
    "print(mul(10,20))\n",
    "print(add(10,20))\n",
    "print(sub(1,2))\n",
    "print(mul(10,20))\n",
    "print(add(10,20))\n",
    "print(sub(1,2))\n",
    "print(mul(10,20))\n",
    "print(add(10,20))\n",
    "print(sub(1,2))\n",
    "print(mul(10,20))\n",
    "print(add(10,20))\n",
    "print(sub(1,2))\n",
    "print(mul(10,20))"
   ]
  },
  {
   "cell_type": "code",
   "execution_count": 15,
   "metadata": {},
   "outputs": [
    {
     "name": "stdout",
     "output_type": "stream",
     "text": [
      "result=30\n"
     ]
    }
   ],
   "source": [
    "def validate(f):\n",
    "    def inner(*args):\n",
    "        for i in args:\n",
    "            if not isinstance(i,int):\n",
    "                return \"%s is not an integer\"\n",
    "            res=f(*args)\n",
    "            return \"result=%s\"%res\n",
    "    return inner\n",
    "@validate\n",
    "def add(x,y):\n",
    "    return x+y\n",
    "@validate\n",
    "def sub(x,y):\n",
    "    return x-y\n",
    "@validate\n",
    "def mul(x,y):\n",
    "    return x*y\n",
    "print(add(10,20))\n"
   ]
  },
  {
   "cell_type": "code",
   "execution_count": 18,
   "metadata": {},
   "outputs": [
    {
     "name": "stdout",
     "output_type": "stream",
     "text": [
      "20.3 is not an integer\n"
     ]
    }
   ],
   "source": [
    "def validate(f):\n",
    "    def inner(*args):\n",
    "        for i in args:\n",
    "            if not isinstance(i,int):\n",
    "                return \"%s is not an integer\" % i\n",
    "            \n",
    "        res=f(*args)\n",
    "        return \"result=%s\"%res\n",
    "    return inner\n",
    "@validate\n",
    "def add(x,y):\n",
    "    return x+y\n",
    "@validate\n",
    "def sub(x,y):\n",
    "    return x-y\n",
    "@validate\n",
    "def mul(x,y):\n",
    "    return x*y\n",
    "print(add(10,20.3))\n"
   ]
  },
  {
   "cell_type": "code",
   "execution_count": null,
   "metadata": {},
   "outputs": [],
   "source": []
  }
 ],
 "metadata": {
  "kernelspec": {
   "display_name": "Python 3",
   "language": "python",
   "name": "python3"
  },
  "language_info": {
   "codemirror_mode": {
    "name": "ipython",
    "version": 3
   },
   "file_extension": ".py",
   "mimetype": "text/x-python",
   "name": "python",
   "nbconvert_exporter": "python",
   "pygments_lexer": "ipython3",
   "version": "3.7.0"
  }
 },
 "nbformat": 4,
 "nbformat_minor": 2
}
